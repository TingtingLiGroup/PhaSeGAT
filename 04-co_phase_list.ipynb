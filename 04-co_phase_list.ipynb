{
 "cells": [
  {
   "cell_type": "code",
   "execution_count": 1,
   "id": "d5fb0e63-8ec2-4a7d-96d1-96a1b99dcfdb",
   "metadata": {
    "tags": []
   },
   "outputs": [],
   "source": [
    "import torch\n",
    "import pandas as pd\n",
    "import numpy as np\n",
    "import networkx as nx\n",
    "from tqdm import tqdm\n",
    "from sklearn.metrics.pairwise import cosine_similarity"
   ]
  },
  {
   "cell_type": "code",
   "execution_count": 2,
   "id": "90042b0a-a595-475e-9dce-a295ea332354",
   "metadata": {},
   "outputs": [],
   "source": [
    "import os\n",
    "os.chdir('/home/lyz/co-phase-separation/PSGAT/')\n",
    "DATA_ROOT = './data'"
   ]
  },
  {
   "cell_type": "code",
   "execution_count": 3,
   "id": "3e3c58d0-dd97-4fd1-a099-ce833ad0660b",
   "metadata": {},
   "outputs": [],
   "source": [
    "SAVE_ROOT = './saves/INTEGRATE_ProSE80d_pos1neg1/'\n",
    "preds = pd.read_pickle(f'{SAVE_ROOT}preds.pkl')\n",
    "genes = pd.read_pickle(f'{SAVE_ROOT}genes.pkl')\n",
    "N = 10"
   ]
  },
  {
   "cell_type": "code",
   "execution_count": 4,
   "id": "a93e7886-6ad3-4463-8841-1dcfabd51efc",
   "metadata": {},
   "outputs": [],
   "source": [
    "phasep_df = pd.read_pickle('./data/Label/human.condensate-formation.proteins-v1.pkl')\n",
    "lt = set(phasep_df[phasep_df['source']=='literature']['uniprot_entry'])\n",
    "pr = set(phasep_df[phasep_df['source']=='phasepred']['uniprot_entry'])\n",
    "pr = pr - lt\n",
    "dp = set(phasep_df[phasep_df['source']=='deepphase']['uniprot_entry'])\n",
    "dp = dp - pr - lt"
   ]
  },
  {
   "cell_type": "code",
   "execution_count": 5,
   "id": "3670589e-1bb0-4550-9b61-c50f21c2630b",
   "metadata": {},
   "outputs": [],
   "source": [
    "ppi = 'integrate'\n",
    "\n",
    "ppi_path = os.path.join(\n",
    "    DATA_ROOT,           \n",
    "    f'PPIN/{ppi.upper()}.csv'\n",
    ")\n",
    "edges = pd.read_csv(ppi_path)\n",
    "edges['C'] = np.sort(edges[['A', 'B']].values).sum(axis=1)\n",
    "\n",
    "for i in range(N): \n",
    "    tmp = pd.read_pickle(f'{SAVE_ROOT}edge_cosine/model_{i}.pkl')\n",
    "    edges[i] = tmp['cosim']\n",
    "edges['pred'] = edges.iloc[:, 3:].mean(axis=1)\n",
    "\n",
    "edges.loc[(edges['A'].isin(lt))&(edges['B'].isin(lt)), 'type'] = 'ps.ppi'\n",
    "edges['type'] = edges['type'].fillna('nps.ppi')"
   ]
  },
  {
   "cell_type": "markdown",
   "id": "a068645c-ff0b-4f7c-92ca-cae654d0147f",
   "metadata": {
    "tags": []
   },
   "source": [
    "# Calculation of average cosine similarity for all pairwises"
   ]
  },
  {
   "cell_type": "code",
   "execution_count": 6,
   "id": "5bfc55db-d3e2-4e38-94ec-f1e90d2a25e9",
   "metadata": {},
   "outputs": [
    {
     "name": "stderr",
     "output_type": "stream",
     "text": [
      "100%|██████████| 10/10 [02:02<00:00, 12.25s/it]\n"
     ]
    }
   ],
   "source": [
    "for n in tqdm(range(N)):\n",
    "    embed = torch.load(f'{SAVE_ROOT}embeddings/model_{n}.pt')\n",
    "    cosim = pd.DataFrame(cosine_similarity(embed))\n",
    "    cosim.columns, cosim.index = genes, genes\n",
    "    temp_dict = dict(zip(np.arange(len(cosim.columns)), cosim.columns))\n",
    "    \n",
    "    cosim_ndarray = cosim.to_numpy()\n",
    "    cosim_idx = np.tril_indices(cosim_ndarray.shape[0], -1)\n",
    "    idx0, idx1 = cosim_idx[0], cosim_idx[1]\n",
    "    cosim_tril_ndarray = cosim_ndarray[cosim_idx]\n",
    "    \n",
    "    if n == 0:\n",
    "        cosim_tril_df = pd.DataFrame({\n",
    "            'idx0': idx0,\n",
    "            'idx1': idx1,\n",
    "            f'cos.sim.{n}': cosim_tril_ndarray\n",
    "        })\n",
    "        cosim_tril_df[0] = cosim_tril_df['idx0'].map(temp_dict)\n",
    "        cosim_tril_df[1] = cosim_tril_df['idx1'].map(temp_dict)\n",
    "        cosim_tril_df[2] = np.sort(cosim_tril_df[[0, 1]].values).sum(axis=1)\n",
    "    else:\n",
    "        cosim_tril_df[f'cos.sim.{n}'] = cosim_tril_ndarray\n",
    "    \n",
    "    cosim_tril_df.loc[cosim_tril_df[f'cos.sim.{n}'] < 0, f'cos.sim.{n}'] = 0\n",
    "    cosim_tril_df.loc[cosim_tril_df[f'cos.sim.{n}'] > 1, f'cos.sim.{n}'] = 1\n",
    "    # cosim_tril_df[f'pct.rank.{n}'] = cosim_tril_df[f'cos.sim.{n}'].rank(pct=True)"
   ]
  },
  {
   "cell_type": "code",
   "execution_count": 7,
   "id": "e42c1815-c96e-471c-91d3-8f702070316a",
   "metadata": {},
   "outputs": [],
   "source": [
    "dat1 = cosim_tril_df[[0, 1, 2] + [f'cos.sim.{n}' for n in range(N)]].copy()\n",
    "dat1['mean.cos.sim'] = dat1[[f'cos.sim.{n}' for n in range(N)]].mean(axis=1)"
   ]
  },
  {
   "cell_type": "code",
   "execution_count": 8,
   "id": "fd8e5007-62e3-41fa-9cf6-f0d3ce802108",
   "metadata": {},
   "outputs": [],
   "source": [
    "dat2 = dat1[[0, 1, 2, 'mean.cos.sim']].copy()\n",
    "dat2['pct.rank'] = dat2['mean.cos.sim'].rank(pct=True)\n",
    "dat2['rank'] = dat2['mean.cos.sim'].rank()"
   ]
  },
  {
   "cell_type": "code",
   "execution_count": 9,
   "id": "56aeb7a2-a45d-4cd0-9713-bb4037a12a8c",
   "metadata": {},
   "outputs": [],
   "source": [
    "dat2.to_pickle(f'{SAVE_ROOT}05-co_phase_list.pkl')"
   ]
  }
 ],
 "metadata": {
  "kernelspec": {
   "display_name": "base",
   "language": "python",
   "name": "python3"
  },
  "language_info": {
   "codemirror_mode": {
    "name": "ipython",
    "version": 3
   },
   "file_extension": ".py",
   "mimetype": "text/x-python",
   "name": "python",
   "nbconvert_exporter": "python",
   "pygments_lexer": "ipython3",
   "version": "3.11.5"
  },
  "toc": {
   "base_numbering": 1,
   "nav_menu": {},
   "number_sections": true,
   "sideBar": true,
   "skip_h1_title": false,
   "title_cell": "Table of Contents",
   "title_sidebar": "Contents",
   "toc_cell": false,
   "toc_position": {},
   "toc_section_display": true,
   "toc_window_display": true
  },
  "toc-autonumbering": true,
  "toc-showmarkdowntxt": false,
  "toc-showtags": false
 },
 "nbformat": 4,
 "nbformat_minor": 5
}
