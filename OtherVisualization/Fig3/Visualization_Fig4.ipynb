{
 "cells": [
  {
   "cell_type": "code",
   "execution_count": 1,
   "metadata": {},
   "outputs": [],
   "source": [
    "import pandas as pd\n",
    "import numpy as np\n",
    "import networkx as nx\n",
    "from tqdm import tqdm\n",
    "import os"
   ]
  },
  {
   "cell_type": "code",
   "execution_count": null,
   "metadata": {},
   "outputs": [
    {
     "data": {
      "text/html": [
       "<div>\n",
       "<style scoped>\n",
       "    .dataframe tbody tr th:only-of-type {\n",
       "        vertical-align: middle;\n",
       "    }\n",
       "\n",
       "    .dataframe tbody tr th {\n",
       "        vertical-align: top;\n",
       "    }\n",
       "\n",
       "    .dataframe thead th {\n",
       "        text-align: right;\n",
       "    }\n",
       "</style>\n",
       "<table border=\"1\" class=\"dataframe\">\n",
       "  <thead>\n",
       "    <tr style=\"text-align: right;\">\n",
       "      <th></th>\n",
       "      <th>A</th>\n",
       "      <th>B</th>\n",
       "    </tr>\n",
       "  </thead>\n",
       "  <tbody>\n",
       "    <tr>\n",
       "      <th>0</th>\n",
       "      <td>Q9H2S6</td>\n",
       "      <td>Q9NPE6</td>\n",
       "    </tr>\n",
       "    <tr>\n",
       "      <th>1</th>\n",
       "      <td>Q9H2S6</td>\n",
       "      <td>Q9BXK5</td>\n",
       "    </tr>\n",
       "  </tbody>\n",
       "</table>\n",
       "</div>"
      ],
      "text/plain": [
       "        A       B\n",
       "0  Q9H2S6  Q9NPE6\n",
       "1  Q9H2S6  Q9BXK5"
      ]
     },
     "execution_count": 2,
     "metadata": {},
     "output_type": "execute_result"
    }
   ],
   "source": [
    "integrate = pd.read_csv(\"../data/integrate.csv\")\n",
    "integrate.head(2)"
   ]
  },
  {
   "cell_type": "code",
   "execution_count": 3,
   "metadata": {},
   "outputs": [
    {
     "data": {
      "text/plain": [
       "15939"
      ]
     },
     "execution_count": 3,
     "metadata": {},
     "output_type": "execute_result"
    }
   ],
   "source": [
    "all_genes = list(set(integrate['A'].tolist()+integrate['B'].tolist()))\n",
    "len(all_genes)"
   ]
  },
  {
   "cell_type": "code",
   "execution_count": 47,
   "metadata": {},
   "outputs": [
    {
     "data": {
      "text/plain": [
       "True"
      ]
     },
     "execution_count": 47,
     "metadata": {},
     "output_type": "execute_result"
    }
   ],
   "source": [
    "'P49450' in all_genes"
   ]
  },
  {
   "cell_type": "code",
   "execution_count": null,
   "metadata": {},
   "outputs": [],
   "source": [
    "SAVE_ROOT = 'home/lyz/PhaSepGAT/saves/INTEGRATE_ProSE80d_pos1neg1/'\n",
    "preds = pd.read_pickle(f'{SAVE_ROOT}preds.pkl')\n",
    "genes = pd.read_pickle(f'{SAVE_ROOT}genes.pkl')"
   ]
  },
  {
   "cell_type": "code",
   "execution_count": 5,
   "metadata": {},
   "outputs": [],
   "source": [
    "genename_to_uniprot = pd.read_pickle(\"../data/HUMAN_9606_idmapping_genename.pkl\")\n",
    "genename_to_uniprot_integrate = genename_to_uniprot.set_index(['Uniprot']).loc[list(set(genes)&set(genename_to_uniprot['Uniprot'].tolist())),:].reset_index()\n",
    "\n",
    "genename_to_uniprot_dict = genename_to_uniprot_integrate.set_index(['ID']).to_dict()['Uniprot']\n",
    "uniprot_to_genename_dict = genename_to_uniprot_integrate.set_index(['Uniprot']).to_dict()['ID']"
   ]
  },
  {
   "cell_type": "code",
   "execution_count": 6,
   "metadata": {},
   "outputs": [],
   "source": [
    "llps_scores = pd.read_pickle(\"../data/HUMAN_9606_PhaSePred_SaPS_PdPS.pkl\")\n",
    "llps_dict = llps_scores.set_index(['entry']).to_dict()"
   ]
  },
  {
   "cell_type": "code",
   "execution_count": 7,
   "metadata": {},
   "outputs": [],
   "source": [
    "import json"
   ]
  },
  {
   "cell_type": "code",
   "execution_count": 9,
   "metadata": {},
   "outputs": [],
   "source": [
    "#with open(\"../data/cophase_data.json\",'w') as f:\n",
    "#    json.dump(co_phase_data_dict,fp=f)"
   ]
  },
  {
   "cell_type": "code",
   "execution_count": 52,
   "metadata": {},
   "outputs": [],
   "source": [
    "with open(\"../data/cophase_data.json\",'r') as f:\n",
    "    co_phase_data_dict = json.load(f)"
   ]
  },
  {
   "cell_type": "markdown",
   "metadata": {},
   "source": [
    "## Deleting existed PPIs in Integreted Human PPI Network"
   ]
  },
  {
   "cell_type": "code",
   "execution_count": 69,
   "metadata": {},
   "outputs": [
    {
     "data": {
      "text/plain": [
       "220"
      ]
     },
     "execution_count": 69,
     "metadata": {},
     "output_type": "execute_result"
    }
   ],
   "source": [
    "data_files = os.listdir(\"./promixity\")\n",
    "len(data_files)"
   ]
  },
  {
   "cell_type": "code",
   "execution_count": 70,
   "metadata": {},
   "outputs": [],
   "source": [
    "all_summary = []"
   ]
  },
  {
   "cell_type": "code",
   "execution_count": 71,
   "metadata": {
    "scrolled": true
   },
   "outputs": [
    {
     "name": "stderr",
     "output_type": "stream",
     "text": [
      "100%|██████████| 220/220 [00:34<00:00,  6.45it/s]"
     ]
    },
    {
     "name": "stdout",
     "output_type": "stream",
     "text": [
      "219\n"
     ]
    },
    {
     "name": "stderr",
     "output_type": "stream",
     "text": [
      "\n"
     ]
    }
   ],
   "source": [
    "for k in tqdm(range(len(data_files))):\n",
    "    f = data_files[k]\n",
    "    data = pd.read_csv(f\"./promixity/{f}\")\n",
    "    \n",
    "    bait = data.loc[0,'Bait_uniprot']\n",
    "    bait_g = data.loc[0,'Bait Gene']\n",
    "    \n",
    "    if bait in all_genes:\n",
    "        preys = data['Prey_uniprot'].tolist()\n",
    "        preys_in_net = list(set(preys)&set(integrate['A'].tolist()+integrate['B'].tolist()))\n",
    "\n",
    "        edges_integrate = pd.concat([integrate[integrate['A']==bait], integrate[integrate['B']==bait]])\n",
    "        edges_partners = list(set(edges_integrate['A'].tolist()) | set(edges_integrate['B'].tolist()))\n",
    "\n",
    "        partners_not_in_net = [i for i in preys_in_net if i not in edges_partners]\n",
    "        partners_not_in_net = [i for i in partners_not_in_net if i != bait]\n",
    "\n",
    "        data_filtered = pd.DataFrame(index=range(len(partners_not_in_net)))\n",
    "        data_filtered['Bait Gene'] = [bait_g]*len(data_filtered)\n",
    "        data_filtered['Bait_uniprot'] = [bait]*len(data_filtered)\n",
    "        data_filtered['Prey_uniprot'] = partners_not_in_net\n",
    "        data_filtered['article'] = [f[:-4].split('_')[0]]*len(data_filtered)\n",
    "        data_filtered['Prey Gene'] = data_filtered['Prey_uniprot'].map(uniprot_to_genename_dict)\n",
    "        data_filtered['Bait_SaPS-10fea'] = data_filtered['Bait_uniprot'].map(llps_dict['SaPS-10fea'])\n",
    "        data_filtered['Bait_PdPS-10fea'] = data_filtered['Bait_uniprot'].map(llps_dict['PdPS-10fea'])\n",
    "        data_filtered['Prey_SaPS-10fea'] = data_filtered['Prey_uniprot'].map(llps_dict['SaPS-10fea'])\n",
    "        data_filtered['Prey_PdPS-10fea'] = data_filtered['Prey_uniprot'].map(llps_dict['PdPS-10fea'])\n",
    "        \n",
    "        data_filtered = data_filtered.dropna(subset=['Prey_SaPS-10fea'])\n",
    "\n",
    "        cossim_list = []\n",
    "        for p in partners_not_in_net:\n",
    "            try:\n",
    "                cossim_list.append(co_phase_data_dict[bait+p])\n",
    "            except:\n",
    "                cossim_list.append(co_phase_data_dict[p+bait])\n",
    "        data_filtered['cos.sim'] = cossim_list\n",
    "\n",
    "        data_filtered.to_csv(f'./promixity_filtered/{f}',index=False)\n",
    "        if bait == 'Q01130':\n",
    "            print(k)\n",
    "        all_summary.append([bait_g, bait, len(preys),len(preys_in_net),len(partners_not_in_net),f[:-4].split('_')[0]])"
   ]
  },
  {
   "cell_type": "code",
   "execution_count": 72,
   "metadata": {},
   "outputs": [],
   "source": [
    "all_summary = pd.DataFrame(all_summary,columns=['Gene','Uniprot','Preys','Preys in net','Preys not in edges','PMID'])"
   ]
  },
  {
   "cell_type": "code",
   "execution_count": 73,
   "metadata": {},
   "outputs": [
    {
     "data": {
      "text/html": [
       "<div>\n",
       "<style scoped>\n",
       "    .dataframe tbody tr th:only-of-type {\n",
       "        vertical-align: middle;\n",
       "    }\n",
       "\n",
       "    .dataframe tbody tr th {\n",
       "        vertical-align: top;\n",
       "    }\n",
       "\n",
       "    .dataframe thead th {\n",
       "        text-align: right;\n",
       "    }\n",
       "</style>\n",
       "<table border=\"1\" class=\"dataframe\">\n",
       "  <thead>\n",
       "    <tr style=\"text-align: right;\">\n",
       "      <th></th>\n",
       "      <th>Gene</th>\n",
       "      <th>Uniprot</th>\n",
       "      <th>Preys</th>\n",
       "      <th>Preys in net</th>\n",
       "      <th>Preys not in edges</th>\n",
       "      <th>PMID</th>\n",
       "    </tr>\n",
       "  </thead>\n",
       "  <tbody>\n",
       "    <tr>\n",
       "      <th>215</th>\n",
       "      <td>SC35</td>\n",
       "      <td>Q01130</td>\n",
       "      <td>2527</td>\n",
       "      <td>2520</td>\n",
       "      <td>2497</td>\n",
       "      <td>32609799</td>\n",
       "    </tr>\n",
       "  </tbody>\n",
       "</table>\n",
       "</div>"
      ],
      "text/plain": [
       "     Gene Uniprot  Preys  Preys in net  Preys not in edges      PMID\n",
       "215  SC35  Q01130   2527          2520                2497  32609799"
      ]
     },
     "execution_count": 73,
     "metadata": {},
     "output_type": "execute_result"
    }
   ],
   "source": [
    "all_summary[all_summary['Uniprot']=='Q01130']"
   ]
  },
  {
   "cell_type": "code",
   "execution_count": 75,
   "metadata": {},
   "outputs": [],
   "source": [
    "all_summary['Bait_SaPS-10fea'] = all_summary['Uniprot'].map(llps_dict['SaPS-10fea'])\n",
    "all_summary['Bait_PdPS-10fea'] = all_summary['Uniprot'].map(llps_dict['PdPS-10fea'])"
   ]
  },
  {
   "cell_type": "code",
   "execution_count": 76,
   "metadata": {},
   "outputs": [],
   "source": [
    "all_summary.to_csv(\"promixity_summary_all.csv\",index=False)"
   ]
  },
  {
   "cell_type": "markdown",
   "metadata": {},
   "source": [
    "## For one protein, comparing with background"
   ]
  },
  {
   "cell_type": "code",
   "execution_count": 2,
   "metadata": {},
   "outputs": [],
   "source": [
    "llps_proteins_list = ['Q01130','Q13283']\n",
    "unllps_proteins_list = ['P49450','P22001']"
   ]
  },
  {
   "cell_type": "code",
   "execution_count": 12,
   "metadata": {},
   "outputs": [],
   "source": [
    "backgrounds_all = pd.DataFrame()\n",
    "real_all =[]"
   ]
  },
  {
   "cell_type": "code",
   "execution_count": 13,
   "metadata": {},
   "outputs": [],
   "source": [
    "for p in llps_proteins_list:\n",
    "    background_distribution1 = pd.read_csv(f\"./background/{p}.csv\")\n",
    "    real_values1 = pd.read_csv(f\"./promixity_combined/{p}.csv\")\n",
    "\n",
    "    background_distribution1 = background_distribution1.loc[:,['mean_cossim']]\n",
    "    background_distribution1['class'] = [p]*len(background_distribution1)\n",
    "    backgrounds_all = pd.concat([backgrounds_all,background_distribution1])\n",
    "    real_all.append(np.mean(real_values1['cos.sim'].tolist()))\n",
    "\n",
    "for p in unllps_proteins_list:\n",
    "    background_distribution1 = pd.read_csv(f\"./background/{p}.csv\")\n",
    "    real_values1 = pd.read_csv(f\"./promixity_combined/{p}.csv\")\n",
    "\n",
    "    background_distribution1 = background_distribution1.loc[:,['mean_cossim']]\n",
    "    background_distribution1['class'] = [p]*len(background_distribution1)\n",
    "    backgrounds_all = pd.concat([backgrounds_all,background_distribution1])\n",
    "    real_all.append(np.mean(real_values1['cos.sim'].tolist()))\n"
   ]
  },
  {
   "cell_type": "code",
   "execution_count": 14,
   "metadata": {},
   "outputs": [
    {
     "data": {
      "text/html": [
       "<div>\n",
       "<style scoped>\n",
       "    .dataframe tbody tr th:only-of-type {\n",
       "        vertical-align: middle;\n",
       "    }\n",
       "\n",
       "    .dataframe tbody tr th {\n",
       "        vertical-align: top;\n",
       "    }\n",
       "\n",
       "    .dataframe thead th {\n",
       "        text-align: right;\n",
       "    }\n",
       "</style>\n",
       "<table border=\"1\" class=\"dataframe\">\n",
       "  <thead>\n",
       "    <tr style=\"text-align: right;\">\n",
       "      <th></th>\n",
       "      <th>mean_cossim</th>\n",
       "      <th>class</th>\n",
       "    </tr>\n",
       "  </thead>\n",
       "  <tbody>\n",
       "    <tr>\n",
       "      <th>0</th>\n",
       "      <td>0.410920</td>\n",
       "      <td>Q01130</td>\n",
       "    </tr>\n",
       "    <tr>\n",
       "      <th>1</th>\n",
       "      <td>0.410968</td>\n",
       "      <td>Q01130</td>\n",
       "    </tr>\n",
       "    <tr>\n",
       "      <th>2</th>\n",
       "      <td>0.412679</td>\n",
       "      <td>Q01130</td>\n",
       "    </tr>\n",
       "    <tr>\n",
       "      <th>3</th>\n",
       "      <td>0.413910</td>\n",
       "      <td>Q01130</td>\n",
       "    </tr>\n",
       "    <tr>\n",
       "      <th>4</th>\n",
       "      <td>0.417487</td>\n",
       "      <td>Q01130</td>\n",
       "    </tr>\n",
       "    <tr>\n",
       "      <th>...</th>\n",
       "      <td>...</td>\n",
       "      <td>...</td>\n",
       "    </tr>\n",
       "    <tr>\n",
       "      <th>995</th>\n",
       "      <td>0.107589</td>\n",
       "      <td>P22001</td>\n",
       "    </tr>\n",
       "    <tr>\n",
       "      <th>996</th>\n",
       "      <td>0.116170</td>\n",
       "      <td>P22001</td>\n",
       "    </tr>\n",
       "    <tr>\n",
       "      <th>997</th>\n",
       "      <td>0.112703</td>\n",
       "      <td>P22001</td>\n",
       "    </tr>\n",
       "    <tr>\n",
       "      <th>998</th>\n",
       "      <td>0.111204</td>\n",
       "      <td>P22001</td>\n",
       "    </tr>\n",
       "    <tr>\n",
       "      <th>999</th>\n",
       "      <td>0.112725</td>\n",
       "      <td>P22001</td>\n",
       "    </tr>\n",
       "  </tbody>\n",
       "</table>\n",
       "<p>4000 rows × 2 columns</p>\n",
       "</div>"
      ],
      "text/plain": [
       "     mean_cossim   class\n",
       "0       0.410920  Q01130\n",
       "1       0.410968  Q01130\n",
       "2       0.412679  Q01130\n",
       "3       0.413910  Q01130\n",
       "4       0.417487  Q01130\n",
       "..           ...     ...\n",
       "995     0.107589  P22001\n",
       "996     0.116170  P22001\n",
       "997     0.112703  P22001\n",
       "998     0.111204  P22001\n",
       "999     0.112725  P22001\n",
       "\n",
       "[4000 rows x 2 columns]"
      ]
     },
     "execution_count": 14,
     "metadata": {},
     "output_type": "execute_result"
    }
   ],
   "source": [
    "backgrounds_all"
   ]
  },
  {
   "cell_type": "code",
   "execution_count": 8,
   "metadata": {},
   "outputs": [],
   "source": [
    "import matplotlib.pyplot as plt  \n",
    "%matplotlib inline\n",
    "%config InlineBackend.figure_format = 'jpg'\n",
    "import seaborn as sns\n",
    "import matplotlib as mpl\n",
    "mpl.rcParams['figure.dpi']= 300"
   ]
  },
  {
   "cell_type": "code",
   "execution_count": 15,
   "metadata": {},
   "outputs": [
    {
     "data": {
      "image/jpeg": "[encoded data removed]",
      "text/plain": [
       "<Figure size 600x450 with 1 Axes>"
      ]
     },
     "metadata": {},
     "output_type": "display_data"
    }
   ],
   "source": [
    "fig = plt.subplots(figsize=(2,1.5),dpi=300) \n",
    "sns.set_style('white')\n",
    "\n",
    "\n",
    "sns.boxplot(data=backgrounds_all,x='mean_cossim',y='class',showfliers=False,color='black',fill=False,linewidth=0.5)\n",
    "\n",
    "for i in range(2):\n",
    "    plt.scatter(y=i,x=real_all[i],s=10,color='firebrick')\n",
    "\n",
    "for i in range(2,4):\n",
    "    plt.scatter(y=i,x=real_all[i],s=10,color='lightcoral')\n",
    "\n",
    "sns.despine()\n",
    "\n",
    "plt.savefig(f\"./Fig4B_new.png\",bbox_inches = 'tight')\n",
    "plt.savefig(f\"./Fig4B_new.svg\",bbox_inches = 'tight',format='svg')"
   ]
  },
  {
   "cell_type": "markdown",
   "metadata": {},
   "source": [
    "## Comparing cisine similarity with random background"
   ]
  },
  {
   "cell_type": "code",
   "execution_count": 98,
   "metadata": {},
   "outputs": [
    {
     "data": {
      "text/plain": [
       "216"
      ]
     },
     "execution_count": 98,
     "metadata": {},
     "output_type": "execute_result"
    }
   ],
   "source": [
    "data_files = os.listdir(\"./promixity_filtered\")\n",
    "len(data_files)"
   ]
  },
  {
   "cell_type": "code",
   "execution_count": 99,
   "metadata": {},
   "outputs": [
    {
     "data": {
      "text/plain": [
       "'17289661_Q9NZI8.csv'"
      ]
     },
     "execution_count": 99,
     "metadata": {},
     "output_type": "execute_result"
    }
   ],
   "source": [
    "data_files[0]"
   ]
  },
  {
   "cell_type": "code",
   "execution_count": 79,
   "metadata": {},
   "outputs": [],
   "source": [
    "import random\n",
    "import scipy.stats as stats"
   ]
  },
  {
   "cell_type": "code",
   "execution_count": 80,
   "metadata": {},
   "outputs": [
    {
     "name": "stderr",
     "output_type": "stream",
     "text": [
      "100%|██████████| 216/216 [25:50<00:00,  7.18s/it]\n"
     ]
    }
   ],
   "source": [
    "for k in tqdm(range(len(data_files))):\n",
    "    f = data_files[k]\n",
    "    data = pd.read_csv(f\"./promixity_filtered/{f}\")\n",
    "    \n",
    "    \n",
    "    bait = data.loc[0,'Bait_uniprot']\n",
    "    bait_g = data.loc[0,'Bait Gene']\n",
    "    bait_saps = data.loc[0,'Bait_SaPS-10fea']\n",
    "    bait_pdps = data.loc[0,'Bait_PdPS-10fea']\n",
    "    \n",
    "    bait_data = [i for i in list(co_phase_data_dict.keys()) if bait in i]\n",
    "    bait_cossim = [co_phase_data_dict[i] for i in bait_data]\n",
    "    bait_with_cossim = pd.DataFrame(index=range(len(bait_data)))\n",
    "    bait_with_cossim['Prey_uniprot'] = bait_data\n",
    "    bait_with_cossim['cossim'] = bait_cossim\n",
    "    bait_with_cossim.to_csv(f\"./all_partners_cossim/{bait}.csv\")\n",
    "    "
   ]
  },
  {
   "cell_type": "code",
   "execution_count": null,
   "metadata": {},
   "outputs": [],
   "source": [
    "# 合并相同蛋白"
   ]
  },
  {
   "cell_type": "code",
   "execution_count": 82,
   "metadata": {},
   "outputs": [
    {
     "data": {
      "text/plain": [
       "203"
      ]
     },
     "execution_count": 82,
     "metadata": {},
     "output_type": "execute_result"
    }
   ],
   "source": [
    "len(os.listdir(f\"./all_partners_cossim/\"))"
   ]
  },
  {
   "cell_type": "code",
   "execution_count": 140,
   "metadata": {},
   "outputs": [
    {
     "data": {
      "text/plain": [
       "370"
      ]
     },
     "execution_count": 140,
     "metadata": {},
     "output_type": "execute_result"
    }
   ],
   "source": [
    "all_uniprot = []\n",
    "for i in data_files:\n",
    "    all_uniprot.append(i[1:].split('.')[0].split('_')[1])\n",
    "all_uniprot = np.unique(all_uniprot).tolist()\n",
    "len(all_uniprot)"
   ]
  },
  {
   "cell_type": "code",
   "execution_count": 141,
   "metadata": {},
   "outputs": [],
   "source": [
    "data_summary = []"
   ]
  },
  {
   "cell_type": "code",
   "execution_count": 142,
   "metadata": {},
   "outputs": [
    {
     "name": "stderr",
     "output_type": "stream",
     "text": [
      "100%|██████████| 370/370 [00:46<00:00,  7.98it/s]\n"
     ]
    }
   ],
   "source": [
    "for p in tqdm(all_uniprot):\n",
    "    this_p_file = [i for i in data_files if p in i]\n",
    "    \n",
    "    pmid = ''\n",
    "    \n",
    "    this_p_data_all = pd.DataFrame()\n",
    "    for pf in this_p_file:\n",
    "        #data_pf = pd.read_csv('./promixity_filtered/'+pf)\n",
    "        data_pf = pd.read_csv(pf)\n",
    "        this_p_data_all = pd.concat([this_p_data_all,data_pf])\n",
    "        pmid+=pf.split('/')[2].split('_')[0]+', '\n",
    "        #pmid+=pf.split('_')[0]+', '\n",
    "        \n",
    "    this_p_data_all = this_p_data_all.drop_duplicates(subset=['Prey_uniprot'])\n",
    "    this_p_data_all.to_csv(f\"./promixity_combined/{p}.csv\")\n",
    "    \n",
    "    data_summary.append([p,len(this_p_data_all),pmid[:-2]])"
   ]
  },
  {
   "cell_type": "code",
   "execution_count": 113,
   "metadata": {},
   "outputs": [],
   "source": [
    "data_summary_df = pd.DataFrame(data_summary,columns = ['uniprot','Num_preys','PMID'])\n",
    "data_summary_df['SaPS-10fea'] = data_summary_df['uniprot'].map(llps_dict['SaPS-10fea'])\n",
    "data_summary_df['PdPS-10fea'] = data_summary_df['uniprot'].map(llps_dict['PdPS-10fea'])\n",
    "data_summary_df['SaPS-8fea'] = data_summary_df['uniprot'].map(llps_dict['SaPS-8fea'])\n",
    "data_summary_df['PdPS-8fea'] = data_summary_df['uniprot'].map(llps_dict['PdPS-8fea'])"
   ]
  },
  {
   "cell_type": "code",
   "execution_count": 114,
   "metadata": {},
   "outputs": [
    {
     "data": {
      "text/html": [
       "<div>\n",
       "<style scoped>\n",
       "    .dataframe tbody tr th:only-of-type {\n",
       "        vertical-align: middle;\n",
       "    }\n",
       "\n",
       "    .dataframe tbody tr th {\n",
       "        vertical-align: top;\n",
       "    }\n",
       "\n",
       "    .dataframe thead th {\n",
       "        text-align: right;\n",
       "    }\n",
       "</style>\n",
       "<table border=\"1\" class=\"dataframe\">\n",
       "  <thead>\n",
       "    <tr style=\"text-align: right;\">\n",
       "      <th></th>\n",
       "      <th>uniprot</th>\n",
       "      <th>Num_preys</th>\n",
       "      <th>PMID</th>\n",
       "      <th>SaPS-10fea</th>\n",
       "      <th>PdPS-10fea</th>\n",
       "      <th>SaPS-8fea</th>\n",
       "      <th>PdPS-8fea</th>\n",
       "    </tr>\n",
       "  </thead>\n",
       "  <tbody>\n",
       "    <tr>\n",
       "      <th>0</th>\n",
       "      <td>A0AV96</td>\n",
       "      <td>146</td>\n",
       "      <td>29395067</td>\n",
       "      <td>0.329001</td>\n",
       "      <td>0.257143</td>\n",
       "      <td>0.335920</td>\n",
       "      <td>0.367314</td>\n",
       "    </tr>\n",
       "    <tr>\n",
       "      <th>1</th>\n",
       "      <td>A0FGR8</td>\n",
       "      <td>149</td>\n",
       "      <td>37931956</td>\n",
       "      <td>0.421148</td>\n",
       "      <td>0.709921</td>\n",
       "      <td>0.075430</td>\n",
       "      <td>0.336415</td>\n",
       "    </tr>\n",
       "    <tr>\n",
       "      <th>2</th>\n",
       "      <td>A5YKK6</td>\n",
       "      <td>8</td>\n",
       "      <td>29395067</td>\n",
       "      <td>0.167426</td>\n",
       "      <td>0.152646</td>\n",
       "      <td>0.536207</td>\n",
       "      <td>0.404258</td>\n",
       "    </tr>\n",
       "    <tr>\n",
       "      <th>3</th>\n",
       "      <td>O00178</td>\n",
       "      <td>26</td>\n",
       "      <td>29395067</td>\n",
       "      <td>0.713772</td>\n",
       "      <td>0.446460</td>\n",
       "      <td>0.269502</td>\n",
       "      <td>0.484926</td>\n",
       "    </tr>\n",
       "    <tr>\n",
       "      <th>4</th>\n",
       "      <td>O00244</td>\n",
       "      <td>49</td>\n",
       "      <td>34550632</td>\n",
       "      <td>0.173481</td>\n",
       "      <td>0.399118</td>\n",
       "      <td>0.072456</td>\n",
       "      <td>0.433647</td>\n",
       "    </tr>\n",
       "    <tr>\n",
       "      <th>...</th>\n",
       "      <td>...</td>\n",
       "      <td>...</td>\n",
       "      <td>...</td>\n",
       "      <td>...</td>\n",
       "      <td>...</td>\n",
       "      <td>...</td>\n",
       "      <td>...</td>\n",
       "    </tr>\n",
       "    <tr>\n",
       "      <th>198</th>\n",
       "      <td>Q9Y3F4</td>\n",
       "      <td>7</td>\n",
       "      <td>29395067</td>\n",
       "      <td>0.288940</td>\n",
       "      <td>0.477604</td>\n",
       "      <td>0.062340</td>\n",
       "      <td>0.162144</td>\n",
       "    </tr>\n",
       "    <tr>\n",
       "      <th>199</th>\n",
       "      <td>Q9Y4F3</td>\n",
       "      <td>51</td>\n",
       "      <td>29395067</td>\n",
       "      <td>0.109177</td>\n",
       "      <td>0.290736</td>\n",
       "      <td>0.161058</td>\n",
       "      <td>0.574381</td>\n",
       "    </tr>\n",
       "    <tr>\n",
       "      <th>200</th>\n",
       "      <td>Q9Y4Z0</td>\n",
       "      <td>52</td>\n",
       "      <td>29395067</td>\n",
       "      <td>0.093078</td>\n",
       "      <td>0.261316</td>\n",
       "      <td>0.560568</td>\n",
       "      <td>0.396553</td>\n",
       "    </tr>\n",
       "    <tr>\n",
       "      <th>201</th>\n",
       "      <td>Q9Y5A9</td>\n",
       "      <td>125</td>\n",
       "      <td>29395067</td>\n",
       "      <td>0.942175</td>\n",
       "      <td>0.901862</td>\n",
       "      <td>0.938018</td>\n",
       "      <td>0.812827</td>\n",
       "    </tr>\n",
       "    <tr>\n",
       "      <th>202</th>\n",
       "      <td>Q9Y6M1</td>\n",
       "      <td>111</td>\n",
       "      <td>29395067</td>\n",
       "      <td>0.716962</td>\n",
       "      <td>0.877932</td>\n",
       "      <td>0.214298</td>\n",
       "      <td>0.731596</td>\n",
       "    </tr>\n",
       "  </tbody>\n",
       "</table>\n",
       "<p>203 rows × 7 columns</p>\n",
       "</div>"
      ],
      "text/plain": [
       "    uniprot  Num_preys      PMID  SaPS-10fea  PdPS-10fea  SaPS-8fea  PdPS-8fea\n",
       "0    A0AV96        146  29395067    0.329001    0.257143   0.335920   0.367314\n",
       "1    A0FGR8        149  37931956    0.421148    0.709921   0.075430   0.336415\n",
       "2    A5YKK6          8  29395067    0.167426    0.152646   0.536207   0.404258\n",
       "3    O00178         26  29395067    0.713772    0.446460   0.269502   0.484926\n",
       "4    O00244         49  34550632    0.173481    0.399118   0.072456   0.433647\n",
       "..      ...        ...       ...         ...         ...        ...        ...\n",
       "198  Q9Y3F4          7  29395067    0.288940    0.477604   0.062340   0.162144\n",
       "199  Q9Y4F3         51  29395067    0.109177    0.290736   0.161058   0.574381\n",
       "200  Q9Y4Z0         52  29395067    0.093078    0.261316   0.560568   0.396553\n",
       "201  Q9Y5A9        125  29395067    0.942175    0.901862   0.938018   0.812827\n",
       "202  Q9Y6M1        111  29395067    0.716962    0.877932   0.214298   0.731596\n",
       "\n",
       "[203 rows x 7 columns]"
      ]
     },
     "execution_count": 114,
     "metadata": {},
     "output_type": "execute_result"
    }
   ],
   "source": [
    "data_summary_df"
   ]
  },
  {
   "cell_type": "code",
   "execution_count": 116,
   "metadata": {},
   "outputs": [],
   "source": [
    "data_summary_df.to_csv(\"Proximity_combined.csv\",index=None)"
   ]
  },
  {
   "cell_type": "code",
   "execution_count": 115,
   "metadata": {},
   "outputs": [
    {
     "data": {
      "text/plain": [
       "203"
      ]
     },
     "execution_count": 115,
     "metadata": {},
     "output_type": "execute_result"
    }
   ],
   "source": [
    "len(os.listdir(f\"./promixity_combined/\"))"
   ]
  },
  {
   "cell_type": "code",
   "execution_count": 120,
   "metadata": {},
   "outputs": [],
   "source": [
    "data_files = os.listdir(f\"./promixity_combined/\")"
   ]
  },
  {
   "cell_type": "code",
   "execution_count": 121,
   "metadata": {},
   "outputs": [],
   "source": [
    "all_bait_compare_summary = []"
   ]
  },
  {
   "cell_type": "code",
   "execution_count": 122,
   "metadata": {},
   "outputs": [
    {
     "name": "stderr",
     "output_type": "stream",
     "text": [
      "100%|██████████| 203/203 [31:30<00:00,  9.31s/it]\n"
     ]
    }
   ],
   "source": [
    "for k in tqdm(range(len(data_files))):\n",
    "    f = data_files[k]\n",
    "    data = pd.read_csv(f\"./promixity_combined/{f}\")\n",
    "\n",
    "    data = data.drop_duplicates(subset=['Prey_uniprot'])\n",
    "    \n",
    "    bait = data.loc[0,'Bait_uniprot']\n",
    "    bait_g = data.loc[0,'Bait Gene']\n",
    "    bait_saps = data.loc[0,'Bait_SaPS-10fea']\n",
    "    bait_pdps = data.loc[0,'Bait_PdPS-10fea']\n",
    "    #articles = ','.join([str(i) for i in data.drop_duplicates(subset=['article'])['article'].tolist()])\n",
    "    \n",
    "    cossim = data['cos.sim'].tolist()\n",
    "\n",
    "    bait_with_cossim = pd.read_csv(f\"./all_partners_cossim/{bait}.csv\")\n",
    "    \n",
    "    \n",
    "    \n",
    "    background_list = []\n",
    "    for m in range(1000):\n",
    "        random_background = bait_with_cossim.sample(n=len(data),random_state=m)\n",
    "        random_cossim = random_background['cossim'].tolist()\n",
    "        pv = stats.mannwhitneyu(cossim,random_cossim,alternative='greater')[1]\n",
    "        mean_cossim = np.mean(random_cossim)\n",
    "        background_list.append([','.join(random_background['Prey_uniprot'].tolist()),','.join([str(i) for i in random_cossim]),mean_cossim,pv])\n",
    "    \n",
    "    background_df = pd.DataFrame(background_list,columns=['protein_list','cos.sim','mean_cossim','pv'])\n",
    "    background_df.to_csv(f\"./background/{bait}.csv\")\n",
    "    \n",
    "    zscore = (np.mean(cossim)-np.mean(background_df['mean_cossim'].tolist()))/np.std(background_df['mean_cossim'].tolist())\n",
    "    \n",
    "    all_bait_compare_summary.append([bait,bait_g,bait_saps,bait_pdps,len(data),np.mean(background_df['pv'].tolist()),zscore])\n"
   ]
  },
  {
   "cell_type": "code",
   "execution_count": 123,
   "metadata": {},
   "outputs": [],
   "source": [
    "pmid_df = []"
   ]
  },
  {
   "cell_type": "code",
   "execution_count": 124,
   "metadata": {},
   "outputs": [
    {
     "name": "stderr",
     "output_type": "stream",
     "text": [
      "100%|██████████| 203/203 [00:00<00:00, 353.18it/s]\n"
     ]
    }
   ],
   "source": [
    "for k in tqdm(range(len(data_files))):\n",
    "    f = data_files[k]\n",
    "    data = pd.read_csv(f\"./promixity_combined/{f}\")\n",
    "    data = data.drop_duplicates(subset=['Prey_uniprot'])\n",
    "    \n",
    "    bait = data.loc[0,'Bait_uniprot']\n",
    "    bait_g = data.loc[0,'Bait Gene']\n",
    "    bait_saps = data.loc[0,'Bait_SaPS-10fea']\n",
    "    bait_pdps = data.loc[0,'Bait_PdPS-10fea']\n",
    "    pmids = ', '.join([str(i) for i in data.drop_duplicates(subset=['article'],keep='first')['article'].tolist()])\n",
    "    \n",
    "\n",
    "\n",
    "    pmid_df.append([bait,bait_g,bait_saps,pmids])\n"
   ]
  },
  {
   "cell_type": "code",
   "execution_count": 125,
   "metadata": {},
   "outputs": [],
   "source": [
    "pmid_df = pd.DataFrame(pmid_df,columns=['Gene','Uniprot','SaPS','article'])"
   ]
  },
  {
   "cell_type": "code",
   "execution_count": 126,
   "metadata": {},
   "outputs": [],
   "source": [
    "pmid_df.to_csv(\"tmp.csv\")"
   ]
  },
  {
   "cell_type": "code",
   "execution_count": 127,
   "metadata": {},
   "outputs": [],
   "source": [
    "all_bait_compare_summary_df = pd.DataFrame(all_bait_compare_summary,columns=['Gene','Uniprot','SaPS','PdPS','num_Preys','mean_pv','zscore'])"
   ]
  },
  {
   "cell_type": "code",
   "execution_count": 128,
   "metadata": {},
   "outputs": [],
   "source": [
    "all_bait_compare_summary_df = all_bait_compare_summary_df.drop_duplicates(subset=['Gene'])"
   ]
  },
  {
   "cell_type": "code",
   "execution_count": 129,
   "metadata": {},
   "outputs": [
    {
     "data": {
      "text/html": [
       "<div>\n",
       "<style scoped>\n",
       "    .dataframe tbody tr th:only-of-type {\n",
       "        vertical-align: middle;\n",
       "    }\n",
       "\n",
       "    .dataframe tbody tr th {\n",
       "        vertical-align: top;\n",
       "    }\n",
       "\n",
       "    .dataframe thead th {\n",
       "        text-align: right;\n",
       "    }\n",
       "</style>\n",
       "<table border=\"1\" class=\"dataframe\">\n",
       "  <thead>\n",
       "    <tr style=\"text-align: right;\">\n",
       "      <th></th>\n",
       "      <th>Gene</th>\n",
       "      <th>Uniprot</th>\n",
       "      <th>SaPS</th>\n",
       "      <th>PdPS</th>\n",
       "      <th>num_Preys</th>\n",
       "      <th>mean_pv</th>\n",
       "      <th>zscore</th>\n",
       "    </tr>\n",
       "  </thead>\n",
       "  <tbody>\n",
       "    <tr>\n",
       "      <th>0</th>\n",
       "      <td>Q9NZI8</td>\n",
       "      <td>IMP1</td>\n",
       "      <td>0.525629</td>\n",
       "      <td>0.795508</td>\n",
       "      <td>113</td>\n",
       "      <td>8.214131e-22</td>\n",
       "      <td>18.011417</td>\n",
       "    </tr>\n",
       "    <tr>\n",
       "      <th>1</th>\n",
       "      <td>Q9NX05</td>\n",
       "      <td>FAM120C</td>\n",
       "      <td>0.231581</td>\n",
       "      <td>0.102665</td>\n",
       "      <td>225</td>\n",
       "      <td>6.738799e-16</td>\n",
       "      <td>14.064514</td>\n",
       "    </tr>\n",
       "    <tr>\n",
       "      <th>2</th>\n",
       "      <td>P60842</td>\n",
       "      <td>eIF4A1</td>\n",
       "      <td>0.163013</td>\n",
       "      <td>0.365248</td>\n",
       "      <td>58</td>\n",
       "      <td>2.504988e-08</td>\n",
       "      <td>9.527152</td>\n",
       "    </tr>\n",
       "    <tr>\n",
       "      <th>3</th>\n",
       "      <td>Q9H074</td>\n",
       "      <td>PAIP1</td>\n",
       "      <td>0.605274</td>\n",
       "      <td>0.589198</td>\n",
       "      <td>28</td>\n",
       "      <td>2.910619e-04</td>\n",
       "      <td>6.222006</td>\n",
       "    </tr>\n",
       "    <tr>\n",
       "      <th>4</th>\n",
       "      <td>Q9H7E2</td>\n",
       "      <td>TDRD3</td>\n",
       "      <td>0.897540</td>\n",
       "      <td>0.883250</td>\n",
       "      <td>135</td>\n",
       "      <td>3.364009e-18</td>\n",
       "      <td>14.750538</td>\n",
       "    </tr>\n",
       "    <tr>\n",
       "      <th>...</th>\n",
       "      <td>...</td>\n",
       "      <td>...</td>\n",
       "      <td>...</td>\n",
       "      <td>...</td>\n",
       "      <td>...</td>\n",
       "      <td>...</td>\n",
       "      <td>...</td>\n",
       "    </tr>\n",
       "    <tr>\n",
       "      <th>198</th>\n",
       "      <td>Q6TCH7</td>\n",
       "      <td>PAQR3</td>\n",
       "      <td>0.085218</td>\n",
       "      <td>0.067076</td>\n",
       "      <td>988</td>\n",
       "      <td>9.486375e-01</td>\n",
       "      <td>-3.963986</td>\n",
       "    </tr>\n",
       "    <tr>\n",
       "      <th>199</th>\n",
       "      <td>Q13283</td>\n",
       "      <td>G3BP1</td>\n",
       "      <td>0.929826</td>\n",
       "      <td>0.575079</td>\n",
       "      <td>2353</td>\n",
       "      <td>1.021667e-97</td>\n",
       "      <td>34.470688</td>\n",
       "    </tr>\n",
       "    <tr>\n",
       "      <th>200</th>\n",
       "      <td>P01116</td>\n",
       "      <td>KRAS</td>\n",
       "      <td>0.583972</td>\n",
       "      <td>0.842191</td>\n",
       "      <td>1549</td>\n",
       "      <td>2.560274e-61</td>\n",
       "      <td>25.772949</td>\n",
       "    </tr>\n",
       "    <tr>\n",
       "      <th>201</th>\n",
       "      <td>Q8N884</td>\n",
       "      <td>cGAS</td>\n",
       "      <td>0.657121</td>\n",
       "      <td>0.932160</td>\n",
       "      <td>15</td>\n",
       "      <td>1.163667e-02</td>\n",
       "      <td>3.846812</td>\n",
       "    </tr>\n",
       "    <tr>\n",
       "      <th>202</th>\n",
       "      <td>P49450</td>\n",
       "      <td>CENPA</td>\n",
       "      <td>0.445705</td>\n",
       "      <td>0.645103</td>\n",
       "      <td>2636</td>\n",
       "      <td>1.824539e-124</td>\n",
       "      <td>37.808632</td>\n",
       "    </tr>\n",
       "  </tbody>\n",
       "</table>\n",
       "<p>203 rows × 7 columns</p>\n",
       "</div>"
      ],
      "text/plain": [
       "       Gene  Uniprot      SaPS      PdPS  num_Preys        mean_pv     zscore\n",
       "0    Q9NZI8     IMP1  0.525629  0.795508        113   8.214131e-22  18.011417\n",
       "1    Q9NX05  FAM120C  0.231581  0.102665        225   6.738799e-16  14.064514\n",
       "2    P60842   eIF4A1  0.163013  0.365248         58   2.504988e-08   9.527152\n",
       "3    Q9H074    PAIP1  0.605274  0.589198         28   2.910619e-04   6.222006\n",
       "4    Q9H7E2    TDRD3  0.897540  0.883250        135   3.364009e-18  14.750538\n",
       "..      ...      ...       ...       ...        ...            ...        ...\n",
       "198  Q6TCH7    PAQR3  0.085218  0.067076        988   9.486375e-01  -3.963986\n",
       "199  Q13283    G3BP1  0.929826  0.575079       2353   1.021667e-97  34.470688\n",
       "200  P01116     KRAS  0.583972  0.842191       1549   2.560274e-61  25.772949\n",
       "201  Q8N884     cGAS  0.657121  0.932160         15   1.163667e-02   3.846812\n",
       "202  P49450    CENPA  0.445705  0.645103       2636  1.824539e-124  37.808632\n",
       "\n",
       "[203 rows x 7 columns]"
      ]
     },
     "execution_count": 129,
     "metadata": {},
     "output_type": "execute_result"
    }
   ],
   "source": [
    "all_bait_compare_summary_df"
   ]
  },
  {
   "cell_type": "code",
   "execution_count": 130,
   "metadata": {},
   "outputs": [
    {
     "data": {
      "text/html": [
       "<div>\n",
       "<style scoped>\n",
       "    .dataframe tbody tr th:only-of-type {\n",
       "        vertical-align: middle;\n",
       "    }\n",
       "\n",
       "    .dataframe tbody tr th {\n",
       "        vertical-align: top;\n",
       "    }\n",
       "\n",
       "    .dataframe thead th {\n",
       "        text-align: right;\n",
       "    }\n",
       "</style>\n",
       "<table border=\"1\" class=\"dataframe\">\n",
       "  <thead>\n",
       "    <tr style=\"text-align: right;\">\n",
       "      <th></th>\n",
       "      <th>Gene</th>\n",
       "      <th>Uniprot</th>\n",
       "      <th>SaPS</th>\n",
       "      <th>PdPS</th>\n",
       "      <th>num_Preys</th>\n",
       "      <th>mean_pv</th>\n",
       "      <th>zscore</th>\n",
       "    </tr>\n",
       "  </thead>\n",
       "  <tbody>\n",
       "    <tr>\n",
       "      <th>189</th>\n",
       "      <td>Q01130</td>\n",
       "      <td>SC35</td>\n",
       "      <td>0.906741</td>\n",
       "      <td>0.957755</td>\n",
       "      <td>2497</td>\n",
       "      <td>4.682668e-162</td>\n",
       "      <td>43.563056</td>\n",
       "    </tr>\n",
       "  </tbody>\n",
       "</table>\n",
       "</div>"
      ],
      "text/plain": [
       "       Gene Uniprot      SaPS      PdPS  num_Preys        mean_pv     zscore\n",
       "189  Q01130    SC35  0.906741  0.957755       2497  4.682668e-162  43.563056"
      ]
     },
     "execution_count": 130,
     "metadata": {},
     "output_type": "execute_result"
    }
   ],
   "source": [
    "all_bait_compare_summary_df[all_bait_compare_summary_df['Uniprot']=='SC35']"
   ]
  },
  {
   "cell_type": "code",
   "execution_count": 135,
   "metadata": {},
   "outputs": [],
   "source": [
    "filelist = os.listdir(\"./promixity_combined\")"
   ]
  },
  {
   "cell_type": "code",
   "execution_count": 136,
   "metadata": {},
   "outputs": [
    {
     "data": {
      "text/plain": [
       "203"
      ]
     },
     "execution_count": 136,
     "metadata": {},
     "output_type": "execute_result"
    }
   ],
   "source": [
    "len(filelist)"
   ]
  },
  {
   "cell_type": "code",
   "execution_count": 133,
   "metadata": {},
   "outputs": [],
   "source": [
    "all_interactom = pd.DataFrame()"
   ]
  },
  {
   "cell_type": "code",
   "execution_count": 137,
   "metadata": {},
   "outputs": [],
   "source": [
    "for f in filelist:\n",
    "    data = pd.read_csv(f\"./promixity_combined/{f}\")\n",
    "    all_interactom = pd.concat([all_interactom,data])"
   ]
  },
  {
   "cell_type": "code",
   "execution_count": 138,
   "metadata": {},
   "outputs": [],
   "source": [
    "all_interactom.to_csv(\"./all_promixity_data_combined.csv\")"
   ]
  },
  {
   "cell_type": "code",
   "execution_count": 131,
   "metadata": {},
   "outputs": [
    {
     "data": {
      "text/html": [
       "<div>\n",
       "<style scoped>\n",
       "    .dataframe tbody tr th:only-of-type {\n",
       "        vertical-align: middle;\n",
       "    }\n",
       "\n",
       "    .dataframe tbody tr th {\n",
       "        vertical-align: top;\n",
       "    }\n",
       "\n",
       "    .dataframe thead th {\n",
       "        text-align: right;\n",
       "    }\n",
       "</style>\n",
       "<table border=\"1\" class=\"dataframe\">\n",
       "  <thead>\n",
       "    <tr style=\"text-align: right;\">\n",
       "      <th></th>\n",
       "      <th>Gene</th>\n",
       "      <th>Uniprot</th>\n",
       "      <th>SaPS</th>\n",
       "      <th>PdPS</th>\n",
       "      <th>num_Preys</th>\n",
       "      <th>mean_pv</th>\n",
       "      <th>zscore</th>\n",
       "    </tr>\n",
       "  </thead>\n",
       "  <tbody>\n",
       "    <tr>\n",
       "      <th>189</th>\n",
       "      <td>Q01130</td>\n",
       "      <td>SC35</td>\n",
       "      <td>0.906741</td>\n",
       "      <td>0.957755</td>\n",
       "      <td>2497</td>\n",
       "      <td>4.682668e-162</td>\n",
       "      <td>43.563056</td>\n",
       "    </tr>\n",
       "  </tbody>\n",
       "</table>\n",
       "</div>"
      ],
      "text/plain": [
       "       Gene Uniprot      SaPS      PdPS  num_Preys        mean_pv     zscore\n",
       "189  Q01130    SC35  0.906741  0.957755       2497  4.682668e-162  43.563056"
      ]
     },
     "execution_count": 131,
     "metadata": {},
     "output_type": "execute_result"
    }
   ],
   "source": [
    "all_bait_compare_summary_df[all_bait_compare_summary_df['Uniprot']=='SC35']"
   ]
  },
  {
   "cell_type": "code",
   "execution_count": 132,
   "metadata": {},
   "outputs": [],
   "source": [
    "all_bait_compare_summary_df.to_csv(\"./pv_zscore_filtered.csv\",index=False)"
   ]
  },
  {
   "cell_type": "code",
   "execution_count": 13,
   "metadata": {},
   "outputs": [
    {
     "data": {
      "text/html": [
       "<div>\n",
       "<style scoped>\n",
       "    .dataframe tbody tr th:only-of-type {\n",
       "        vertical-align: middle;\n",
       "    }\n",
       "\n",
       "    .dataframe tbody tr th {\n",
       "        vertical-align: top;\n",
       "    }\n",
       "\n",
       "    .dataframe thead th {\n",
       "        text-align: right;\n",
       "    }\n",
       "</style>\n",
       "<table border=\"1\" class=\"dataframe\">\n",
       "  <thead>\n",
       "    <tr style=\"text-align: right;\">\n",
       "      <th></th>\n",
       "      <th>Gene</th>\n",
       "      <th>Uniprot</th>\n",
       "      <th>SaPS</th>\n",
       "      <th>PdPS</th>\n",
       "      <th>num_Preys</th>\n",
       "      <th>mean_pv</th>\n",
       "      <th>zscore</th>\n",
       "      <th>article</th>\n",
       "    </tr>\n",
       "  </thead>\n",
       "  <tbody>\n",
       "    <tr>\n",
       "      <th>0</th>\n",
       "      <td>Q9NZI8</td>\n",
       "      <td>IMP1</td>\n",
       "      <td>0.525629</td>\n",
       "      <td>0.795508</td>\n",
       "      <td>113</td>\n",
       "      <td>8.210000e-22</td>\n",
       "      <td>18.011417</td>\n",
       "      <td>17289661, 29395067</td>\n",
       "    </tr>\n",
       "  </tbody>\n",
       "</table>\n",
       "</div>"
      ],
      "text/plain": [
       "     Gene Uniprot      SaPS      PdPS  num_Preys       mean_pv     zscore  \\\n",
       "0  Q9NZI8    IMP1  0.525629  0.795508        113  8.210000e-22  18.011417   \n",
       "\n",
       "              article  \n",
       "0  17289661, 29395067  "
      ]
     },
     "execution_count": 13,
     "metadata": {},
     "output_type": "execute_result"
    }
   ],
   "source": [
    "all_bait_compare_summary_df = pd.read_csv(\"./pv_zscore_filtered.csv\")\n",
    "all_bait_compare_summary_df.head(1)"
   ]
  },
  {
   "cell_type": "code",
   "execution_count": 14,
   "metadata": {},
   "outputs": [
    {
     "data": {
      "text/plain": [
       "203"
      ]
     },
     "execution_count": 14,
     "metadata": {},
     "output_type": "execute_result"
    }
   ],
   "source": [
    "len(all_bait_compare_summary_df)"
   ]
  },
  {
   "cell_type": "code",
   "execution_count": 145,
   "metadata": {
    "collapsed": true
   },
   "outputs": [
    {
     "data": {
      "text/plain": [
       "62"
      ]
     },
     "execution_count": 145,
     "metadata": {},
     "output_type": "execute_result"
    }
   ],
   "source": [
    "all_ar = []\n",
    "for i in all_bait_compare_summary_df['article'].tolist():\n",
    "    all_ar += i.split(', ')\n",
    "len(np.unique(all_ar))"
   ]
  },
  {
   "cell_type": "code",
   "execution_count": 15,
   "metadata": {},
   "outputs": [
    {
     "data": {
      "text/plain": [
       "149"
      ]
     },
     "execution_count": 15,
     "metadata": {},
     "output_type": "execute_result"
    }
   ],
   "source": [
    "all_bait_compare_summary_df = all_bait_compare_summary_df[all_bait_compare_summary_df['num_Preys']>=50]\n",
    "len(all_bait_compare_summary_df)"
   ]
  },
  {
   "cell_type": "code",
   "execution_count": 16,
   "metadata": {},
   "outputs": [
    {
     "data": {
      "text/html": [
       "<div>\n",
       "<style scoped>\n",
       "    .dataframe tbody tr th:only-of-type {\n",
       "        vertical-align: middle;\n",
       "    }\n",
       "\n",
       "    .dataframe tbody tr th {\n",
       "        vertical-align: top;\n",
       "    }\n",
       "\n",
       "    .dataframe thead th {\n",
       "        text-align: right;\n",
       "    }\n",
       "</style>\n",
       "<table border=\"1\" class=\"dataframe\">\n",
       "  <thead>\n",
       "    <tr style=\"text-align: right;\">\n",
       "      <th></th>\n",
       "      <th>Gene</th>\n",
       "      <th>Uniprot</th>\n",
       "      <th>SaPS</th>\n",
       "      <th>PdPS</th>\n",
       "      <th>num_Preys</th>\n",
       "      <th>mean_pv</th>\n",
       "      <th>zscore</th>\n",
       "      <th>article</th>\n",
       "    </tr>\n",
       "  </thead>\n",
       "  <tbody>\n",
       "    <tr>\n",
       "      <th>0</th>\n",
       "      <td>Q9NZI8</td>\n",
       "      <td>IMP1</td>\n",
       "      <td>0.525629</td>\n",
       "      <td>0.795508</td>\n",
       "      <td>113</td>\n",
       "      <td>8.210000e-22</td>\n",
       "      <td>18.011417</td>\n",
       "      <td>17289661, 29395067</td>\n",
       "    </tr>\n",
       "    <tr>\n",
       "      <th>1</th>\n",
       "      <td>Q9NX05</td>\n",
       "      <td>FAM120C</td>\n",
       "      <td>0.231581</td>\n",
       "      <td>0.102665</td>\n",
       "      <td>225</td>\n",
       "      <td>6.740000e-16</td>\n",
       "      <td>14.064514</td>\n",
       "      <td>29395067</td>\n",
       "    </tr>\n",
       "    <tr>\n",
       "      <th>2</th>\n",
       "      <td>P60842</td>\n",
       "      <td>eIF4A1</td>\n",
       "      <td>0.163013</td>\n",
       "      <td>0.365248</td>\n",
       "      <td>58</td>\n",
       "      <td>2.500000e-08</td>\n",
       "      <td>9.527152</td>\n",
       "      <td>31442426, 29395067</td>\n",
       "    </tr>\n",
       "    <tr>\n",
       "      <th>4</th>\n",
       "      <td>Q9H7E2</td>\n",
       "      <td>TDRD3</td>\n",
       "      <td>0.897540</td>\n",
       "      <td>0.883250</td>\n",
       "      <td>135</td>\n",
       "      <td>3.360000e-18</td>\n",
       "      <td>14.750538</td>\n",
       "      <td>29395067</td>\n",
       "    </tr>\n",
       "    <tr>\n",
       "      <th>5</th>\n",
       "      <td>Q9HCE1</td>\n",
       "      <td>MOV10</td>\n",
       "      <td>0.096921</td>\n",
       "      <td>0.313998</td>\n",
       "      <td>129</td>\n",
       "      <td>5.590000e-19</td>\n",
       "      <td>15.361266</td>\n",
       "      <td>29395067</td>\n",
       "    </tr>\n",
       "    <tr>\n",
       "      <th>...</th>\n",
       "      <td>...</td>\n",
       "      <td>...</td>\n",
       "      <td>...</td>\n",
       "      <td>...</td>\n",
       "      <td>...</td>\n",
       "      <td>...</td>\n",
       "      <td>...</td>\n",
       "      <td>...</td>\n",
       "    </tr>\n",
       "    <tr>\n",
       "      <th>197</th>\n",
       "      <td>P00533</td>\n",
       "      <td>EGFR</td>\n",
       "      <td>0.752162</td>\n",
       "      <td>0.866251</td>\n",
       "      <td>1761</td>\n",
       "      <td>4.258136e-02</td>\n",
       "      <td>2.297141</td>\n",
       "      <td>35705039</td>\n",
       "    </tr>\n",
       "    <tr>\n",
       "      <th>198</th>\n",
       "      <td>Q6TCH7</td>\n",
       "      <td>PAQR3</td>\n",
       "      <td>0.085218</td>\n",
       "      <td>0.067076</td>\n",
       "      <td>988</td>\n",
       "      <td>9.486375e-01</td>\n",
       "      <td>-3.963986</td>\n",
       "      <td>30466064</td>\n",
       "    </tr>\n",
       "    <tr>\n",
       "      <th>199</th>\n",
       "      <td>Q13283</td>\n",
       "      <td>G3BP1</td>\n",
       "      <td>0.929826</td>\n",
       "      <td>0.575079</td>\n",
       "      <td>2353</td>\n",
       "      <td>1.020000e-97</td>\n",
       "      <td>34.470688</td>\n",
       "      <td>29395067, 29373831, 33217318, 37119817</td>\n",
       "    </tr>\n",
       "    <tr>\n",
       "      <th>200</th>\n",
       "      <td>P01116</td>\n",
       "      <td>KRAS</td>\n",
       "      <td>0.583972</td>\n",
       "      <td>0.842191</td>\n",
       "      <td>1549</td>\n",
       "      <td>2.560000e-61</td>\n",
       "      <td>25.772949</td>\n",
       "      <td>38453365, 30639242</td>\n",
       "    </tr>\n",
       "    <tr>\n",
       "      <th>202</th>\n",
       "      <td>P49450</td>\n",
       "      <td>CENPA</td>\n",
       "      <td>0.445705</td>\n",
       "      <td>0.645103</td>\n",
       "      <td>2636</td>\n",
       "      <td>1.820000e-124</td>\n",
       "      <td>37.808632</td>\n",
       "      <td>32609799</td>\n",
       "    </tr>\n",
       "  </tbody>\n",
       "</table>\n",
       "<p>149 rows × 8 columns</p>\n",
       "</div>"
      ],
      "text/plain": [
       "       Gene  Uniprot      SaPS      PdPS  num_Preys        mean_pv     zscore  \\\n",
       "0    Q9NZI8     IMP1  0.525629  0.795508        113   8.210000e-22  18.011417   \n",
       "1    Q9NX05  FAM120C  0.231581  0.102665        225   6.740000e-16  14.064514   \n",
       "2    P60842   eIF4A1  0.163013  0.365248         58   2.500000e-08   9.527152   \n",
       "4    Q9H7E2    TDRD3  0.897540  0.883250        135   3.360000e-18  14.750538   \n",
       "5    Q9HCE1    MOV10  0.096921  0.313998        129   5.590000e-19  15.361266   \n",
       "..      ...      ...       ...       ...        ...            ...        ...   \n",
       "197  P00533     EGFR  0.752162  0.866251       1761   4.258136e-02   2.297141   \n",
       "198  Q6TCH7    PAQR3  0.085218  0.067076        988   9.486375e-01  -3.963986   \n",
       "199  Q13283    G3BP1  0.929826  0.575079       2353   1.020000e-97  34.470688   \n",
       "200  P01116     KRAS  0.583972  0.842191       1549   2.560000e-61  25.772949   \n",
       "202  P49450    CENPA  0.445705  0.645103       2636  1.820000e-124  37.808632   \n",
       "\n",
       "                                    article  \n",
       "0                        17289661, 29395067  \n",
       "1                                  29395067  \n",
       "2                        31442426, 29395067  \n",
       "4                                  29395067  \n",
       "5                                  29395067  \n",
       "..                                      ...  \n",
       "197                                35705039  \n",
       "198                                30466064  \n",
       "199  29395067, 29373831, 33217318, 37119817  \n",
       "200                      38453365, 30639242  \n",
       "202                                32609799  \n",
       "\n",
       "[149 rows x 8 columns]"
      ]
     },
     "execution_count": 16,
     "metadata": {},
     "output_type": "execute_result"
    }
   ],
   "source": [
    "all_bait_compare_summary_df"
   ]
  },
  {
   "cell_type": "code",
   "execution_count": 148,
   "metadata": {},
   "outputs": [
    {
     "data": {
      "text/html": [
       "<div>\n",
       "<style scoped>\n",
       "    .dataframe tbody tr th:only-of-type {\n",
       "        vertical-align: middle;\n",
       "    }\n",
       "\n",
       "    .dataframe tbody tr th {\n",
       "        vertical-align: top;\n",
       "    }\n",
       "\n",
       "    .dataframe thead th {\n",
       "        text-align: right;\n",
       "    }\n",
       "</style>\n",
       "<table border=\"1\" class=\"dataframe\">\n",
       "  <thead>\n",
       "    <tr style=\"text-align: right;\">\n",
       "      <th></th>\n",
       "      <th>Gene</th>\n",
       "      <th>Uniprot</th>\n",
       "      <th>SaPS</th>\n",
       "      <th>PdPS</th>\n",
       "      <th>num_Preys</th>\n",
       "      <th>mean_pv</th>\n",
       "      <th>zscore</th>\n",
       "      <th>article</th>\n",
       "    </tr>\n",
       "  </thead>\n",
       "  <tbody>\n",
       "    <tr>\n",
       "      <th>81</th>\n",
       "      <td>Q9BPZ3</td>\n",
       "      <td>PAIP2</td>\n",
       "      <td>0.212680</td>\n",
       "      <td>0.540822</td>\n",
       "      <td>59</td>\n",
       "      <td>0.090310</td>\n",
       "      <td>2.108847</td>\n",
       "      <td>29395067</td>\n",
       "    </tr>\n",
       "    <tr>\n",
       "      <th>159</th>\n",
       "      <td>Q9NX09</td>\n",
       "      <td>DDIT4</td>\n",
       "      <td>0.118733</td>\n",
       "      <td>0.059997</td>\n",
       "      <td>104</td>\n",
       "      <td>0.501532</td>\n",
       "      <td>0.520415</td>\n",
       "      <td>35563580</td>\n",
       "    </tr>\n",
       "    <tr>\n",
       "      <th>161</th>\n",
       "      <td>P28328</td>\n",
       "      <td>PEX2</td>\n",
       "      <td>0.096385</td>\n",
       "      <td>0.061623</td>\n",
       "      <td>230</td>\n",
       "      <td>0.455296</td>\n",
       "      <td>-0.916685</td>\n",
       "      <td>35523862</td>\n",
       "    </tr>\n",
       "    <tr>\n",
       "      <th>179</th>\n",
       "      <td>Q15262</td>\n",
       "      <td>PTPRK</td>\n",
       "      <td>0.113755</td>\n",
       "      <td>0.224419</td>\n",
       "      <td>72</td>\n",
       "      <td>0.390954</td>\n",
       "      <td>0.182922</td>\n",
       "      <td>30924770</td>\n",
       "    </tr>\n",
       "    <tr>\n",
       "      <th>192</th>\n",
       "      <td>P22001</td>\n",
       "      <td>Kv1.3</td>\n",
       "      <td>0.135757</td>\n",
       "      <td>0.101213</td>\n",
       "      <td>1769</td>\n",
       "      <td>1.000000</td>\n",
       "      <td>-14.125915</td>\n",
       "      <td>38936775</td>\n",
       "    </tr>\n",
       "    <tr>\n",
       "      <th>198</th>\n",
       "      <td>Q6TCH7</td>\n",
       "      <td>PAQR3</td>\n",
       "      <td>0.085218</td>\n",
       "      <td>0.067076</td>\n",
       "      <td>988</td>\n",
       "      <td>0.948637</td>\n",
       "      <td>-3.963986</td>\n",
       "      <td>30466064</td>\n",
       "    </tr>\n",
       "  </tbody>\n",
       "</table>\n",
       "</div>"
      ],
      "text/plain": [
       "       Gene Uniprot      SaPS      PdPS  num_Preys   mean_pv     zscore  \\\n",
       "81   Q9BPZ3   PAIP2  0.212680  0.540822         59  0.090310   2.108847   \n",
       "159  Q9NX09   DDIT4  0.118733  0.059997        104  0.501532   0.520415   \n",
       "161  P28328    PEX2  0.096385  0.061623        230  0.455296  -0.916685   \n",
       "179  Q15262   PTPRK  0.113755  0.224419         72  0.390954   0.182922   \n",
       "192  P22001   Kv1.3  0.135757  0.101213       1769  1.000000 -14.125915   \n",
       "198  Q6TCH7   PAQR3  0.085218  0.067076        988  0.948637  -3.963986   \n",
       "\n",
       "      article  \n",
       "81   29395067  \n",
       "159  35563580  \n",
       "161  35523862  \n",
       "179  30924770  \n",
       "192  38936775  \n",
       "198  30466064  "
      ]
     },
     "execution_count": 148,
     "metadata": {},
     "output_type": "execute_result"
    }
   ],
   "source": [
    "all_bait_compare_summary_df[all_bait_compare_summary_df['mean_pv']>0.05]"
   ]
  },
  {
   "cell_type": "code",
   "execution_count": 149,
   "metadata": {},
   "outputs": [],
   "source": [
    "all_ar = []\n",
    "for i in all_bait_compare_summary_df['article'].tolist():\n",
    "    all_ar += i.split(', ')"
   ]
  },
  {
   "cell_type": "code",
   "execution_count": 150,
   "metadata": {},
   "outputs": [
    {
     "data": {
      "text/plain": [
       "55"
      ]
     },
     "execution_count": 150,
     "metadata": {},
     "output_type": "execute_result"
    }
   ],
   "source": [
    "len(np.unique(all_ar))"
   ]
  },
  {
   "cell_type": "code",
   "execution_count": 62,
   "metadata": {},
   "outputs": [],
   "source": [
    "all_bait_compare_summary_df['class_self'] = ['SaPS' if i > 0.5 else 'notSaPS' for i in all_bait_compare_summary_df['SaPS'].tolist()]\n",
    "all_bait_compare_summary_df['class_other'] = ['PdPS' if i > 0.5 else 'notPdPS' for i in all_bait_compare_summary_df['PdPS'].tolist()]\n",
    "all_bait_compare_summary_df['class_all'] = ['LLPS' if all_bait_compare_summary_df['PdPS'].tolist()[i] > 0.5 or all_bait_compare_summary_df['SaPS'].tolist()[i] > 0.5 else 'notLLPS' for i in range(len(all_bait_compare_summary_df))]"
   ]
  },
  {
   "cell_type": "code",
   "execution_count": 63,
   "metadata": {},
   "outputs": [
    {
     "data": {
      "text/html": [
       "<div>\n",
       "<style scoped>\n",
       "    .dataframe tbody tr th:only-of-type {\n",
       "        vertical-align: middle;\n",
       "    }\n",
       "\n",
       "    .dataframe tbody tr th {\n",
       "        vertical-align: top;\n",
       "    }\n",
       "\n",
       "    .dataframe thead th {\n",
       "        text-align: right;\n",
       "    }\n",
       "</style>\n",
       "<table border=\"1\" class=\"dataframe\">\n",
       "  <thead>\n",
       "    <tr style=\"text-align: right;\">\n",
       "      <th></th>\n",
       "      <th>Gene</th>\n",
       "      <th>Uniprot</th>\n",
       "      <th>SaPS</th>\n",
       "      <th>PdPS</th>\n",
       "      <th>num_Preys</th>\n",
       "      <th>mean_pv</th>\n",
       "      <th>zscore</th>\n",
       "      <th>article</th>\n",
       "      <th>class_self</th>\n",
       "      <th>class_other</th>\n",
       "      <th>class_all</th>\n",
       "      <th>-log10(pv)</th>\n",
       "    </tr>\n",
       "  </thead>\n",
       "  <tbody>\n",
       "    <tr>\n",
       "      <th>0</th>\n",
       "      <td>Q9NZI8</td>\n",
       "      <td>IMP1</td>\n",
       "      <td>0.525629</td>\n",
       "      <td>0.795508</td>\n",
       "      <td>113</td>\n",
       "      <td>8.210000e-22</td>\n",
       "      <td>18.011417</td>\n",
       "      <td>17289661, 29395067</td>\n",
       "      <td>SaPS</td>\n",
       "      <td>PdPS</td>\n",
       "      <td>LLPS</td>\n",
       "      <td>21.085657</td>\n",
       "    </tr>\n",
       "    <tr>\n",
       "      <th>1</th>\n",
       "      <td>Q9NX05</td>\n",
       "      <td>FAM120C</td>\n",
       "      <td>0.231581</td>\n",
       "      <td>0.102665</td>\n",
       "      <td>225</td>\n",
       "      <td>6.740000e-16</td>\n",
       "      <td>14.064514</td>\n",
       "      <td>29395067</td>\n",
       "      <td>notSaPS</td>\n",
       "      <td>notPdPS</td>\n",
       "      <td>notLLPS</td>\n",
       "      <td>15.171340</td>\n",
       "    </tr>\n",
       "    <tr>\n",
       "      <th>2</th>\n",
       "      <td>P60842</td>\n",
       "      <td>eIF4A1</td>\n",
       "      <td>0.163013</td>\n",
       "      <td>0.365248</td>\n",
       "      <td>58</td>\n",
       "      <td>2.500000e-08</td>\n",
       "      <td>9.527152</td>\n",
       "      <td>31442426, 29395067</td>\n",
       "      <td>notSaPS</td>\n",
       "      <td>notPdPS</td>\n",
       "      <td>notLLPS</td>\n",
       "      <td>7.602060</td>\n",
       "    </tr>\n",
       "    <tr>\n",
       "      <th>4</th>\n",
       "      <td>Q9H7E2</td>\n",
       "      <td>TDRD3</td>\n",
       "      <td>0.897540</td>\n",
       "      <td>0.883250</td>\n",
       "      <td>135</td>\n",
       "      <td>3.360000e-18</td>\n",
       "      <td>14.750538</td>\n",
       "      <td>29395067</td>\n",
       "      <td>SaPS</td>\n",
       "      <td>PdPS</td>\n",
       "      <td>LLPS</td>\n",
       "      <td>17.473661</td>\n",
       "    </tr>\n",
       "    <tr>\n",
       "      <th>5</th>\n",
       "      <td>Q9HCE1</td>\n",
       "      <td>MOV10</td>\n",
       "      <td>0.096921</td>\n",
       "      <td>0.313998</td>\n",
       "      <td>129</td>\n",
       "      <td>5.590000e-19</td>\n",
       "      <td>15.361266</td>\n",
       "      <td>29395067</td>\n",
       "      <td>notSaPS</td>\n",
       "      <td>notPdPS</td>\n",
       "      <td>notLLPS</td>\n",
       "      <td>18.252588</td>\n",
       "    </tr>\n",
       "    <tr>\n",
       "      <th>...</th>\n",
       "      <td>...</td>\n",
       "      <td>...</td>\n",
       "      <td>...</td>\n",
       "      <td>...</td>\n",
       "      <td>...</td>\n",
       "      <td>...</td>\n",
       "      <td>...</td>\n",
       "      <td>...</td>\n",
       "      <td>...</td>\n",
       "      <td>...</td>\n",
       "      <td>...</td>\n",
       "      <td>...</td>\n",
       "    </tr>\n",
       "    <tr>\n",
       "      <th>197</th>\n",
       "      <td>P00533</td>\n",
       "      <td>EGFR</td>\n",
       "      <td>0.752162</td>\n",
       "      <td>0.866251</td>\n",
       "      <td>1761</td>\n",
       "      <td>4.258136e-02</td>\n",
       "      <td>2.297141</td>\n",
       "      <td>35705039</td>\n",
       "      <td>SaPS</td>\n",
       "      <td>PdPS</td>\n",
       "      <td>LLPS</td>\n",
       "      <td>1.370780</td>\n",
       "    </tr>\n",
       "    <tr>\n",
       "      <th>198</th>\n",
       "      <td>Q6TCH7</td>\n",
       "      <td>PAQR3</td>\n",
       "      <td>0.085218</td>\n",
       "      <td>0.067076</td>\n",
       "      <td>988</td>\n",
       "      <td>9.486375e-01</td>\n",
       "      <td>-3.963986</td>\n",
       "      <td>30466064</td>\n",
       "      <td>notSaPS</td>\n",
       "      <td>notPdPS</td>\n",
       "      <td>notLLPS</td>\n",
       "      <td>0.022900</td>\n",
       "    </tr>\n",
       "    <tr>\n",
       "      <th>199</th>\n",
       "      <td>Q13283</td>\n",
       "      <td>G3BP1</td>\n",
       "      <td>0.929826</td>\n",
       "      <td>0.575079</td>\n",
       "      <td>2353</td>\n",
       "      <td>1.020000e-97</td>\n",
       "      <td>34.470688</td>\n",
       "      <td>29395067, 29373831, 33217318, 37119817</td>\n",
       "      <td>SaPS</td>\n",
       "      <td>PdPS</td>\n",
       "      <td>LLPS</td>\n",
       "      <td>96.991400</td>\n",
       "    </tr>\n",
       "    <tr>\n",
       "      <th>200</th>\n",
       "      <td>P01116</td>\n",
       "      <td>KRAS</td>\n",
       "      <td>0.583972</td>\n",
       "      <td>0.842191</td>\n",
       "      <td>1549</td>\n",
       "      <td>2.560000e-61</td>\n",
       "      <td>25.772949</td>\n",
       "      <td>38453365, 30639242</td>\n",
       "      <td>SaPS</td>\n",
       "      <td>PdPS</td>\n",
       "      <td>LLPS</td>\n",
       "      <td>60.591760</td>\n",
       "    </tr>\n",
       "    <tr>\n",
       "      <th>202</th>\n",
       "      <td>P49450</td>\n",
       "      <td>CENPA</td>\n",
       "      <td>0.445705</td>\n",
       "      <td>0.645103</td>\n",
       "      <td>2636</td>\n",
       "      <td>1.820000e-124</td>\n",
       "      <td>37.808632</td>\n",
       "      <td>32609799</td>\n",
       "      <td>notSaPS</td>\n",
       "      <td>PdPS</td>\n",
       "      <td>LLPS</td>\n",
       "      <td>123.739929</td>\n",
       "    </tr>\n",
       "  </tbody>\n",
       "</table>\n",
       "<p>149 rows × 12 columns</p>\n",
       "</div>"
      ],
      "text/plain": [
       "       Gene  Uniprot      SaPS      PdPS  num_Preys        mean_pv     zscore  \\\n",
       "0    Q9NZI8     IMP1  0.525629  0.795508        113   8.210000e-22  18.011417   \n",
       "1    Q9NX05  FAM120C  0.231581  0.102665        225   6.740000e-16  14.064514   \n",
       "2    P60842   eIF4A1  0.163013  0.365248         58   2.500000e-08   9.527152   \n",
       "4    Q9H7E2    TDRD3  0.897540  0.883250        135   3.360000e-18  14.750538   \n",
       "5    Q9HCE1    MOV10  0.096921  0.313998        129   5.590000e-19  15.361266   \n",
       "..      ...      ...       ...       ...        ...            ...        ...   \n",
       "197  P00533     EGFR  0.752162  0.866251       1761   4.258136e-02   2.297141   \n",
       "198  Q6TCH7    PAQR3  0.085218  0.067076        988   9.486375e-01  -3.963986   \n",
       "199  Q13283    G3BP1  0.929826  0.575079       2353   1.020000e-97  34.470688   \n",
       "200  P01116     KRAS  0.583972  0.842191       1549   2.560000e-61  25.772949   \n",
       "202  P49450    CENPA  0.445705  0.645103       2636  1.820000e-124  37.808632   \n",
       "\n",
       "                                    article class_self class_other class_all  \\\n",
       "0                        17289661, 29395067       SaPS        PdPS      LLPS   \n",
       "1                                  29395067    notSaPS     notPdPS   notLLPS   \n",
       "2                        31442426, 29395067    notSaPS     notPdPS   notLLPS   \n",
       "4                                  29395067       SaPS        PdPS      LLPS   \n",
       "5                                  29395067    notSaPS     notPdPS   notLLPS   \n",
       "..                                      ...        ...         ...       ...   \n",
       "197                                35705039       SaPS        PdPS      LLPS   \n",
       "198                                30466064    notSaPS     notPdPS   notLLPS   \n",
       "199  29395067, 29373831, 33217318, 37119817       SaPS        PdPS      LLPS   \n",
       "200                      38453365, 30639242       SaPS        PdPS      LLPS   \n",
       "202                                32609799    notSaPS        PdPS      LLPS   \n",
       "\n",
       "     -log10(pv)  \n",
       "0     21.085657  \n",
       "1     15.171340  \n",
       "2      7.602060  \n",
       "4     17.473661  \n",
       "5     18.252588  \n",
       "..          ...  \n",
       "197    1.370780  \n",
       "198    0.022900  \n",
       "199   96.991400  \n",
       "200   60.591760  \n",
       "202  123.739929  \n",
       "\n",
       "[149 rows x 12 columns]"
      ]
     },
     "execution_count": 63,
     "metadata": {},
     "output_type": "execute_result"
    }
   ],
   "source": [
    "all_bait_compare_summary_df"
   ]
  },
  {
   "cell_type": "code",
   "execution_count": 19,
   "metadata": {},
   "outputs": [],
   "source": [
    "all_bait_compare_summary_df['-log10(pv)'] = -np.log10(all_bait_compare_summary_df['mean_pv'].tolist())"
   ]
  },
  {
   "cell_type": "code",
   "execution_count": 20,
   "metadata": {},
   "outputs": [
    {
     "data": {
      "text/plain": [
       "0.5704697986577181"
      ]
     },
     "execution_count": 20,
     "metadata": {},
     "output_type": "execute_result"
    }
   ],
   "source": [
    "len(all_bait_compare_summary_df[all_bait_compare_summary_df['class_self']=='SaPS'])/len(all_bait_compare_summary_df)"
   ]
  },
  {
   "cell_type": "code",
   "execution_count": 22,
   "metadata": {},
   "outputs": [],
   "source": [
    "import scipy.stats as stats"
   ]
  },
  {
   "cell_type": "code",
   "execution_count": 23,
   "metadata": {},
   "outputs": [
    {
     "data": {
      "text/plain": [
       "SignificanceResult(statistic=0.2782117524141834, pvalue=0.0005914839246766989)"
      ]
     },
     "execution_count": 23,
     "metadata": {},
     "output_type": "execute_result"
    }
   ],
   "source": [
    "stats.spearmanr(all_bait_compare_summary_df['SaPS'].tolist(),all_bait_compare_summary_df['-log10(pv)'].tolist())"
   ]
  },
  {
   "cell_type": "code",
   "execution_count": 26,
   "metadata": {},
   "outputs": [
    {
     "data": {
      "text/plain": [
       "SignificanceResult(statistic=0.2750916016687829, pvalue=0.0006853002669782068)"
      ]
     },
     "execution_count": 26,
     "metadata": {},
     "output_type": "execute_result"
    }
   ],
   "source": [
    "stats.spearmanr(all_bait_compare_summary_df['SaPS'].tolist(),all_bait_compare_summary_df['zscore'].tolist())"
   ]
  },
  {
   "cell_type": "code",
   "execution_count": 24,
   "metadata": {},
   "outputs": [
    {
     "data": {
      "text/plain": [
       "SignificanceResult(statistic=0.27538933011922273, pvalue=0.0006757905016461017)"
      ]
     },
     "execution_count": 24,
     "metadata": {},
     "output_type": "execute_result"
    }
   ],
   "source": [
    "stats.spearmanr(all_bait_compare_summary_df['PdPS'].tolist(),all_bait_compare_summary_df['-log10(pv)'].tolist())"
   ]
  },
  {
   "cell_type": "code",
   "execution_count": 28,
   "metadata": {},
   "outputs": [],
   "source": [
    "import seaborn as sns\n",
    "import matplotlib.pyplot as plt"
   ]
  },
  {
   "cell_type": "code",
   "execution_count": 74,
   "metadata": {},
   "outputs": [
    {
     "data": {
      "text/plain": [
       "85"
      ]
     },
     "execution_count": 74,
     "metadata": {},
     "output_type": "execute_result"
    }
   ],
   "source": [
    "len(all_bait_compare_summary_df[all_bait_compare_summary_df['class_self']=='SaPS'])"
   ]
  },
  {
   "cell_type": "code",
   "execution_count": 75,
   "metadata": {},
   "outputs": [
    {
     "data": {
      "text/plain": [
       "64"
      ]
     },
     "execution_count": 75,
     "metadata": {},
     "output_type": "execute_result"
    }
   ],
   "source": [
    "len(all_bait_compare_summary_df[all_bait_compare_summary_df['class_self']=='notSaPS'])"
   ]
  },
  {
   "cell_type": "code",
   "execution_count": 72,
   "metadata": {},
   "outputs": [
    {
     "name": "stderr",
     "output_type": "stream",
     "text": [
      "C:\\Users\\wqswx\\AppData\\Local\\Temp\\ipykernel_15432\\236903338.py:4: FutureWarning: \n",
      "\n",
      "`shade` is now deprecated in favor of `fill`; setting `fill=True`.\n",
      "This will become an error in seaborn v0.14.0; please update your code.\n",
      "\n",
      "  sns.kdeplot(all_bait_compare_summary_df[all_bait_compare_summary_df['class_all']=='LLPS']['zscore'].tolist(),shade=True,color='steelblue')\n",
      "C:\\Users\\wqswx\\AppData\\Local\\Temp\\ipykernel_15432\\236903338.py:5: FutureWarning: \n",
      "\n",
      "`shade` is now deprecated in favor of `fill`; setting `fill=True`.\n",
      "This will become an error in seaborn v0.14.0; please update your code.\n",
      "\n",
      "  sns.kdeplot(all_bait_compare_summary_df[all_bait_compare_summary_df['class_all']!='LLPS']['zscore'].tolist(),shade=True,color='lightgrey')\n"
     ]
    },
    {
     "data": {
      "image/png": "[encoded data removed]",
      "text/plain": [
       "<Figure size 1200x300 with 1 Axes>"
      ]
     },
     "metadata": {},
     "output_type": "display_data"
    }
   ],
   "source": [
    "fig = plt.subplots(figsize=(4,1),dpi=300) \n",
    "sns.set_style('white')\n",
    "\n",
    "sns.kdeplot(all_bait_compare_summary_df[all_bait_compare_summary_df['class_all']=='LLPS']['zscore'].tolist(),shade=True,color='steelblue')\n",
    "sns.kdeplot(all_bait_compare_summary_df[all_bait_compare_summary_df['class_all']!='LLPS']['zscore'].tolist(),shade=True,color='lightgrey')\n",
    "\n",
    "plt.xlabel('zscore',fontsize=16)\n",
    "plt.ylabel('Density',fontsize=12)\n",
    "plt.xlim([-10,40])\n",
    "\n",
    "sns.despine()"
   ]
  },
  {
   "cell_type": "code",
   "execution_count": 60,
   "metadata": {},
   "outputs": [
    {
     "name": "stderr",
     "output_type": "stream",
     "text": [
      "C:\\Users\\wqswx\\AppData\\Local\\Temp\\ipykernel_14888\\42482368.py:3: FutureWarning: \n",
      "\n",
      "Passing `palette` without assigning `hue` is deprecated and will be removed in v0.14.0. Assign the `y` variable to `hue` and set `legend=False` for the same effect.\n",
      "\n",
      "  sns.boxplot(all_bait_compare_summary_df,x='zscore', y='class_self', palette={'SaPS':'steelblue','notSaPS':'grey'},showfliers=False,fill=False)\n"
     ]
    },
    {
     "data": {
      "image/png": "[encoded data removed]",
      "text/plain": [
       "<Figure size 1200x300 with 1 Axes>"
      ]
     },
     "metadata": {},
     "output_type": "display_data"
    }
   ],
   "source": [
    "fig, ax = plt.subplots(figsize=(4,1),dpi=300)\n",
    "\n",
    "sns.boxplot(all_bait_compare_summary_df,x='zscore', y='class_self', palette={'SaPS':'steelblue','notSaPS':'grey'},showfliers=False,fill=False)\n",
    "plt.xlabel('zscore',fontsize=16)\n",
    "plt.ylabel('',fontsize=12)\n",
    "\n",
    "sns.despine(bottom=True)\n",
    "\n",
    "plt.xlim([-10,40])\n",
    "\n"
   ]
  },
  {
   "cell_type": "code",
   "execution_count": 55,
   "metadata": {},
   "outputs": [
    {
     "data": {
      "text/plain": [
       "MannwhitneyuResult(statistic=3656.0, pvalue=0.00014897561086417603)"
      ]
     },
     "execution_count": 55,
     "metadata": {},
     "output_type": "execute_result"
    }
   ],
   "source": [
    "stats.mannwhitneyu(all_bait_compare_summary_df[all_bait_compare_summary_df['class_self']=='SaPS']['zscore'].tolist(),all_bait_compare_summary_df[all_bait_compare_summary_df['class_self']=='notSaPS']['zscore'])"
   ]
  },
  {
   "cell_type": "code",
   "execution_count": 73,
   "metadata": {},
   "outputs": [
    {
     "data": {
      "text/plain": [
       "MannwhitneyuResult(statistic=3251.0, pvalue=0.0026418594375993924)"
      ]
     },
     "execution_count": 73,
     "metadata": {},
     "output_type": "execute_result"
    }
   ],
   "source": [
    "stats.mannwhitneyu(all_bait_compare_summary_df[all_bait_compare_summary_df['class_all']=='LLPS']['zscore'].tolist(),all_bait_compare_summary_df[all_bait_compare_summary_df['class_all']!='LLPS']['zscore'])"
   ]
  },
  {
   "cell_type": "code",
   "execution_count": 56,
   "metadata": {},
   "outputs": [
    {
     "data": {
      "text/plain": [
       "MannwhitneyuResult(statistic=1707.0, pvalue=0.00016872890207256857)"
      ]
     },
     "execution_count": 56,
     "metadata": {},
     "output_type": "execute_result"
    }
   ],
   "source": [
    "stats.mannwhitneyu(all_bait_compare_summary_df[all_bait_compare_summary_df['class_self']=='SaPS']['mean_pv'].tolist(),all_bait_compare_summary_df[all_bait_compare_summary_df['class_self']=='notSaPS']['mean_pv'])"
   ]
  },
  {
   "cell_type": "code",
   "execution_count": 18,
   "metadata": {},
   "outputs": [
    {
     "data": {
      "text/html": [
       "<div>\n",
       "<style scoped>\n",
       "    .dataframe tbody tr th:only-of-type {\n",
       "        vertical-align: middle;\n",
       "    }\n",
       "\n",
       "    .dataframe tbody tr th {\n",
       "        vertical-align: top;\n",
       "    }\n",
       "\n",
       "    .dataframe thead th {\n",
       "        text-align: right;\n",
       "    }\n",
       "</style>\n",
       "<table border=\"1\" class=\"dataframe\">\n",
       "  <thead>\n",
       "    <tr style=\"text-align: right;\">\n",
       "      <th></th>\n",
       "      <th>Gene</th>\n",
       "      <th>Uniprot</th>\n",
       "      <th>SaPS</th>\n",
       "      <th>PdPS</th>\n",
       "      <th>num_Preys</th>\n",
       "      <th>mean_pv</th>\n",
       "      <th>zscore</th>\n",
       "      <th>article</th>\n",
       "      <th>class_self</th>\n",
       "      <th>class_other</th>\n",
       "      <th>class_all</th>\n",
       "    </tr>\n",
       "  </thead>\n",
       "  <tbody>\n",
       "    <tr>\n",
       "      <th>0</th>\n",
       "      <td>Q01130</td>\n",
       "      <td>SC35</td>\n",
       "      <td>0.906741</td>\n",
       "      <td>0.957755</td>\n",
       "      <td>2497</td>\n",
       "      <td>0.000000e+00</td>\n",
       "      <td>69.479853</td>\n",
       "      <td>32609799</td>\n",
       "      <td>SaPS</td>\n",
       "      <td>PdPS</td>\n",
       "      <td>LLPS</td>\n",
       "    </tr>\n",
       "    <tr>\n",
       "      <th>1</th>\n",
       "      <td>Q13501</td>\n",
       "      <td>SQSTM1</td>\n",
       "      <td>0.744216</td>\n",
       "      <td>0.938113</td>\n",
       "      <td>1391</td>\n",
       "      <td>1.430000e-140</td>\n",
       "      <td>38.711853</td>\n",
       "      <td>38014048</td>\n",
       "      <td>SaPS</td>\n",
       "      <td>PdPS</td>\n",
       "      <td>LLPS</td>\n",
       "    </tr>\n",
       "    <tr>\n",
       "      <th>2</th>\n",
       "      <td>Q15287</td>\n",
       "      <td>RNPS1</td>\n",
       "      <td>0.874299</td>\n",
       "      <td>0.890033</td>\n",
       "      <td>759</td>\n",
       "      <td>1.630000e-96</td>\n",
       "      <td>37.084737</td>\n",
       "      <td>35640609</td>\n",
       "      <td>SaPS</td>\n",
       "      <td>PdPS</td>\n",
       "      <td>LLPS</td>\n",
       "    </tr>\n",
       "    <tr>\n",
       "      <th>3</th>\n",
       "      <td>Q92540</td>\n",
       "      <td>SMG7</td>\n",
       "      <td>0.748550</td>\n",
       "      <td>0.680126</td>\n",
       "      <td>266</td>\n",
       "      <td>1.180000e-71</td>\n",
       "      <td>31.956326</td>\n",
       "      <td>29395067</td>\n",
       "      <td>SaPS</td>\n",
       "      <td>PdPS</td>\n",
       "      <td>LLPS</td>\n",
       "    </tr>\n",
       "    <tr>\n",
       "      <th>4</th>\n",
       "      <td>Q69YH5</td>\n",
       "      <td>RepoMan</td>\n",
       "      <td>0.908337</td>\n",
       "      <td>0.618734</td>\n",
       "      <td>782</td>\n",
       "      <td>1.020000e-72</td>\n",
       "      <td>30.411836</td>\n",
       "      <td>33134894</td>\n",
       "      <td>SaPS</td>\n",
       "      <td>PdPS</td>\n",
       "      <td>LLPS</td>\n",
       "    </tr>\n",
       "    <tr>\n",
       "      <th>...</th>\n",
       "      <td>...</td>\n",
       "      <td>...</td>\n",
       "      <td>...</td>\n",
       "      <td>...</td>\n",
       "      <td>...</td>\n",
       "      <td>...</td>\n",
       "      <td>...</td>\n",
       "      <td>...</td>\n",
       "      <td>...</td>\n",
       "      <td>...</td>\n",
       "      <td>...</td>\n",
       "    </tr>\n",
       "    <tr>\n",
       "      <th>196</th>\n",
       "      <td>P28328</td>\n",
       "      <td>PEX2</td>\n",
       "      <td>0.096385</td>\n",
       "      <td>0.061623</td>\n",
       "      <td>230</td>\n",
       "      <td>3.660000e-41</td>\n",
       "      <td>-25.220448</td>\n",
       "      <td>35523862</td>\n",
       "      <td>notSaPS</td>\n",
       "      <td>notPdPS</td>\n",
       "      <td>notLLPS</td>\n",
       "    </tr>\n",
       "    <tr>\n",
       "      <th>197</th>\n",
       "      <td>P00533</td>\n",
       "      <td>EGFR</td>\n",
       "      <td>0.752162</td>\n",
       "      <td>0.866251</td>\n",
       "      <td>1761</td>\n",
       "      <td>5.400000e-61</td>\n",
       "      <td>-25.782239</td>\n",
       "      <td>35705039</td>\n",
       "      <td>SaPS</td>\n",
       "      <td>PdPS</td>\n",
       "      <td>LLPS</td>\n",
       "    </tr>\n",
       "    <tr>\n",
       "      <th>198</th>\n",
       "      <td>Q92934</td>\n",
       "      <td>BAD</td>\n",
       "      <td>0.883480</td>\n",
       "      <td>0.858208</td>\n",
       "      <td>346</td>\n",
       "      <td>5.460000e-70</td>\n",
       "      <td>-31.190900</td>\n",
       "      <td>38959414</td>\n",
       "      <td>SaPS</td>\n",
       "      <td>PdPS</td>\n",
       "      <td>LLPS</td>\n",
       "    </tr>\n",
       "    <tr>\n",
       "      <th>199</th>\n",
       "      <td>Q6TCH7</td>\n",
       "      <td>PAQR3</td>\n",
       "      <td>0.085218</td>\n",
       "      <td>0.067076</td>\n",
       "      <td>988</td>\n",
       "      <td>2.750000e-165</td>\n",
       "      <td>-46.321951</td>\n",
       "      <td>30466064</td>\n",
       "      <td>notSaPS</td>\n",
       "      <td>notPdPS</td>\n",
       "      <td>notLLPS</td>\n",
       "    </tr>\n",
       "    <tr>\n",
       "      <th>200</th>\n",
       "      <td>P22001</td>\n",
       "      <td>Kv1.3</td>\n",
       "      <td>0.135757</td>\n",
       "      <td>0.101213</td>\n",
       "      <td>1769</td>\n",
       "      <td>0.000000e+00</td>\n",
       "      <td>-88.965830</td>\n",
       "      <td>38936775</td>\n",
       "      <td>notSaPS</td>\n",
       "      <td>notPdPS</td>\n",
       "      <td>notLLPS</td>\n",
       "    </tr>\n",
       "  </tbody>\n",
       "</table>\n",
       "<p>148 rows × 11 columns</p>\n",
       "</div>"
      ],
      "text/plain": [
       "       Gene  Uniprot      SaPS      PdPS  num_Preys        mean_pv     zscore  \\\n",
       "0    Q01130     SC35  0.906741  0.957755       2497   0.000000e+00  69.479853   \n",
       "1    Q13501   SQSTM1  0.744216  0.938113       1391  1.430000e-140  38.711853   \n",
       "2    Q15287    RNPS1  0.874299  0.890033        759   1.630000e-96  37.084737   \n",
       "3    Q92540     SMG7  0.748550  0.680126        266   1.180000e-71  31.956326   \n",
       "4    Q69YH5  RepoMan  0.908337  0.618734        782   1.020000e-72  30.411836   \n",
       "..      ...      ...       ...       ...        ...            ...        ...   \n",
       "196  P28328     PEX2  0.096385  0.061623        230   3.660000e-41 -25.220448   \n",
       "197  P00533     EGFR  0.752162  0.866251       1761   5.400000e-61 -25.782239   \n",
       "198  Q92934      BAD  0.883480  0.858208        346   5.460000e-70 -31.190900   \n",
       "199  Q6TCH7    PAQR3  0.085218  0.067076        988  2.750000e-165 -46.321951   \n",
       "200  P22001    Kv1.3  0.135757  0.101213       1769   0.000000e+00 -88.965830   \n",
       "\n",
       "      article class_self class_other class_all  \n",
       "0    32609799       SaPS        PdPS      LLPS  \n",
       "1    38014048       SaPS        PdPS      LLPS  \n",
       "2    35640609       SaPS        PdPS      LLPS  \n",
       "3    29395067       SaPS        PdPS      LLPS  \n",
       "4    33134894       SaPS        PdPS      LLPS  \n",
       "..        ...        ...         ...       ...  \n",
       "196  35523862    notSaPS     notPdPS   notLLPS  \n",
       "197  35705039       SaPS        PdPS      LLPS  \n",
       "198  38959414       SaPS        PdPS      LLPS  \n",
       "199  30466064    notSaPS     notPdPS   notLLPS  \n",
       "200  38936775    notSaPS     notPdPS   notLLPS  \n",
       "\n",
       "[148 rows x 11 columns]"
      ]
     },
     "execution_count": 18,
     "metadata": {},
     "output_type": "execute_result"
    }
   ],
   "source": [
    "all_bait_compare_summary_df"
   ]
  },
  {
   "cell_type": "code",
   "execution_count": 32,
   "metadata": {},
   "outputs": [],
   "source": [
    "all_bait_compare_summary_df.loc[0,'-log10(pv)']=1000"
   ]
  },
  {
   "cell_type": "code",
   "execution_count": 57,
   "metadata": {},
   "outputs": [
    {
     "data": {
      "text/html": [
       "<div>\n",
       "<style scoped>\n",
       "    .dataframe tbody tr th:only-of-type {\n",
       "        vertical-align: middle;\n",
       "    }\n",
       "\n",
       "    .dataframe tbody tr th {\n",
       "        vertical-align: top;\n",
       "    }\n",
       "\n",
       "    .dataframe thead th {\n",
       "        text-align: right;\n",
       "    }\n",
       "</style>\n",
       "<table border=\"1\" class=\"dataframe\">\n",
       "  <thead>\n",
       "    <tr style=\"text-align: right;\">\n",
       "      <th></th>\n",
       "      <th>Gene</th>\n",
       "      <th>Uniprot</th>\n",
       "      <th>SaPS</th>\n",
       "      <th>PdPS</th>\n",
       "      <th>num_Preys</th>\n",
       "      <th>mean_pv</th>\n",
       "      <th>zscore</th>\n",
       "      <th>article</th>\n",
       "      <th>class_self</th>\n",
       "      <th>class_other</th>\n",
       "      <th>class_all</th>\n",
       "      <th>-log10(pv)</th>\n",
       "    </tr>\n",
       "  </thead>\n",
       "  <tbody>\n",
       "    <tr>\n",
       "      <th>70</th>\n",
       "      <td>Q01130</td>\n",
       "      <td>SC35</td>\n",
       "      <td>0.906741</td>\n",
       "      <td>0.957755</td>\n",
       "      <td>2497</td>\n",
       "      <td>4.680000e-162</td>\n",
       "      <td>43.563056</td>\n",
       "      <td>32609799</td>\n",
       "      <td>SaPS</td>\n",
       "      <td>PdPS</td>\n",
       "      <td>LLPS</td>\n",
       "      <td>161.329754</td>\n",
       "    </tr>\n",
       "    <tr>\n",
       "      <th>93</th>\n",
       "      <td>Q15287</td>\n",
       "      <td>RNPS1</td>\n",
       "      <td>0.874299</td>\n",
       "      <td>0.890033</td>\n",
       "      <td>759</td>\n",
       "      <td>7.590000e-105</td>\n",
       "      <td>35.449129</td>\n",
       "      <td>35640609</td>\n",
       "      <td>SaPS</td>\n",
       "      <td>PdPS</td>\n",
       "      <td>LLPS</td>\n",
       "      <td>104.119758</td>\n",
       "    </tr>\n",
       "    <tr>\n",
       "      <th>82</th>\n",
       "      <td>Q13501</td>\n",
       "      <td>SQSTM1</td>\n",
       "      <td>0.744216</td>\n",
       "      <td>0.938113</td>\n",
       "      <td>1391</td>\n",
       "      <td>1.870000e-72</td>\n",
       "      <td>26.874620</td>\n",
       "      <td>38014048</td>\n",
       "      <td>SaPS</td>\n",
       "      <td>PdPS</td>\n",
       "      <td>LLPS</td>\n",
       "      <td>71.728158</td>\n",
       "    </tr>\n",
       "    <tr>\n",
       "      <th>31</th>\n",
       "      <td>P01116</td>\n",
       "      <td>KRAS</td>\n",
       "      <td>0.583972</td>\n",
       "      <td>0.842191</td>\n",
       "      <td>1549</td>\n",
       "      <td>2.560000e-61</td>\n",
       "      <td>25.772949</td>\n",
       "      <td>38453365, 30639242</td>\n",
       "      <td>SaPS</td>\n",
       "      <td>PdPS</td>\n",
       "      <td>LLPS</td>\n",
       "      <td>60.591760</td>\n",
       "    </tr>\n",
       "    <tr>\n",
       "      <th>81</th>\n",
       "      <td>Q13283</td>\n",
       "      <td>G3BP1</td>\n",
       "      <td>0.929826</td>\n",
       "      <td>0.575079</td>\n",
       "      <td>753</td>\n",
       "      <td>1.370000e-51</td>\n",
       "      <td>24.402414</td>\n",
       "      <td>29373831, 37119817, 33217318, 29395067</td>\n",
       "      <td>SaPS</td>\n",
       "      <td>PdPS</td>\n",
       "      <td>LLPS</td>\n",
       "      <td>50.863279</td>\n",
       "    </tr>\n",
       "    <tr>\n",
       "      <th>...</th>\n",
       "      <td>...</td>\n",
       "      <td>...</td>\n",
       "      <td>...</td>\n",
       "      <td>...</td>\n",
       "      <td>...</td>\n",
       "      <td>...</td>\n",
       "      <td>...</td>\n",
       "      <td>...</td>\n",
       "      <td>...</td>\n",
       "      <td>...</td>\n",
       "      <td>...</td>\n",
       "      <td>...</td>\n",
       "    </tr>\n",
       "    <tr>\n",
       "      <th>13</th>\n",
       "      <td>O60333</td>\n",
       "      <td>KIF1B</td>\n",
       "      <td>0.246605</td>\n",
       "      <td>0.751183</td>\n",
       "      <td>56</td>\n",
       "      <td>1.094165e-03</td>\n",
       "      <td>5.092544</td>\n",
       "      <td>29395067</td>\n",
       "      <td>notSaPS</td>\n",
       "      <td>PdPS</td>\n",
       "      <td>LLPS</td>\n",
       "      <td>2.960917</td>\n",
       "    </tr>\n",
       "    <tr>\n",
       "      <th>50</th>\n",
       "      <td>P46937</td>\n",
       "      <td>YAP1</td>\n",
       "      <td>0.944812</td>\n",
       "      <td>0.841596</td>\n",
       "      <td>177</td>\n",
       "      <td>2.469137e-03</td>\n",
       "      <td>4.714279</td>\n",
       "      <td>33472949</td>\n",
       "      <td>SaPS</td>\n",
       "      <td>PdPS</td>\n",
       "      <td>LLPS</td>\n",
       "      <td>2.607455</td>\n",
       "    </tr>\n",
       "    <tr>\n",
       "      <th>49</th>\n",
       "      <td>P46531</td>\n",
       "      <td>NOTCH1</td>\n",
       "      <td>0.708261</td>\n",
       "      <td>0.674697</td>\n",
       "      <td>294</td>\n",
       "      <td>1.044383e-02</td>\n",
       "      <td>4.215314</td>\n",
       "      <td>37454291</td>\n",
       "      <td>SaPS</td>\n",
       "      <td>PdPS</td>\n",
       "      <td>LLPS</td>\n",
       "      <td>1.981140</td>\n",
       "    </tr>\n",
       "    <tr>\n",
       "      <th>28</th>\n",
       "      <td>P00533</td>\n",
       "      <td>EGFR</td>\n",
       "      <td>0.752162</td>\n",
       "      <td>0.866251</td>\n",
       "      <td>1761</td>\n",
       "      <td>4.258136e-02</td>\n",
       "      <td>2.297141</td>\n",
       "      <td>35705039</td>\n",
       "      <td>SaPS</td>\n",
       "      <td>PdPS</td>\n",
       "      <td>LLPS</td>\n",
       "      <td>1.370780</td>\n",
       "    </tr>\n",
       "    <tr>\n",
       "      <th>151</th>\n",
       "      <td>Q9BPZ3</td>\n",
       "      <td>PAIP2</td>\n",
       "      <td>0.212680</td>\n",
       "      <td>0.540822</td>\n",
       "      <td>59</td>\n",
       "      <td>9.030983e-02</td>\n",
       "      <td>2.108847</td>\n",
       "      <td>29395067</td>\n",
       "      <td>notSaPS</td>\n",
       "      <td>PdPS</td>\n",
       "      <td>LLPS</td>\n",
       "      <td>1.044265</td>\n",
       "    </tr>\n",
       "  </tbody>\n",
       "</table>\n",
       "<p>97 rows × 12 columns</p>\n",
       "</div>"
      ],
      "text/plain": [
       "       Gene Uniprot      SaPS      PdPS  num_Preys        mean_pv     zscore  \\\n",
       "70   Q01130    SC35  0.906741  0.957755       2497  4.680000e-162  43.563056   \n",
       "93   Q15287   RNPS1  0.874299  0.890033        759  7.590000e-105  35.449129   \n",
       "82   Q13501  SQSTM1  0.744216  0.938113       1391   1.870000e-72  26.874620   \n",
       "31   P01116    KRAS  0.583972  0.842191       1549   2.560000e-61  25.772949   \n",
       "81   Q13283   G3BP1  0.929826  0.575079        753   1.370000e-51  24.402414   \n",
       "..      ...     ...       ...       ...        ...            ...        ...   \n",
       "13   O60333   KIF1B  0.246605  0.751183         56   1.094165e-03   5.092544   \n",
       "50   P46937    YAP1  0.944812  0.841596        177   2.469137e-03   4.714279   \n",
       "49   P46531  NOTCH1  0.708261  0.674697        294   1.044383e-02   4.215314   \n",
       "28   P00533    EGFR  0.752162  0.866251       1761   4.258136e-02   2.297141   \n",
       "151  Q9BPZ3   PAIP2  0.212680  0.540822         59   9.030983e-02   2.108847   \n",
       "\n",
       "                                    article class_self class_other class_all  \\\n",
       "70                                 32609799       SaPS        PdPS      LLPS   \n",
       "93                                 35640609       SaPS        PdPS      LLPS   \n",
       "82                                 38014048       SaPS        PdPS      LLPS   \n",
       "31                       38453365, 30639242       SaPS        PdPS      LLPS   \n",
       "81   29373831, 37119817, 33217318, 29395067       SaPS        PdPS      LLPS   \n",
       "..                                      ...        ...         ...       ...   \n",
       "13                                 29395067    notSaPS        PdPS      LLPS   \n",
       "50                                 33472949       SaPS        PdPS      LLPS   \n",
       "49                                 37454291       SaPS        PdPS      LLPS   \n",
       "28                                 35705039       SaPS        PdPS      LLPS   \n",
       "151                                29395067    notSaPS        PdPS      LLPS   \n",
       "\n",
       "     -log10(pv)  \n",
       "70   161.329754  \n",
       "93   104.119758  \n",
       "82    71.728158  \n",
       "31    60.591760  \n",
       "81    50.863279  \n",
       "..          ...  \n",
       "13     2.960917  \n",
       "50     2.607455  \n",
       "49     1.981140  \n",
       "28     1.370780  \n",
       "151    1.044265  \n",
       "\n",
       "[97 rows x 12 columns]"
      ]
     },
     "execution_count": 57,
     "metadata": {},
     "output_type": "execute_result"
    }
   ],
   "source": [
    "all_bait_compare_summary_df[all_bait_compare_summary_df['class_all']=='LLPS'].sort_values(by=['mean_pv'],ascending=True)"
   ]
  },
  {
   "cell_type": "code",
   "execution_count": 106,
   "metadata": {},
   "outputs": [
    {
     "data": {
      "image/png": "[encoded data removed]",
      "text/plain": [
       "<Figure size 900x300 with 1 Axes>"
      ]
     },
     "metadata": {},
     "output_type": "display_data"
    }
   ],
   "source": [
    "fig, ax = plt.subplots(figsize=(3,1),dpi=300)\n",
    "\n",
    "sns.scatterplot(data = all_bait_compare_summary_df,y='SaPS',x='-log10(pv)', hue='class_self',palette={'SaPS':'steelblue','notSaPS':'grey'},s=8)\n",
    "\n",
    "#ax = sns.scatterplot(all_bait_compare_summary_df,y='class_self',y='-log10(pv)', hue='class_self',palette={'SaPS':'steelblue','notSaPS':'lightgrey'},alpha=1,s=10)\n",
    "\n",
    "plt.axvline(x=-np.log10(0.05), color='black', linestyle='dashed',linewidth=0.5)\n",
    "sns.move_legend(ax, \"upper left\", bbox_to_anchor=(1, 1))\n",
    "sns.despine()\n",
    "\n",
    "plt.xlim([-20,162])\n"
   ]
  },
  {
   "cell_type": "code",
   "execution_count": 105,
   "metadata": {},
   "outputs": [
    {
     "name": "stderr",
     "output_type": "stream",
     "text": [
      "C:\\Users\\wqswx\\AppData\\Local\\Temp\\ipykernel_15432\\2038012187.py:3: FutureWarning: \n",
      "\n",
      "Passing `palette` without assigning `hue` is deprecated and will be removed in v0.14.0. Assign the `y` variable to `hue` and set `legend=False` for the same effect.\n",
      "\n",
      "  sns.violinplot(all_bait_compare_summary_df,y='class_self',x='-log10(pv)', fill=False, palette={'SaPS':'steelblue','notSaPS':'grey'})\n"
     ]
    },
    {
     "data": {
      "image/png": "[encoded data removed]",
      "text/plain": [
       "<Figure size 900x300 with 1 Axes>"
      ]
     },
     "metadata": {},
     "output_type": "display_data"
    }
   ],
   "source": [
    "fig, ax = plt.subplots(figsize=(3,1),dpi=300)\n",
    "\n",
    "sns.violinplot(all_bait_compare_summary_df,y='class_self',x='-log10(pv)', fill=False, palette={'SaPS':'steelblue','notSaPS':'grey'})\n",
    "#ax = sns.scatterplot(all_bait_compare_summary_df,y='class_self',y='-log10(pv)', hue='class_self',palette={'SaPS':'steelblue','notSaPS':'lightgrey'},alpha=1,s=10)\n",
    "\n",
    "plt.axvline(x=-np.log10(0.05), color='black', linestyle='dashed',linewidth=0.5)\n",
    "#sns.move_legend(ax, \"upper left\", bbox_to_anchor=(1, 1))\n",
    "sns.despine()\n",
    "\n",
    "plt.xlim([-20,162])\n"
   ]
  },
  {
   "cell_type": "markdown",
   "metadata": {},
   "source": [
    "### Showing of partners"
   ]
  },
  {
   "cell_type": "code",
   "execution_count": 61,
   "metadata": {},
   "outputs": [
    {
     "data": {
      "text/html": [
       "<div>\n",
       "<style scoped>\n",
       "    .dataframe tbody tr th:only-of-type {\n",
       "        vertical-align: middle;\n",
       "    }\n",
       "\n",
       "    .dataframe tbody tr th {\n",
       "        vertical-align: top;\n",
       "    }\n",
       "\n",
       "    .dataframe thead th {\n",
       "        text-align: right;\n",
       "    }\n",
       "</style>\n",
       "<table border=\"1\" class=\"dataframe\">\n",
       "  <thead>\n",
       "    <tr style=\"text-align: right;\">\n",
       "      <th></th>\n",
       "      <th>Unnamed: 0</th>\n",
       "      <th>Bait Gene</th>\n",
       "      <th>Bait_uniprot</th>\n",
       "      <th>Prey_uniprot</th>\n",
       "      <th>article</th>\n",
       "      <th>Prey Gene</th>\n",
       "      <th>Bait_SaPS-10fea</th>\n",
       "      <th>Bait_PdPS-10fea</th>\n",
       "      <th>Prey_SaPS-10fea</th>\n",
       "      <th>Prey_PdPS-10fea</th>\n",
       "      <th>cos.sim</th>\n",
       "    </tr>\n",
       "  </thead>\n",
       "  <tbody>\n",
       "    <tr>\n",
       "      <th>0</th>\n",
       "      <td>0</td>\n",
       "      <td>SC35</td>\n",
       "      <td>Q01130</td>\n",
       "      <td>P37837</td>\n",
       "      <td>32609799</td>\n",
       "      <td>TALDO1</td>\n",
       "      <td>0.906741</td>\n",
       "      <td>0.957755</td>\n",
       "      <td>0.246173</td>\n",
       "      <td>0.235115</td>\n",
       "      <td>0.549101</td>\n",
       "    </tr>\n",
       "  </tbody>\n",
       "</table>\n",
       "</div>"
      ],
      "text/plain": [
       "   Unnamed: 0 Bait Gene Bait_uniprot Prey_uniprot   article Prey Gene  \\\n",
       "0           0      SC35       Q01130       P37837  32609799    TALDO1   \n",
       "\n",
       "   Bait_SaPS-10fea  Bait_PdPS-10fea  Prey_SaPS-10fea  Prey_PdPS-10fea  \\\n",
       "0         0.906741         0.957755         0.246173         0.235115   \n",
       "\n",
       "    cos.sim  \n",
       "0  0.549101  "
      ]
     },
     "execution_count": 61,
     "metadata": {},
     "output_type": "execute_result"
    }
   ],
   "source": [
    "#SC35\n",
    "data = pd.read_csv(f\"./promixity_combined/Q01130.csv\")\n",
    "data.head(1)"
   ]
  },
  {
   "cell_type": "code",
   "execution_count": 62,
   "metadata": {},
   "outputs": [
    {
     "data": {
      "text/html": [
       "<div>\n",
       "<style scoped>\n",
       "    .dataframe tbody tr th:only-of-type {\n",
       "        vertical-align: middle;\n",
       "    }\n",
       "\n",
       "    .dataframe tbody tr th {\n",
       "        vertical-align: top;\n",
       "    }\n",
       "\n",
       "    .dataframe thead th {\n",
       "        text-align: right;\n",
       "    }\n",
       "</style>\n",
       "<table border=\"1\" class=\"dataframe\">\n",
       "  <thead>\n",
       "    <tr style=\"text-align: right;\">\n",
       "      <th></th>\n",
       "      <th>Unnamed: 0</th>\n",
       "      <th>Bait Gene</th>\n",
       "      <th>Bait_uniprot</th>\n",
       "      <th>Prey_uniprot</th>\n",
       "      <th>article</th>\n",
       "      <th>Prey Gene</th>\n",
       "      <th>Bait_SaPS-10fea</th>\n",
       "      <th>Bait_PdPS-10fea</th>\n",
       "      <th>Prey_SaPS-10fea</th>\n",
       "      <th>Prey_PdPS-10fea</th>\n",
       "      <th>cos.sim</th>\n",
       "    </tr>\n",
       "  </thead>\n",
       "  <tbody>\n",
       "    <tr>\n",
       "      <th>479</th>\n",
       "      <td>479</td>\n",
       "      <td>SC35</td>\n",
       "      <td>Q01130</td>\n",
       "      <td>Q9UKV3</td>\n",
       "      <td>32609799</td>\n",
       "      <td>ACIN1</td>\n",
       "      <td>0.906741</td>\n",
       "      <td>0.957755</td>\n",
       "      <td>0.904090</td>\n",
       "      <td>0.847837</td>\n",
       "      <td>0.842163</td>\n",
       "    </tr>\n",
       "    <tr>\n",
       "      <th>1289</th>\n",
       "      <td>1289</td>\n",
       "      <td>SC35</td>\n",
       "      <td>Q01130</td>\n",
       "      <td>Q9NR30</td>\n",
       "      <td>32609799</td>\n",
       "      <td>DDX21</td>\n",
       "      <td>0.906741</td>\n",
       "      <td>0.957755</td>\n",
       "      <td>0.934394</td>\n",
       "      <td>0.866877</td>\n",
       "      <td>0.832513</td>\n",
       "    </tr>\n",
       "    <tr>\n",
       "      <th>787</th>\n",
       "      <td>787</td>\n",
       "      <td>SC35</td>\n",
       "      <td>Q01130</td>\n",
       "      <td>Q9NYF8</td>\n",
       "      <td>32609799</td>\n",
       "      <td>BCLAF1</td>\n",
       "      <td>0.906741</td>\n",
       "      <td>0.957755</td>\n",
       "      <td>0.930382</td>\n",
       "      <td>0.892947</td>\n",
       "      <td>0.832174</td>\n",
       "    </tr>\n",
       "    <tr>\n",
       "      <th>463</th>\n",
       "      <td>463</td>\n",
       "      <td>SC35</td>\n",
       "      <td>Q01130</td>\n",
       "      <td>Q5T8P6</td>\n",
       "      <td>32609799</td>\n",
       "      <td>RBM26</td>\n",
       "      <td>0.906741</td>\n",
       "      <td>0.957755</td>\n",
       "      <td>0.802101</td>\n",
       "      <td>0.924976</td>\n",
       "      <td>0.827876</td>\n",
       "    </tr>\n",
       "    <tr>\n",
       "      <th>1232</th>\n",
       "      <td>1232</td>\n",
       "      <td>SC35</td>\n",
       "      <td>Q01130</td>\n",
       "      <td>O75152</td>\n",
       "      <td>32609799</td>\n",
       "      <td>ZC3H11A</td>\n",
       "      <td>0.906741</td>\n",
       "      <td>0.957755</td>\n",
       "      <td>0.810979</td>\n",
       "      <td>0.899011</td>\n",
       "      <td>0.827068</td>\n",
       "    </tr>\n",
       "    <tr>\n",
       "      <th>...</th>\n",
       "      <td>...</td>\n",
       "      <td>...</td>\n",
       "      <td>...</td>\n",
       "      <td>...</td>\n",
       "      <td>...</td>\n",
       "      <td>...</td>\n",
       "      <td>...</td>\n",
       "      <td>...</td>\n",
       "      <td>...</td>\n",
       "      <td>...</td>\n",
       "      <td>...</td>\n",
       "    </tr>\n",
       "    <tr>\n",
       "      <th>1203</th>\n",
       "      <td>1203</td>\n",
       "      <td>SC35</td>\n",
       "      <td>Q01130</td>\n",
       "      <td>Q9H9A6</td>\n",
       "      <td>32609799</td>\n",
       "      <td>LRRC40</td>\n",
       "      <td>0.906741</td>\n",
       "      <td>0.957755</td>\n",
       "      <td>0.066375</td>\n",
       "      <td>0.064865</td>\n",
       "      <td>0.068744</td>\n",
       "    </tr>\n",
       "    <tr>\n",
       "      <th>1773</th>\n",
       "      <td>1773</td>\n",
       "      <td>SC35</td>\n",
       "      <td>Q01130</td>\n",
       "      <td>Q56VL3</td>\n",
       "      <td>32609799</td>\n",
       "      <td>OCIAD2</td>\n",
       "      <td>0.906741</td>\n",
       "      <td>0.957755</td>\n",
       "      <td>0.045673</td>\n",
       "      <td>0.037556</td>\n",
       "      <td>0.055287</td>\n",
       "    </tr>\n",
       "    <tr>\n",
       "      <th>2127</th>\n",
       "      <td>2127</td>\n",
       "      <td>SC35</td>\n",
       "      <td>Q01130</td>\n",
       "      <td>P01893</td>\n",
       "      <td>32609799</td>\n",
       "      <td>HLA-H</td>\n",
       "      <td>0.906741</td>\n",
       "      <td>0.957755</td>\n",
       "      <td>0.072801</td>\n",
       "      <td>0.031970</td>\n",
       "      <td>0.033507</td>\n",
       "    </tr>\n",
       "    <tr>\n",
       "      <th>903</th>\n",
       "      <td>903</td>\n",
       "      <td>SC35</td>\n",
       "      <td>Q01130</td>\n",
       "      <td>P04439</td>\n",
       "      <td>32609799</td>\n",
       "      <td>HLA-A</td>\n",
       "      <td>0.906741</td>\n",
       "      <td>0.957755</td>\n",
       "      <td>0.440503</td>\n",
       "      <td>0.823757</td>\n",
       "      <td>0.033107</td>\n",
       "    </tr>\n",
       "    <tr>\n",
       "      <th>1533</th>\n",
       "      <td>1533</td>\n",
       "      <td>SC35</td>\n",
       "      <td>Q01130</td>\n",
       "      <td>Q9H9S3</td>\n",
       "      <td>32609799</td>\n",
       "      <td>SEC61A2</td>\n",
       "      <td>0.906741</td>\n",
       "      <td>0.957755</td>\n",
       "      <td>0.117053</td>\n",
       "      <td>0.038719</td>\n",
       "      <td>0.013501</td>\n",
       "    </tr>\n",
       "  </tbody>\n",
       "</table>\n",
       "<p>2497 rows × 11 columns</p>\n",
       "</div>"
      ],
      "text/plain": [
       "      Unnamed: 0 Bait Gene Bait_uniprot Prey_uniprot   article Prey Gene  \\\n",
       "479          479      SC35       Q01130       Q9UKV3  32609799     ACIN1   \n",
       "1289        1289      SC35       Q01130       Q9NR30  32609799     DDX21   \n",
       "787          787      SC35       Q01130       Q9NYF8  32609799    BCLAF1   \n",
       "463          463      SC35       Q01130       Q5T8P6  32609799     RBM26   \n",
       "1232        1232      SC35       Q01130       O75152  32609799   ZC3H11A   \n",
       "...          ...       ...          ...          ...       ...       ...   \n",
       "1203        1203      SC35       Q01130       Q9H9A6  32609799    LRRC40   \n",
       "1773        1773      SC35       Q01130       Q56VL3  32609799    OCIAD2   \n",
       "2127        2127      SC35       Q01130       P01893  32609799     HLA-H   \n",
       "903          903      SC35       Q01130       P04439  32609799     HLA-A   \n",
       "1533        1533      SC35       Q01130       Q9H9S3  32609799   SEC61A2   \n",
       "\n",
       "      Bait_SaPS-10fea  Bait_PdPS-10fea  Prey_SaPS-10fea  Prey_PdPS-10fea  \\\n",
       "479          0.906741         0.957755         0.904090         0.847837   \n",
       "1289         0.906741         0.957755         0.934394         0.866877   \n",
       "787          0.906741         0.957755         0.930382         0.892947   \n",
       "463          0.906741         0.957755         0.802101         0.924976   \n",
       "1232         0.906741         0.957755         0.810979         0.899011   \n",
       "...               ...              ...              ...              ...   \n",
       "1203         0.906741         0.957755         0.066375         0.064865   \n",
       "1773         0.906741         0.957755         0.045673         0.037556   \n",
       "2127         0.906741         0.957755         0.072801         0.031970   \n",
       "903          0.906741         0.957755         0.440503         0.823757   \n",
       "1533         0.906741         0.957755         0.117053         0.038719   \n",
       "\n",
       "       cos.sim  \n",
       "479   0.842163  \n",
       "1289  0.832513  \n",
       "787   0.832174  \n",
       "463   0.827876  \n",
       "1232  0.827068  \n",
       "...        ...  \n",
       "1203  0.068744  \n",
       "1773  0.055287  \n",
       "2127  0.033507  \n",
       "903   0.033107  \n",
       "1533  0.013501  \n",
       "\n",
       "[2497 rows x 11 columns]"
      ]
     },
     "execution_count": 62,
     "metadata": {},
     "output_type": "execute_result"
    }
   ],
   "source": [
    "data = data.sort_values(by=['cos.sim'],ascending=False)\n",
    "data"
   ]
  },
  {
   "cell_type": "code",
   "execution_count": 63,
   "metadata": {},
   "outputs": [],
   "source": [
    "data['rank'] = range(len(data))"
   ]
  },
  {
   "cell_type": "code",
   "execution_count": 253,
   "metadata": {},
   "outputs": [
    {
     "data": {
      "image/png": "[encoded data removed]",
      "text/plain": [
       "<Figure size 1800x1200 with 1 Axes>"
      ]
     },
     "metadata": {},
     "output_type": "display_data"
    }
   ],
   "source": [
    "fig, ax = plt.subplots(figsize=(6,4),dpi=300)\n",
    "plt.scatter(data=data, y=\"cos.sim\", x='rank', color = 'brown',s=0.3)\n",
    "sns.despine(bottom=True)\n",
    "plt.axhline(y=0.5,color='indianred',linestyle='--',linewidth=1)\n",
    "plt.legend().remove()\n",
    "plt.xlabel('Rank with SC35')\n",
    "plt.ylabel('Cosine Similarity')\n"
   ]
  },
  {
   "cell_type": "code",
   "execution_count": 66,
   "metadata": {},
   "outputs": [
    {
     "data": {
      "text/html": [
       "<div>\n",
       "<style scoped>\n",
       "    .dataframe tbody tr th:only-of-type {\n",
       "        vertical-align: middle;\n",
       "    }\n",
       "\n",
       "    .dataframe tbody tr th {\n",
       "        vertical-align: top;\n",
       "    }\n",
       "\n",
       "    .dataframe thead th {\n",
       "        text-align: right;\n",
       "    }\n",
       "</style>\n",
       "<table border=\"1\" class=\"dataframe\">\n",
       "  <thead>\n",
       "    <tr style=\"text-align: right;\">\n",
       "      <th></th>\n",
       "      <th>Unnamed: 0</th>\n",
       "      <th>Bait Gene</th>\n",
       "      <th>Bait_uniprot</th>\n",
       "      <th>Prey_uniprot</th>\n",
       "      <th>article</th>\n",
       "      <th>Prey Gene</th>\n",
       "      <th>Bait_SaPS-10fea</th>\n",
       "      <th>Bait_PdPS-10fea</th>\n",
       "      <th>Prey_SaPS-10fea</th>\n",
       "      <th>Prey_PdPS-10fea</th>\n",
       "      <th>cos.sim</th>\n",
       "    </tr>\n",
       "  </thead>\n",
       "  <tbody>\n",
       "    <tr>\n",
       "      <th>0</th>\n",
       "      <td>293</td>\n",
       "      <td>G3BP1</td>\n",
       "      <td>Q13283</td>\n",
       "      <td>A0FGR8</td>\n",
       "      <td>29373831</td>\n",
       "      <td>ESYT2</td>\n",
       "      <td>0.929826</td>\n",
       "      <td>0.575079</td>\n",
       "      <td>0.421148</td>\n",
       "      <td>0.709921</td>\n",
       "      <td>0.421509</td>\n",
       "    </tr>\n",
       "  </tbody>\n",
       "</table>\n",
       "</div>"
      ],
      "text/plain": [
       "   Unnamed: 0 Bait Gene Bait_uniprot Prey_uniprot   article Prey Gene  \\\n",
       "0         293     G3BP1       Q13283       A0FGR8  29373831     ESYT2   \n",
       "\n",
       "   Bait_SaPS-10fea  Bait_PdPS-10fea  Prey_SaPS-10fea  Prey_PdPS-10fea  \\\n",
       "0         0.929826         0.575079         0.421148         0.709921   \n",
       "\n",
       "    cos.sim  \n",
       "0  0.421509  "
      ]
     },
     "execution_count": 66,
     "metadata": {},
     "output_type": "execute_result"
    }
   ],
   "source": [
    "#G3BP1\n",
    "data = pd.read_csv(f\"./promixity_combined/Q13283.csv\")\n",
    "data.head(1)"
   ]
  },
  {
   "cell_type": "code",
   "execution_count": 67,
   "metadata": {},
   "outputs": [
    {
     "data": {
      "text/html": [
       "<div>\n",
       "<style scoped>\n",
       "    .dataframe tbody tr th:only-of-type {\n",
       "        vertical-align: middle;\n",
       "    }\n",
       "\n",
       "    .dataframe tbody tr th {\n",
       "        vertical-align: top;\n",
       "    }\n",
       "\n",
       "    .dataframe thead th {\n",
       "        text-align: right;\n",
       "    }\n",
       "</style>\n",
       "<table border=\"1\" class=\"dataframe\">\n",
       "  <thead>\n",
       "    <tr style=\"text-align: right;\">\n",
       "      <th></th>\n",
       "      <th>Unnamed: 0</th>\n",
       "      <th>Bait Gene</th>\n",
       "      <th>Bait_uniprot</th>\n",
       "      <th>Prey_uniprot</th>\n",
       "      <th>article</th>\n",
       "      <th>Prey Gene</th>\n",
       "      <th>Bait_SaPS-10fea</th>\n",
       "      <th>Bait_PdPS-10fea</th>\n",
       "      <th>Prey_SaPS-10fea</th>\n",
       "      <th>Prey_PdPS-10fea</th>\n",
       "      <th>cos.sim</th>\n",
       "    </tr>\n",
       "  </thead>\n",
       "  <tbody>\n",
       "    <tr>\n",
       "      <th>370</th>\n",
       "      <td>38</td>\n",
       "      <td>G3BP1</td>\n",
       "      <td>Q13283</td>\n",
       "      <td>Q14157</td>\n",
       "      <td>29395067</td>\n",
       "      <td>UBAP2L</td>\n",
       "      <td>0.929826</td>\n",
       "      <td>0.575079</td>\n",
       "      <td>0.945615</td>\n",
       "      <td>0.953562</td>\n",
       "      <td>0.817712</td>\n",
       "    </tr>\n",
       "    <tr>\n",
       "      <th>546</th>\n",
       "      <td>34</td>\n",
       "      <td>G3BP1</td>\n",
       "      <td>Q13283</td>\n",
       "      <td>Q92804</td>\n",
       "      <td>29373831</td>\n",
       "      <td>TAF15</td>\n",
       "      <td>0.929826</td>\n",
       "      <td>0.575079</td>\n",
       "      <td>0.934126</td>\n",
       "      <td>0.906644</td>\n",
       "      <td>0.801722</td>\n",
       "    </tr>\n",
       "    <tr>\n",
       "      <th>474</th>\n",
       "      <td>20</td>\n",
       "      <td>G3BP1</td>\n",
       "      <td>Q13283</td>\n",
       "      <td>Q7Z739</td>\n",
       "      <td>29395067</td>\n",
       "      <td>YTHDF3</td>\n",
       "      <td>0.929826</td>\n",
       "      <td>0.575079</td>\n",
       "      <td>0.934216</td>\n",
       "      <td>0.743057</td>\n",
       "      <td>0.795036</td>\n",
       "    </tr>\n",
       "    <tr>\n",
       "      <th>550</th>\n",
       "      <td>107</td>\n",
       "      <td>G3BP1</td>\n",
       "      <td>Q13283</td>\n",
       "      <td>Q92945</td>\n",
       "      <td>29373831</td>\n",
       "      <td>KHSRP</td>\n",
       "      <td>0.929826</td>\n",
       "      <td>0.575079</td>\n",
       "      <td>0.950581</td>\n",
       "      <td>0.897286</td>\n",
       "      <td>0.790708</td>\n",
       "    </tr>\n",
       "    <tr>\n",
       "      <th>202</th>\n",
       "      <td>71</td>\n",
       "      <td>G3BP1</td>\n",
       "      <td>Q13283</td>\n",
       "      <td>P35637</td>\n",
       "      <td>29373831</td>\n",
       "      <td>FUS</td>\n",
       "      <td>0.929826</td>\n",
       "      <td>0.575079</td>\n",
       "      <td>0.929791</td>\n",
       "      <td>0.911399</td>\n",
       "      <td>0.785952</td>\n",
       "    </tr>\n",
       "    <tr>\n",
       "      <th>...</th>\n",
       "      <td>...</td>\n",
       "      <td>...</td>\n",
       "      <td>...</td>\n",
       "      <td>...</td>\n",
       "      <td>...</td>\n",
       "      <td>...</td>\n",
       "      <td>...</td>\n",
       "      <td>...</td>\n",
       "      <td>...</td>\n",
       "      <td>...</td>\n",
       "      <td>...</td>\n",
       "    </tr>\n",
       "    <tr>\n",
       "      <th>643</th>\n",
       "      <td>467</td>\n",
       "      <td>G3BP1</td>\n",
       "      <td>Q13283</td>\n",
       "      <td>Q9H9A6</td>\n",
       "      <td>29373831</td>\n",
       "      <td>LRRC40</td>\n",
       "      <td>0.929826</td>\n",
       "      <td>0.575079</td>\n",
       "      <td>0.066375</td>\n",
       "      <td>0.064865</td>\n",
       "      <td>0.080874</td>\n",
       "    </tr>\n",
       "    <tr>\n",
       "      <th>128</th>\n",
       "      <td>64</td>\n",
       "      <td>G3BP1</td>\n",
       "      <td>Q13283</td>\n",
       "      <td>P13640</td>\n",
       "      <td>37119817</td>\n",
       "      <td>MT1G</td>\n",
       "      <td>0.929826</td>\n",
       "      <td>0.575079</td>\n",
       "      <td>0.097001</td>\n",
       "      <td>0.123247</td>\n",
       "      <td>0.067636</td>\n",
       "    </tr>\n",
       "    <tr>\n",
       "      <th>365</th>\n",
       "      <td>194</td>\n",
       "      <td>G3BP1</td>\n",
       "      <td>Q13283</td>\n",
       "      <td>Q13907</td>\n",
       "      <td>29373831</td>\n",
       "      <td>IDI1</td>\n",
       "      <td>0.929826</td>\n",
       "      <td>0.575079</td>\n",
       "      <td>0.161062</td>\n",
       "      <td>0.547688</td>\n",
       "      <td>0.058325</td>\n",
       "    </tr>\n",
       "    <tr>\n",
       "      <th>81</th>\n",
       "      <td>358</td>\n",
       "      <td>G3BP1</td>\n",
       "      <td>Q13283</td>\n",
       "      <td>O95470</td>\n",
       "      <td>29373831</td>\n",
       "      <td>SGPL1</td>\n",
       "      <td>0.929826</td>\n",
       "      <td>0.575079</td>\n",
       "      <td>0.066514</td>\n",
       "      <td>0.236983</td>\n",
       "      <td>0.049441</td>\n",
       "    </tr>\n",
       "    <tr>\n",
       "      <th>429</th>\n",
       "      <td>134</td>\n",
       "      <td>G3BP1</td>\n",
       "      <td>Q13283</td>\n",
       "      <td>Q5MY95</td>\n",
       "      <td>29373831</td>\n",
       "      <td>ENTPD8</td>\n",
       "      <td>0.929826</td>\n",
       "      <td>0.575079</td>\n",
       "      <td>0.081360</td>\n",
       "      <td>0.028162</td>\n",
       "      <td>0.001161</td>\n",
       "    </tr>\n",
       "  </tbody>\n",
       "</table>\n",
       "<p>753 rows × 11 columns</p>\n",
       "</div>"
      ],
      "text/plain": [
       "     Unnamed: 0 Bait Gene Bait_uniprot Prey_uniprot   article Prey Gene  \\\n",
       "370          38     G3BP1       Q13283       Q14157  29395067    UBAP2L   \n",
       "546          34     G3BP1       Q13283       Q92804  29373831     TAF15   \n",
       "474          20     G3BP1       Q13283       Q7Z739  29395067    YTHDF3   \n",
       "550         107     G3BP1       Q13283       Q92945  29373831     KHSRP   \n",
       "202          71     G3BP1       Q13283       P35637  29373831       FUS   \n",
       "..          ...       ...          ...          ...       ...       ...   \n",
       "643         467     G3BP1       Q13283       Q9H9A6  29373831    LRRC40   \n",
       "128          64     G3BP1       Q13283       P13640  37119817      MT1G   \n",
       "365         194     G3BP1       Q13283       Q13907  29373831      IDI1   \n",
       "81          358     G3BP1       Q13283       O95470  29373831     SGPL1   \n",
       "429         134     G3BP1       Q13283       Q5MY95  29373831    ENTPD8   \n",
       "\n",
       "     Bait_SaPS-10fea  Bait_PdPS-10fea  Prey_SaPS-10fea  Prey_PdPS-10fea  \\\n",
       "370         0.929826         0.575079         0.945615         0.953562   \n",
       "546         0.929826         0.575079         0.934126         0.906644   \n",
       "474         0.929826         0.575079         0.934216         0.743057   \n",
       "550         0.929826         0.575079         0.950581         0.897286   \n",
       "202         0.929826         0.575079         0.929791         0.911399   \n",
       "..               ...              ...              ...              ...   \n",
       "643         0.929826         0.575079         0.066375         0.064865   \n",
       "128         0.929826         0.575079         0.097001         0.123247   \n",
       "365         0.929826         0.575079         0.161062         0.547688   \n",
       "81          0.929826         0.575079         0.066514         0.236983   \n",
       "429         0.929826         0.575079         0.081360         0.028162   \n",
       "\n",
       "      cos.sim  \n",
       "370  0.817712  \n",
       "546  0.801722  \n",
       "474  0.795036  \n",
       "550  0.790708  \n",
       "202  0.785952  \n",
       "..        ...  \n",
       "643  0.080874  \n",
       "128  0.067636  \n",
       "365  0.058325  \n",
       "81   0.049441  \n",
       "429  0.001161  \n",
       "\n",
       "[753 rows x 11 columns]"
      ]
     },
     "execution_count": 67,
     "metadata": {},
     "output_type": "execute_result"
    }
   ],
   "source": [
    "data = data.sort_values(by=['cos.sim'],ascending=False)\n",
    "data"
   ]
  },
  {
   "cell_type": "code",
   "execution_count": 68,
   "metadata": {},
   "outputs": [],
   "source": [
    "data['rank'] = range(len(data))"
   ]
  },
  {
   "cell_type": "code",
   "execution_count": 69,
   "metadata": {},
   "outputs": [
    {
     "data": {
      "text/plain": [
       "'UBAP2L,TAF15,YTHDF3,KHSRP,FUS,KHDRBS1,IGF2BP2,HNRNPR,TDRD3,CDV3,RALY,EIF4H,SAFB,FAM98A,PTBP3,HNRNPD,EWSR1,FUBP1,UPF1,ZC3H7B'"
      ]
     },
     "execution_count": 69,
     "metadata": {},
     "output_type": "execute_result"
    }
   ],
   "source": [
    "','.join(data.iloc[:20,:]['Prey Gene'].tolist())"
   ]
  },
  {
   "cell_type": "code",
   "execution_count": 257,
   "metadata": {},
   "outputs": [
    {
     "data": {
      "image/png": "[encoded data removed]",
      "text/plain": [
       "<Figure size 1800x1200 with 1 Axes>"
      ]
     },
     "metadata": {},
     "output_type": "display_data"
    }
   ],
   "source": [
    "fig, ax = plt.subplots(figsize=(6,4),dpi=300)\n",
    "plt.scatter(data=data, y=\"cos.sim\", x='rank', color = 'peru',s=0.5)\n",
    "sns.despine(bottom=True)\n",
    "plt.axhline(y=0.5,color='saddlebrown',linestyle='--',linewidth=1)\n",
    "plt.legend().remove()\n",
    "plt.xlabel('Rank with G3BP1')\n",
    "plt.ylabel('Cosine Similarity')\n"
   ]
  }
 ],
 "metadata": {
  "kernelspec": {
   "display_name": "base",
   "language": "python",
   "name": "python3"
  },
  "language_info": {
   "codemirror_mode": {
    "name": "ipython",
    "version": 3
   },
   "file_extension": ".py",
   "mimetype": "text/x-python",
   "name": "python",
   "nbconvert_exporter": "python",
   "pygments_lexer": "ipython3",
   "version": "3.11.5"
  }
 },
 "nbformat": 4,
 "nbformat_minor": 2
}
