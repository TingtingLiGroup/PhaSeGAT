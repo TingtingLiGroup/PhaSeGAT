{
 "cells": [
  {
   "cell_type": "code",
   "execution_count": 2,
   "metadata": {},
   "outputs": [],
   "source": [
    "import pandas as pd\n",
    "import numpy as np\n",
    "import networkx as nx\n",
    "from tqdm import tqdm\n",
    "import os"
   ]
  },
  {
   "cell_type": "code",
   "execution_count": 3,
   "metadata": {},
   "outputs": [
    {
     "data": {
      "text/html": [
       "<div>\n",
       "<style scoped>\n",
       "    .dataframe tbody tr th:only-of-type {\n",
       "        vertical-align: middle;\n",
       "    }\n",
       "\n",
       "    .dataframe tbody tr th {\n",
       "        vertical-align: top;\n",
       "    }\n",
       "\n",
       "    .dataframe thead th {\n",
       "        text-align: right;\n",
       "    }\n",
       "</style>\n",
       "<table border=\"1\" class=\"dataframe\">\n",
       "  <thead>\n",
       "    <tr style=\"text-align: right;\">\n",
       "      <th></th>\n",
       "      <th>A</th>\n",
       "      <th>B</th>\n",
       "    </tr>\n",
       "  </thead>\n",
       "  <tbody>\n",
       "    <tr>\n",
       "      <th>0</th>\n",
       "      <td>Q9H2S6</td>\n",
       "      <td>Q9NPE6</td>\n",
       "    </tr>\n",
       "    <tr>\n",
       "      <th>1</th>\n",
       "      <td>Q9H2S6</td>\n",
       "      <td>Q9BXK5</td>\n",
       "    </tr>\n",
       "  </tbody>\n",
       "</table>\n",
       "</div>"
      ],
      "text/plain": [
       "        A       B\n",
       "0  Q9H2S6  Q9NPE6\n",
       "1  Q9H2S6  Q9BXK5"
      ]
     },
     "execution_count": 3,
     "metadata": {},
     "output_type": "execute_result"
    }
   ],
   "source": [
    "integrate = pd.read_csv(\"../data/integrate.csv\")\n",
    "integrate.head(2)"
   ]
  },
  {
   "cell_type": "code",
   "execution_count": 4,
   "metadata": {},
   "outputs": [
    {
     "data": {
      "text/plain": [
       "15939"
      ]
     },
     "execution_count": 4,
     "metadata": {},
     "output_type": "execute_result"
    }
   ],
   "source": [
    "all_genes = list(set(integrate['A'].tolist()+integrate['B'].tolist()))\n",
    "len(all_genes)"
   ]
  },
  {
   "cell_type": "code",
   "execution_count": null,
   "metadata": {},
   "outputs": [],
   "source": [
    "SAVE_ROOT = '/home/lyz/PhaSepGAT/saves/INTEGRATE_ProSE80d_pos1neg1/'\n",
    "preds = pd.read_pickle(f'{SAVE_ROOT}preds.pkl')\n",
    "genes = pd.read_pickle(f'{SAVE_ROOT}genes.pkl')"
   ]
  },
  {
   "cell_type": "code",
   "execution_count": 6,
   "metadata": {},
   "outputs": [],
   "source": [
    "genename_to_uniprot = pd.read_pickle(\"../data/HUMAN_9606_idmapping_genename.pkl\")\n",
    "genename_to_uniprot_integrate = genename_to_uniprot.set_index(['Uniprot']).loc[list(set(genes)&set(genename_to_uniprot['Uniprot'].tolist())),:].reset_index()\n",
    "\n",
    "genename_to_uniprot_dict = genename_to_uniprot_integrate.set_index(['ID']).to_dict()['Uniprot']\n",
    "uniprot_to_genename_dict = genename_to_uniprot_integrate.set_index(['Uniprot']).to_dict()['ID']"
   ]
  },
  {
   "cell_type": "code",
   "execution_count": 7,
   "metadata": {},
   "outputs": [],
   "source": [
    "llps_scores = pd.read_pickle(\"../data/HUMAN_9606_PhaSePred_SaPS_PdPS.pkl\")\n",
    "llps_dict = llps_scores.set_index(['entry']).to_dict()"
   ]
  },
  {
   "cell_type": "code",
   "execution_count": null,
   "metadata": {},
   "outputs": [],
   "source": [
    "known_ps_protein = pd.read_pickle(\"/home/lyz/PhaSepGAT/data/Label/human.condensate-formation.proteins-v1.pkl\")\n",
    "known_ps_protein = known_ps_protein[known_ps_protein['source']=='literature']['uniprot_entry'].tolist()"
   ]
  },
  {
   "cell_type": "code",
   "execution_count": 7,
   "metadata": {},
   "outputs": [],
   "source": [
    "import json"
   ]
  },
  {
   "cell_type": "code",
   "execution_count": 52,
   "metadata": {},
   "outputs": [],
   "source": [
    "with open(\"../data/cophase_data.json\",'r') as f:\n",
    "    co_phase_data_dict = json.load(f)"
   ]
  },
  {
   "cell_type": "markdown",
   "metadata": {},
   "source": [
    "## Deleting existed PPIs in Integreted Human PPI Network"
   ]
  },
  {
   "cell_type": "code",
   "execution_count": 69,
   "metadata": {},
   "outputs": [
    {
     "data": {
      "text/plain": [
       "220"
      ]
     },
     "execution_count": 69,
     "metadata": {},
     "output_type": "execute_result"
    }
   ],
   "source": [
    "data_files = os.listdir(\"./promixity\")\n",
    "len(data_files)"
   ]
  },
  {
   "cell_type": "code",
   "execution_count": 70,
   "metadata": {},
   "outputs": [],
   "source": [
    "all_summary = []"
   ]
  },
  {
   "cell_type": "code",
   "execution_count": 71,
   "metadata": {
    "scrolled": true
   },
   "outputs": [
    {
     "name": "stderr",
     "output_type": "stream",
     "text": [
      "100%|██████████| 220/220 [00:34<00:00,  6.45it/s]"
     ]
    },
    {
     "name": "stdout",
     "output_type": "stream",
     "text": [
      "219\n"
     ]
    },
    {
     "name": "stderr",
     "output_type": "stream",
     "text": [
      "\n"
     ]
    }
   ],
   "source": [
    "for k in tqdm(range(len(data_files))):\n",
    "    f = data_files[k]\n",
    "    data = pd.read_csv(f\"./promixity/{f}\")\n",
    "    \n",
    "    bait = data.loc[0,'Bait_uniprot']\n",
    "    bait_g = data.loc[0,'Bait Gene']\n",
    "    \n",
    "    if bait in all_genes:\n",
    "        preys = data['Prey_uniprot'].tolist()\n",
    "        preys_in_net = list(set(preys)&set(integrate['A'].tolist()+integrate['B'].tolist()))\n",
    "\n",
    "        edges_integrate = pd.concat([integrate[integrate['A']==bait], integrate[integrate['B']==bait]])\n",
    "        edges_partners = list(set(edges_integrate['A'].tolist()) | set(edges_integrate['B'].tolist()))\n",
    "\n",
    "        partners_not_in_net = [i for i in preys_in_net if i not in edges_partners]\n",
    "        partners_not_in_net = [i for i in partners_not_in_net if i != bait]\n",
    "\n",
    "        data_filtered = pd.DataFrame(index=range(len(partners_not_in_net)))\n",
    "        data_filtered['Bait Gene'] = [bait_g]*len(data_filtered)\n",
    "        data_filtered['Bait_uniprot'] = [bait]*len(data_filtered)\n",
    "        data_filtered['Prey_uniprot'] = partners_not_in_net\n",
    "        data_filtered['article'] = [f[:-4].split('_')[0]]*len(data_filtered)\n",
    "        data_filtered['Prey Gene'] = data_filtered['Prey_uniprot'].map(uniprot_to_genename_dict)\n",
    "        data_filtered['Bait_SaPS-10fea'] = data_filtered['Bait_uniprot'].map(llps_dict['SaPS-10fea'])\n",
    "        data_filtered['Bait_PdPS-10fea'] = data_filtered['Bait_uniprot'].map(llps_dict['PdPS-10fea'])\n",
    "        data_filtered['Prey_SaPS-10fea'] = data_filtered['Prey_uniprot'].map(llps_dict['SaPS-10fea'])\n",
    "        data_filtered['Prey_PdPS-10fea'] = data_filtered['Prey_uniprot'].map(llps_dict['PdPS-10fea'])\n",
    "        \n",
    "        data_filtered = data_filtered.dropna(subset=['Prey_SaPS-10fea'])\n",
    "\n",
    "        cossim_list = []\n",
    "        for p in partners_not_in_net:\n",
    "            try:\n",
    "                cossim_list.append(co_phase_data_dict[bait+p])\n",
    "            except:\n",
    "                cossim_list.append(co_phase_data_dict[p+bait])\n",
    "        data_filtered['cos.sim'] = cossim_list\n",
    "\n",
    "        data_filtered.to_csv(f'./promixity_filtered/{f}',index=False)\n",
    "        if bait == 'Q01130':\n",
    "            print(k)\n",
    "        all_summary.append([bait_g, bait, len(preys),len(preys_in_net),len(partners_not_in_net),f[:-4].split('_')[0]])"
   ]
  },
  {
   "cell_type": "code",
   "execution_count": 72,
   "metadata": {},
   "outputs": [],
   "source": [
    "all_summary = pd.DataFrame(all_summary,columns=['Gene','Uniprot','Preys','Preys in net','Preys not in edges','PMID'])"
   ]
  },
  {
   "cell_type": "code",
   "execution_count": 73,
   "metadata": {},
   "outputs": [
    {
     "data": {
      "text/html": [
       "<div>\n",
       "<style scoped>\n",
       "    .dataframe tbody tr th:only-of-type {\n",
       "        vertical-align: middle;\n",
       "    }\n",
       "\n",
       "    .dataframe tbody tr th {\n",
       "        vertical-align: top;\n",
       "    }\n",
       "\n",
       "    .dataframe thead th {\n",
       "        text-align: right;\n",
       "    }\n",
       "</style>\n",
       "<table border=\"1\" class=\"dataframe\">\n",
       "  <thead>\n",
       "    <tr style=\"text-align: right;\">\n",
       "      <th></th>\n",
       "      <th>Gene</th>\n",
       "      <th>Uniprot</th>\n",
       "      <th>Preys</th>\n",
       "      <th>Preys in net</th>\n",
       "      <th>Preys not in edges</th>\n",
       "      <th>PMID</th>\n",
       "    </tr>\n",
       "  </thead>\n",
       "  <tbody>\n",
       "    <tr>\n",
       "      <th>215</th>\n",
       "      <td>SC35</td>\n",
       "      <td>Q01130</td>\n",
       "      <td>2527</td>\n",
       "      <td>2520</td>\n",
       "      <td>2497</td>\n",
       "      <td>32609799</td>\n",
       "    </tr>\n",
       "  </tbody>\n",
       "</table>\n",
       "</div>"
      ],
      "text/plain": [
       "     Gene Uniprot  Preys  Preys in net  Preys not in edges      PMID\n",
       "215  SC35  Q01130   2527          2520                2497  32609799"
      ]
     },
     "execution_count": 73,
     "metadata": {},
     "output_type": "execute_result"
    }
   ],
   "source": [
    "all_summary[all_summary['Uniprot']=='Q01130']"
   ]
  },
  {
   "cell_type": "code",
   "execution_count": 75,
   "metadata": {},
   "outputs": [],
   "source": [
    "all_summary['Bait_SaPS-10fea'] = all_summary['Uniprot'].map(llps_dict['SaPS-10fea'])\n",
    "all_summary['Bait_PdPS-10fea'] = all_summary['Uniprot'].map(llps_dict['PdPS-10fea'])"
   ]
  },
  {
   "cell_type": "code",
   "execution_count": 76,
   "metadata": {},
   "outputs": [],
   "source": [
    "all_summary.to_csv(\"promixity_summary_all.csv\",index=False)"
   ]
  },
  {
   "cell_type": "markdown",
   "metadata": {},
   "source": [
    "## For one protein, comparing with background"
   ]
  },
  {
   "cell_type": "code",
   "execution_count": 9,
   "metadata": {},
   "outputs": [],
   "source": [
    "llps_proteins_list = ['Q01130','Q13283','O15055','P00533','Q9BPZ3']"
   ]
  },
  {
   "cell_type": "code",
   "execution_count": 10,
   "metadata": {},
   "outputs": [],
   "source": [
    "backgrounds_all = pd.DataFrame()\n",
    "real_all =[]"
   ]
  },
  {
   "cell_type": "code",
   "execution_count": 11,
   "metadata": {},
   "outputs": [],
   "source": [
    "for p in llps_proteins_list:\n",
    "    background_distribution1 = pd.read_csv(f\"./background/{p}.csv\")\n",
    "    real_values1 = pd.read_csv(f\"./promixity_combined/{p}.csv\")\n",
    "\n",
    "    background_distribution1 = background_distribution1.loc[:,['mean_cossim']]\n",
    "    background_distribution1['class'] = [p]*len(background_distribution1)\n",
    "    backgrounds_all = pd.concat([backgrounds_all,background_distribution1])\n",
    "    real_all.append(np.mean(real_values1['cos.sim'].tolist()))\n"
   ]
  },
  {
   "cell_type": "code",
   "execution_count": 12,
   "metadata": {},
   "outputs": [
    {
     "data": {
      "text/html": [
       "<div>\n",
       "<style scoped>\n",
       "    .dataframe tbody tr th:only-of-type {\n",
       "        vertical-align: middle;\n",
       "    }\n",
       "\n",
       "    .dataframe tbody tr th {\n",
       "        vertical-align: top;\n",
       "    }\n",
       "\n",
       "    .dataframe thead th {\n",
       "        text-align: right;\n",
       "    }\n",
       "</style>\n",
       "<table border=\"1\" class=\"dataframe\">\n",
       "  <thead>\n",
       "    <tr style=\"text-align: right;\">\n",
       "      <th></th>\n",
       "      <th>mean_cossim</th>\n",
       "      <th>class</th>\n",
       "    </tr>\n",
       "  </thead>\n",
       "  <tbody>\n",
       "    <tr>\n",
       "      <th>0</th>\n",
       "      <td>0.410920</td>\n",
       "      <td>Q01130</td>\n",
       "    </tr>\n",
       "    <tr>\n",
       "      <th>1</th>\n",
       "      <td>0.410968</td>\n",
       "      <td>Q01130</td>\n",
       "    </tr>\n",
       "    <tr>\n",
       "      <th>2</th>\n",
       "      <td>0.412679</td>\n",
       "      <td>Q01130</td>\n",
       "    </tr>\n",
       "    <tr>\n",
       "      <th>3</th>\n",
       "      <td>0.413910</td>\n",
       "      <td>Q01130</td>\n",
       "    </tr>\n",
       "    <tr>\n",
       "      <th>4</th>\n",
       "      <td>0.417487</td>\n",
       "      <td>Q01130</td>\n",
       "    </tr>\n",
       "    <tr>\n",
       "      <th>...</th>\n",
       "      <td>...</td>\n",
       "      <td>...</td>\n",
       "    </tr>\n",
       "    <tr>\n",
       "      <th>995</th>\n",
       "      <td>0.172423</td>\n",
       "      <td>Q9BPZ3</td>\n",
       "    </tr>\n",
       "    <tr>\n",
       "      <th>996</th>\n",
       "      <td>0.174756</td>\n",
       "      <td>Q9BPZ3</td>\n",
       "    </tr>\n",
       "    <tr>\n",
       "      <th>997</th>\n",
       "      <td>0.152141</td>\n",
       "      <td>Q9BPZ3</td>\n",
       "    </tr>\n",
       "    <tr>\n",
       "      <th>998</th>\n",
       "      <td>0.154382</td>\n",
       "      <td>Q9BPZ3</td>\n",
       "    </tr>\n",
       "    <tr>\n",
       "      <th>999</th>\n",
       "      <td>0.143427</td>\n",
       "      <td>Q9BPZ3</td>\n",
       "    </tr>\n",
       "  </tbody>\n",
       "</table>\n",
       "<p>5000 rows × 2 columns</p>\n",
       "</div>"
      ],
      "text/plain": [
       "     mean_cossim   class\n",
       "0       0.410920  Q01130\n",
       "1       0.410968  Q01130\n",
       "2       0.412679  Q01130\n",
       "3       0.413910  Q01130\n",
       "4       0.417487  Q01130\n",
       "..           ...     ...\n",
       "995     0.172423  Q9BPZ3\n",
       "996     0.174756  Q9BPZ3\n",
       "997     0.152141  Q9BPZ3\n",
       "998     0.154382  Q9BPZ3\n",
       "999     0.143427  Q9BPZ3\n",
       "\n",
       "[5000 rows x 2 columns]"
      ]
     },
     "execution_count": 12,
     "metadata": {},
     "output_type": "execute_result"
    }
   ],
   "source": [
    "backgrounds_all"
   ]
  },
  {
   "cell_type": "code",
   "execution_count": 13,
   "metadata": {},
   "outputs": [],
   "source": [
    "import matplotlib.pyplot as plt  \n",
    "%matplotlib inline\n",
    "%config InlineBackend.figure_format = 'jpg'\n",
    "import seaborn as sns\n",
    "import matplotlib as mpl\n",
    "mpl.rcParams['figure.dpi']= 300"
   ]
  },
  {
   "cell_type": "code",
   "execution_count": 14,
   "metadata": {},
   "outputs": [
    {
     "data": {
      "image/jpeg": "[encoded data removed]",
      "text/plain": [
       "<Figure size 600x600 with 1 Axes>"
      ]
     },
     "metadata": {},
     "output_type": "display_data"
    }
   ],
   "source": [
    "fig = plt.subplots(figsize=(2,2),dpi=300) \n",
    "sns.set_style('white')\n",
    "\n",
    "\n",
    "sns.boxplot(data=backgrounds_all,x='mean_cossim',y='class',showfliers=False,color='black',fill=False,linewidth=0.5)\n",
    "\n",
    "for i in range(5):\n",
    "    plt.scatter(y=i,x=real_all[i],s=10,color='lightcoral')\n",
    "\n",
    "\n",
    "sns.despine()\n",
    "\n",
    "plt.savefig(f\"./Fig3B.png\",bbox_inches = 'tight',dpi=300)"
   ]
  },
  {
   "cell_type": "markdown",
   "metadata": {},
   "source": [
    "## Comparing cisine similarity with random background"
   ]
  },
  {
   "cell_type": "code",
   "execution_count": 98,
   "metadata": {},
   "outputs": [
    {
     "data": {
      "text/plain": [
       "216"
      ]
     },
     "execution_count": 98,
     "metadata": {},
     "output_type": "execute_result"
    }
   ],
   "source": [
    "data_files = os.listdir(\"./promixity_filtered\")\n",
    "len(data_files)"
   ]
  },
  {
   "cell_type": "code",
   "execution_count": 99,
   "metadata": {},
   "outputs": [
    {
     "data": {
      "text/plain": [
       "'17289661_Q9NZI8.csv'"
      ]
     },
     "execution_count": 99,
     "metadata": {},
     "output_type": "execute_result"
    }
   ],
   "source": [
    "data_files[0]"
   ]
  },
  {
   "cell_type": "code",
   "execution_count": 79,
   "metadata": {},
   "outputs": [],
   "source": [
    "import random\n",
    "import scipy.stats as stats"
   ]
  },
  {
   "cell_type": "code",
   "execution_count": 80,
   "metadata": {},
   "outputs": [
    {
     "name": "stderr",
     "output_type": "stream",
     "text": [
      "100%|██████████| 216/216 [25:50<00:00,  7.18s/it]\n"
     ]
    }
   ],
   "source": [
    "for k in tqdm(range(len(data_files))):\n",
    "    f = data_files[k]\n",
    "    data = pd.read_csv(f\"./promixity_filtered/{f}\")\n",
    "    \n",
    "    \n",
    "    bait = data.loc[0,'Bait_uniprot']\n",
    "    bait_g = data.loc[0,'Bait Gene']\n",
    "    bait_saps = data.loc[0,'Bait_SaPS-10fea']\n",
    "    bait_pdps = data.loc[0,'Bait_PdPS-10fea']\n",
    "    \n",
    "    bait_data = [i for i in list(co_phase_data_dict.keys()) if bait in i]\n",
    "    bait_cossim = [co_phase_data_dict[i] for i in bait_data]\n",
    "    bait_with_cossim = pd.DataFrame(index=range(len(bait_data)))\n",
    "    bait_with_cossim['Prey_uniprot'] = bait_data\n",
    "    bait_with_cossim['cossim'] = bait_cossim\n",
    "    bait_with_cossim.to_csv(f\"./all_partners_cossim/{bait}.csv\")\n",
    "    "
   ]
  },
  {
   "cell_type": "code",
   "execution_count": null,
   "metadata": {},
   "outputs": [],
   "source": [
    "# 合并相同蛋白"
   ]
  },
  {
   "cell_type": "code",
   "execution_count": 82,
   "metadata": {},
   "outputs": [
    {
     "data": {
      "text/plain": [
       "203"
      ]
     },
     "execution_count": 82,
     "metadata": {},
     "output_type": "execute_result"
    }
   ],
   "source": [
    "len(os.listdir(f\"./all_partners_cossim/\"))"
   ]
  },
  {
   "cell_type": "code",
   "execution_count": 140,
   "metadata": {},
   "outputs": [
    {
     "data": {
      "text/plain": [
       "370"
      ]
     },
     "execution_count": 140,
     "metadata": {},
     "output_type": "execute_result"
    }
   ],
   "source": [
    "all_uniprot = []\n",
    "for i in data_files:\n",
    "    all_uniprot.append(i[1:].split('.')[0].split('_')[1])\n",
    "all_uniprot = np.unique(all_uniprot).tolist()\n",
    "len(all_uniprot)"
   ]
  },
  {
   "cell_type": "code",
   "execution_count": 141,
   "metadata": {},
   "outputs": [],
   "source": [
    "data_summary = []"
   ]
  },
  {
   "cell_type": "code",
   "execution_count": 142,
   "metadata": {},
   "outputs": [
    {
     "name": "stderr",
     "output_type": "stream",
     "text": [
      "100%|██████████| 370/370 [00:46<00:00,  7.98it/s]\n"
     ]
    }
   ],
   "source": [
    "for p in tqdm(all_uniprot):\n",
    "    this_p_file = [i for i in data_files if p in i]\n",
    "    \n",
    "    pmid = ''\n",
    "    \n",
    "    this_p_data_all = pd.DataFrame()\n",
    "    for pf in this_p_file:\n",
    "        #data_pf = pd.read_csv('./promixity_filtered/'+pf)\n",
    "        data_pf = pd.read_csv(pf)\n",
    "        this_p_data_all = pd.concat([this_p_data_all,data_pf])\n",
    "        pmid+=pf.split('/')[2].split('_')[0]+', '\n",
    "        #pmid+=pf.split('_')[0]+', '\n",
    "        \n",
    "    this_p_data_all = this_p_data_all.drop_duplicates(subset=['Prey_uniprot'])\n",
    "    this_p_data_all.to_csv(f\"./promixity_combined/{p}.csv\")\n",
    "    \n",
    "    data_summary.append([p,len(this_p_data_all),pmid[:-2]])"
   ]
  },
  {
   "cell_type": "code",
   "execution_count": 113,
   "metadata": {},
   "outputs": [],
   "source": [
    "data_summary_df = pd.DataFrame(data_summary,columns = ['uniprot','Num_preys','PMID'])\n",
    "data_summary_df['SaPS-10fea'] = data_summary_df['uniprot'].map(llps_dict['SaPS-10fea'])\n",
    "data_summary_df['PdPS-10fea'] = data_summary_df['uniprot'].map(llps_dict['PdPS-10fea'])\n",
    "data_summary_df['SaPS-8fea'] = data_summary_df['uniprot'].map(llps_dict['SaPS-8fea'])\n",
    "data_summary_df['PdPS-8fea'] = data_summary_df['uniprot'].map(llps_dict['PdPS-8fea'])"
   ]
  },
  {
   "cell_type": "code",
   "execution_count": 114,
   "metadata": {},
   "outputs": [
    {
     "data": {
      "text/html": [
       "<div>\n",
       "<style scoped>\n",
       "    .dataframe tbody tr th:only-of-type {\n",
       "        vertical-align: middle;\n",
       "    }\n",
       "\n",
       "    .dataframe tbody tr th {\n",
       "        vertical-align: top;\n",
       "    }\n",
       "\n",
       "    .dataframe thead th {\n",
       "        text-align: right;\n",
       "    }\n",
       "</style>\n",
       "<table border=\"1\" class=\"dataframe\">\n",
       "  <thead>\n",
       "    <tr style=\"text-align: right;\">\n",
       "      <th></th>\n",
       "      <th>uniprot</th>\n",
       "      <th>Num_preys</th>\n",
       "      <th>PMID</th>\n",
       "      <th>SaPS-10fea</th>\n",
       "      <th>PdPS-10fea</th>\n",
       "      <th>SaPS-8fea</th>\n",
       "      <th>PdPS-8fea</th>\n",
       "    </tr>\n",
       "  </thead>\n",
       "  <tbody>\n",
       "    <tr>\n",
       "      <th>0</th>\n",
       "      <td>A0AV96</td>\n",
       "      <td>146</td>\n",
       "      <td>29395067</td>\n",
       "      <td>0.329001</td>\n",
       "      <td>0.257143</td>\n",
       "      <td>0.335920</td>\n",
       "      <td>0.367314</td>\n",
       "    </tr>\n",
       "    <tr>\n",
       "      <th>1</th>\n",
       "      <td>A0FGR8</td>\n",
       "      <td>149</td>\n",
       "      <td>37931956</td>\n",
       "      <td>0.421148</td>\n",
       "      <td>0.709921</td>\n",
       "      <td>0.075430</td>\n",
       "      <td>0.336415</td>\n",
       "    </tr>\n",
       "    <tr>\n",
       "      <th>2</th>\n",
       "      <td>A5YKK6</td>\n",
       "      <td>8</td>\n",
       "      <td>29395067</td>\n",
       "      <td>0.167426</td>\n",
       "      <td>0.152646</td>\n",
       "      <td>0.536207</td>\n",
       "      <td>0.404258</td>\n",
       "    </tr>\n",
       "    <tr>\n",
       "      <th>3</th>\n",
       "      <td>O00178</td>\n",
       "      <td>26</td>\n",
       "      <td>29395067</td>\n",
       "      <td>0.713772</td>\n",
       "      <td>0.446460</td>\n",
       "      <td>0.269502</td>\n",
       "      <td>0.484926</td>\n",
       "    </tr>\n",
       "    <tr>\n",
       "      <th>4</th>\n",
       "      <td>O00244</td>\n",
       "      <td>49</td>\n",
       "      <td>34550632</td>\n",
       "      <td>0.173481</td>\n",
       "      <td>0.399118</td>\n",
       "      <td>0.072456</td>\n",
       "      <td>0.433647</td>\n",
       "    </tr>\n",
       "    <tr>\n",
       "      <th>...</th>\n",
       "      <td>...</td>\n",
       "      <td>...</td>\n",
       "      <td>...</td>\n",
       "      <td>...</td>\n",
       "      <td>...</td>\n",
       "      <td>...</td>\n",
       "      <td>...</td>\n",
       "    </tr>\n",
       "    <tr>\n",
       "      <th>198</th>\n",
       "      <td>Q9Y3F4</td>\n",
       "      <td>7</td>\n",
       "      <td>29395067</td>\n",
       "      <td>0.288940</td>\n",
       "      <td>0.477604</td>\n",
       "      <td>0.062340</td>\n",
       "      <td>0.162144</td>\n",
       "    </tr>\n",
       "    <tr>\n",
       "      <th>199</th>\n",
       "      <td>Q9Y4F3</td>\n",
       "      <td>51</td>\n",
       "      <td>29395067</td>\n",
       "      <td>0.109177</td>\n",
       "      <td>0.290736</td>\n",
       "      <td>0.161058</td>\n",
       "      <td>0.574381</td>\n",
       "    </tr>\n",
       "    <tr>\n",
       "      <th>200</th>\n",
       "      <td>Q9Y4Z0</td>\n",
       "      <td>52</td>\n",
       "      <td>29395067</td>\n",
       "      <td>0.093078</td>\n",
       "      <td>0.261316</td>\n",
       "      <td>0.560568</td>\n",
       "      <td>0.396553</td>\n",
       "    </tr>\n",
       "    <tr>\n",
       "      <th>201</th>\n",
       "      <td>Q9Y5A9</td>\n",
       "      <td>125</td>\n",
       "      <td>29395067</td>\n",
       "      <td>0.942175</td>\n",
       "      <td>0.901862</td>\n",
       "      <td>0.938018</td>\n",
       "      <td>0.812827</td>\n",
       "    </tr>\n",
       "    <tr>\n",
       "      <th>202</th>\n",
       "      <td>Q9Y6M1</td>\n",
       "      <td>111</td>\n",
       "      <td>29395067</td>\n",
       "      <td>0.716962</td>\n",
       "      <td>0.877932</td>\n",
       "      <td>0.214298</td>\n",
       "      <td>0.731596</td>\n",
       "    </tr>\n",
       "  </tbody>\n",
       "</table>\n",
       "<p>203 rows × 7 columns</p>\n",
       "</div>"
      ],
      "text/plain": [
       "    uniprot  Num_preys      PMID  SaPS-10fea  PdPS-10fea  SaPS-8fea  PdPS-8fea\n",
       "0    A0AV96        146  29395067    0.329001    0.257143   0.335920   0.367314\n",
       "1    A0FGR8        149  37931956    0.421148    0.709921   0.075430   0.336415\n",
       "2    A5YKK6          8  29395067    0.167426    0.152646   0.536207   0.404258\n",
       "3    O00178         26  29395067    0.713772    0.446460   0.269502   0.484926\n",
       "4    O00244         49  34550632    0.173481    0.399118   0.072456   0.433647\n",
       "..      ...        ...       ...         ...         ...        ...        ...\n",
       "198  Q9Y3F4          7  29395067    0.288940    0.477604   0.062340   0.162144\n",
       "199  Q9Y4F3         51  29395067    0.109177    0.290736   0.161058   0.574381\n",
       "200  Q9Y4Z0         52  29395067    0.093078    0.261316   0.560568   0.396553\n",
       "201  Q9Y5A9        125  29395067    0.942175    0.901862   0.938018   0.812827\n",
       "202  Q9Y6M1        111  29395067    0.716962    0.877932   0.214298   0.731596\n",
       "\n",
       "[203 rows x 7 columns]"
      ]
     },
     "execution_count": 114,
     "metadata": {},
     "output_type": "execute_result"
    }
   ],
   "source": [
    "data_summary_df"
   ]
  },
  {
   "cell_type": "code",
   "execution_count": 116,
   "metadata": {},
   "outputs": [],
   "source": [
    "data_summary_df.to_csv(\"Proximity_combined.csv\",index=None)"
   ]
  },
  {
   "cell_type": "code",
   "execution_count": 115,
   "metadata": {},
   "outputs": [
    {
     "data": {
      "text/plain": [
       "203"
      ]
     },
     "execution_count": 115,
     "metadata": {},
     "output_type": "execute_result"
    }
   ],
   "source": [
    "len(os.listdir(f\"./promixity_combined/\"))"
   ]
  },
  {
   "cell_type": "code",
   "execution_count": 120,
   "metadata": {},
   "outputs": [],
   "source": [
    "data_files = os.listdir(f\"./promixity_combined/\")"
   ]
  },
  {
   "cell_type": "code",
   "execution_count": 121,
   "metadata": {},
   "outputs": [],
   "source": [
    "all_bait_compare_summary = []"
   ]
  },
  {
   "cell_type": "code",
   "execution_count": 122,
   "metadata": {},
   "outputs": [
    {
     "name": "stderr",
     "output_type": "stream",
     "text": [
      "100%|██████████| 203/203 [31:30<00:00,  9.31s/it]\n"
     ]
    }
   ],
   "source": [
    "for k in tqdm(range(len(data_files))):\n",
    "    f = data_files[k]\n",
    "    data = pd.read_csv(f\"./promixity_combined/{f}\")\n",
    "\n",
    "    data = data.drop_duplicates(subset=['Prey_uniprot'])\n",
    "    \n",
    "    bait = data.loc[0,'Bait_uniprot']\n",
    "    bait_g = data.loc[0,'Bait Gene']\n",
    "    bait_saps = data.loc[0,'Bait_SaPS-10fea']\n",
    "    bait_pdps = data.loc[0,'Bait_PdPS-10fea']\n",
    "    #articles = ','.join([str(i) for i in data.drop_duplicates(subset=['article'])['article'].tolist()])\n",
    "    \n",
    "    cossim = data['cos.sim'].tolist()\n",
    "\n",
    "    bait_with_cossim = pd.read_csv(f\"./all_partners_cossim/{bait}.csv\")\n",
    "    \n",
    "    \n",
    "    \n",
    "    background_list = []\n",
    "    for m in range(1000):\n",
    "        random_background = bait_with_cossim.sample(n=len(data),random_state=m)\n",
    "        random_cossim = random_background['cossim'].tolist()\n",
    "        pv = stats.mannwhitneyu(cossim,random_cossim,alternative='greater')[1]\n",
    "        mean_cossim = np.mean(random_cossim)\n",
    "        background_list.append([','.join(random_background['Prey_uniprot'].tolist()),','.join([str(i) for i in random_cossim]),mean_cossim,pv])\n",
    "    \n",
    "    background_df = pd.DataFrame(background_list,columns=['protein_list','cos.sim','mean_cossim','pv'])\n",
    "    background_df.to_csv(f\"./background/{bait}.csv\")\n",
    "    \n",
    "    zscore = (np.mean(cossim)-np.mean(background_df['mean_cossim'].tolist()))/np.std(background_df['mean_cossim'].tolist())\n",
    "    \n",
    "    all_bait_compare_summary.append([bait,bait_g,bait_saps,bait_pdps,len(data),np.mean(background_df['pv'].tolist()),zscore])\n"
   ]
  },
  {
   "cell_type": "code",
   "execution_count": 123,
   "metadata": {},
   "outputs": [],
   "source": [
    "pmid_df = []"
   ]
  },
  {
   "cell_type": "code",
   "execution_count": 124,
   "metadata": {},
   "outputs": [
    {
     "name": "stderr",
     "output_type": "stream",
     "text": [
      "100%|██████████| 203/203 [00:00<00:00, 353.18it/s]\n"
     ]
    }
   ],
   "source": [
    "for k in tqdm(range(len(data_files))):\n",
    "    f = data_files[k]\n",
    "    data = pd.read_csv(f\"./promixity_combined/{f}\")\n",
    "    data = data.drop_duplicates(subset=['Prey_uniprot'])\n",
    "    \n",
    "    bait = data.loc[0,'Bait_uniprot']\n",
    "    bait_g = data.loc[0,'Bait Gene']\n",
    "    bait_saps = data.loc[0,'Bait_SaPS-10fea']\n",
    "    bait_pdps = data.loc[0,'Bait_PdPS-10fea']\n",
    "    pmids = ', '.join([str(i) for i in data.drop_duplicates(subset=['article'],keep='first')['article'].tolist()])\n",
    "    \n",
    "\n",
    "\n",
    "    pmid_df.append([bait,bait_g,bait_saps,pmids])\n"
   ]
  },
  {
   "cell_type": "code",
   "execution_count": 125,
   "metadata": {},
   "outputs": [],
   "source": [
    "pmid_df = pd.DataFrame(pmid_df,columns=['Gene','Uniprot','SaPS','article'])"
   ]
  },
  {
   "cell_type": "code",
   "execution_count": 126,
   "metadata": {},
   "outputs": [],
   "source": [
    "pmid_df.to_csv(\"tmp.csv\")"
   ]
  },
  {
   "cell_type": "code",
   "execution_count": 127,
   "metadata": {},
   "outputs": [],
   "source": [
    "all_bait_compare_summary_df = pd.DataFrame(all_bait_compare_summary,columns=['Gene','Uniprot','SaPS','PdPS','num_Preys','mean_pv','zscore'])"
   ]
  },
  {
   "cell_type": "code",
   "execution_count": 128,
   "metadata": {},
   "outputs": [],
   "source": [
    "all_bait_compare_summary_df = all_bait_compare_summary_df.drop_duplicates(subset=['Gene'])"
   ]
  },
  {
   "cell_type": "code",
   "execution_count": 129,
   "metadata": {},
   "outputs": [
    {
     "data": {
      "text/html": [
       "<div>\n",
       "<style scoped>\n",
       "    .dataframe tbody tr th:only-of-type {\n",
       "        vertical-align: middle;\n",
       "    }\n",
       "\n",
       "    .dataframe tbody tr th {\n",
       "        vertical-align: top;\n",
       "    }\n",
       "\n",
       "    .dataframe thead th {\n",
       "        text-align: right;\n",
       "    }\n",
       "</style>\n",
       "<table border=\"1\" class=\"dataframe\">\n",
       "  <thead>\n",
       "    <tr style=\"text-align: right;\">\n",
       "      <th></th>\n",
       "      <th>Gene</th>\n",
       "      <th>Uniprot</th>\n",
       "      <th>SaPS</th>\n",
       "      <th>PdPS</th>\n",
       "      <th>num_Preys</th>\n",
       "      <th>mean_pv</th>\n",
       "      <th>zscore</th>\n",
       "    </tr>\n",
       "  </thead>\n",
       "  <tbody>\n",
       "    <tr>\n",
       "      <th>0</th>\n",
       "      <td>Q9NZI8</td>\n",
       "      <td>IMP1</td>\n",
       "      <td>0.525629</td>\n",
       "      <td>0.795508</td>\n",
       "      <td>113</td>\n",
       "      <td>8.214131e-22</td>\n",
       "      <td>18.011417</td>\n",
       "    </tr>\n",
       "    <tr>\n",
       "      <th>1</th>\n",
       "      <td>Q9NX05</td>\n",
       "      <td>FAM120C</td>\n",
       "      <td>0.231581</td>\n",
       "      <td>0.102665</td>\n",
       "      <td>225</td>\n",
       "      <td>6.738799e-16</td>\n",
       "      <td>14.064514</td>\n",
       "    </tr>\n",
       "    <tr>\n",
       "      <th>2</th>\n",
       "      <td>P60842</td>\n",
       "      <td>eIF4A1</td>\n",
       "      <td>0.163013</td>\n",
       "      <td>0.365248</td>\n",
       "      <td>58</td>\n",
       "      <td>2.504988e-08</td>\n",
       "      <td>9.527152</td>\n",
       "    </tr>\n",
       "    <tr>\n",
       "      <th>3</th>\n",
       "      <td>Q9H074</td>\n",
       "      <td>PAIP1</td>\n",
       "      <td>0.605274</td>\n",
       "      <td>0.589198</td>\n",
       "      <td>28</td>\n",
       "      <td>2.910619e-04</td>\n",
       "      <td>6.222006</td>\n",
       "    </tr>\n",
       "    <tr>\n",
       "      <th>4</th>\n",
       "      <td>Q9H7E2</td>\n",
       "      <td>TDRD3</td>\n",
       "      <td>0.897540</td>\n",
       "      <td>0.883250</td>\n",
       "      <td>135</td>\n",
       "      <td>3.364009e-18</td>\n",
       "      <td>14.750538</td>\n",
       "    </tr>\n",
       "    <tr>\n",
       "      <th>...</th>\n",
       "      <td>...</td>\n",
       "      <td>...</td>\n",
       "      <td>...</td>\n",
       "      <td>...</td>\n",
       "      <td>...</td>\n",
       "      <td>...</td>\n",
       "      <td>...</td>\n",
       "    </tr>\n",
       "    <tr>\n",
       "      <th>198</th>\n",
       "      <td>Q6TCH7</td>\n",
       "      <td>PAQR3</td>\n",
       "      <td>0.085218</td>\n",
       "      <td>0.067076</td>\n",
       "      <td>988</td>\n",
       "      <td>9.486375e-01</td>\n",
       "      <td>-3.963986</td>\n",
       "    </tr>\n",
       "    <tr>\n",
       "      <th>199</th>\n",
       "      <td>Q13283</td>\n",
       "      <td>G3BP1</td>\n",
       "      <td>0.929826</td>\n",
       "      <td>0.575079</td>\n",
       "      <td>2353</td>\n",
       "      <td>1.021667e-97</td>\n",
       "      <td>34.470688</td>\n",
       "    </tr>\n",
       "    <tr>\n",
       "      <th>200</th>\n",
       "      <td>P01116</td>\n",
       "      <td>KRAS</td>\n",
       "      <td>0.583972</td>\n",
       "      <td>0.842191</td>\n",
       "      <td>1549</td>\n",
       "      <td>2.560274e-61</td>\n",
       "      <td>25.772949</td>\n",
       "    </tr>\n",
       "    <tr>\n",
       "      <th>201</th>\n",
       "      <td>Q8N884</td>\n",
       "      <td>cGAS</td>\n",
       "      <td>0.657121</td>\n",
       "      <td>0.932160</td>\n",
       "      <td>15</td>\n",
       "      <td>1.163667e-02</td>\n",
       "      <td>3.846812</td>\n",
       "    </tr>\n",
       "    <tr>\n",
       "      <th>202</th>\n",
       "      <td>P49450</td>\n",
       "      <td>CENPA</td>\n",
       "      <td>0.445705</td>\n",
       "      <td>0.645103</td>\n",
       "      <td>2636</td>\n",
       "      <td>1.824539e-124</td>\n",
       "      <td>37.808632</td>\n",
       "    </tr>\n",
       "  </tbody>\n",
       "</table>\n",
       "<p>203 rows × 7 columns</p>\n",
       "</div>"
      ],
      "text/plain": [
       "       Gene  Uniprot      SaPS      PdPS  num_Preys        mean_pv     zscore\n",
       "0    Q9NZI8     IMP1  0.525629  0.795508        113   8.214131e-22  18.011417\n",
       "1    Q9NX05  FAM120C  0.231581  0.102665        225   6.738799e-16  14.064514\n",
       "2    P60842   eIF4A1  0.163013  0.365248         58   2.504988e-08   9.527152\n",
       "3    Q9H074    PAIP1  0.605274  0.589198         28   2.910619e-04   6.222006\n",
       "4    Q9H7E2    TDRD3  0.897540  0.883250        135   3.364009e-18  14.750538\n",
       "..      ...      ...       ...       ...        ...            ...        ...\n",
       "198  Q6TCH7    PAQR3  0.085218  0.067076        988   9.486375e-01  -3.963986\n",
       "199  Q13283    G3BP1  0.929826  0.575079       2353   1.021667e-97  34.470688\n",
       "200  P01116     KRAS  0.583972  0.842191       1549   2.560274e-61  25.772949\n",
       "201  Q8N884     cGAS  0.657121  0.932160         15   1.163667e-02   3.846812\n",
       "202  P49450    CENPA  0.445705  0.645103       2636  1.824539e-124  37.808632\n",
       "\n",
       "[203 rows x 7 columns]"
      ]
     },
     "execution_count": 129,
     "metadata": {},
     "output_type": "execute_result"
    }
   ],
   "source": [
    "all_bait_compare_summary_df"
   ]
  },
  {
   "cell_type": "code",
   "execution_count": 130,
   "metadata": {},
   "outputs": [
    {
     "data": {
      "text/html": [
       "<div>\n",
       "<style scoped>\n",
       "    .dataframe tbody tr th:only-of-type {\n",
       "        vertical-align: middle;\n",
       "    }\n",
       "\n",
       "    .dataframe tbody tr th {\n",
       "        vertical-align: top;\n",
       "    }\n",
       "\n",
       "    .dataframe thead th {\n",
       "        text-align: right;\n",
       "    }\n",
       "</style>\n",
       "<table border=\"1\" class=\"dataframe\">\n",
       "  <thead>\n",
       "    <tr style=\"text-align: right;\">\n",
       "      <th></th>\n",
       "      <th>Gene</th>\n",
       "      <th>Uniprot</th>\n",
       "      <th>SaPS</th>\n",
       "      <th>PdPS</th>\n",
       "      <th>num_Preys</th>\n",
       "      <th>mean_pv</th>\n",
       "      <th>zscore</th>\n",
       "    </tr>\n",
       "  </thead>\n",
       "  <tbody>\n",
       "    <tr>\n",
       "      <th>189</th>\n",
       "      <td>Q01130</td>\n",
       "      <td>SC35</td>\n",
       "      <td>0.906741</td>\n",
       "      <td>0.957755</td>\n",
       "      <td>2497</td>\n",
       "      <td>4.682668e-162</td>\n",
       "      <td>43.563056</td>\n",
       "    </tr>\n",
       "  </tbody>\n",
       "</table>\n",
       "</div>"
      ],
      "text/plain": [
       "       Gene Uniprot      SaPS      PdPS  num_Preys        mean_pv     zscore\n",
       "189  Q01130    SC35  0.906741  0.957755       2497  4.682668e-162  43.563056"
      ]
     },
     "execution_count": 130,
     "metadata": {},
     "output_type": "execute_result"
    }
   ],
   "source": [
    "all_bait_compare_summary_df[all_bait_compare_summary_df['Uniprot']=='SC35']"
   ]
  },
  {
   "cell_type": "code",
   "execution_count": 135,
   "metadata": {},
   "outputs": [],
   "source": [
    "filelist = os.listdir(\"./promixity_combined\")"
   ]
  },
  {
   "cell_type": "code",
   "execution_count": 136,
   "metadata": {},
   "outputs": [
    {
     "data": {
      "text/plain": [
       "203"
      ]
     },
     "execution_count": 136,
     "metadata": {},
     "output_type": "execute_result"
    }
   ],
   "source": [
    "len(filelist)"
   ]
  },
  {
   "cell_type": "code",
   "execution_count": 133,
   "metadata": {},
   "outputs": [],
   "source": [
    "all_interactom = pd.DataFrame()"
   ]
  },
  {
   "cell_type": "code",
   "execution_count": 137,
   "metadata": {},
   "outputs": [],
   "source": [
    "for f in filelist:\n",
    "    data = pd.read_csv(f\"./promixity_combined/{f}\")\n",
    "    all_interactom = pd.concat([all_interactom,data])"
   ]
  },
  {
   "cell_type": "code",
   "execution_count": 138,
   "metadata": {},
   "outputs": [],
   "source": [
    "all_interactom.to_csv(\"./all_promixity_data_combined.csv\")"
   ]
  },
  {
   "cell_type": "code",
   "execution_count": 131,
   "metadata": {},
   "outputs": [
    {
     "data": {
      "text/html": [
       "<div>\n",
       "<style scoped>\n",
       "    .dataframe tbody tr th:only-of-type {\n",
       "        vertical-align: middle;\n",
       "    }\n",
       "\n",
       "    .dataframe tbody tr th {\n",
       "        vertical-align: top;\n",
       "    }\n",
       "\n",
       "    .dataframe thead th {\n",
       "        text-align: right;\n",
       "    }\n",
       "</style>\n",
       "<table border=\"1\" class=\"dataframe\">\n",
       "  <thead>\n",
       "    <tr style=\"text-align: right;\">\n",
       "      <th></th>\n",
       "      <th>Gene</th>\n",
       "      <th>Uniprot</th>\n",
       "      <th>SaPS</th>\n",
       "      <th>PdPS</th>\n",
       "      <th>num_Preys</th>\n",
       "      <th>mean_pv</th>\n",
       "      <th>zscore</th>\n",
       "    </tr>\n",
       "  </thead>\n",
       "  <tbody>\n",
       "    <tr>\n",
       "      <th>189</th>\n",
       "      <td>Q01130</td>\n",
       "      <td>SC35</td>\n",
       "      <td>0.906741</td>\n",
       "      <td>0.957755</td>\n",
       "      <td>2497</td>\n",
       "      <td>4.682668e-162</td>\n",
       "      <td>43.563056</td>\n",
       "    </tr>\n",
       "  </tbody>\n",
       "</table>\n",
       "</div>"
      ],
      "text/plain": [
       "       Gene Uniprot      SaPS      PdPS  num_Preys        mean_pv     zscore\n",
       "189  Q01130    SC35  0.906741  0.957755       2497  4.682668e-162  43.563056"
      ]
     },
     "execution_count": 131,
     "metadata": {},
     "output_type": "execute_result"
    }
   ],
   "source": [
    "all_bait_compare_summary_df[all_bait_compare_summary_df['Uniprot']=='SC35']"
   ]
  },
  {
   "cell_type": "code",
   "execution_count": 132,
   "metadata": {},
   "outputs": [],
   "source": [
    "all_bait_compare_summary_df.to_csv(\"./pv_zscore_filtered.csv\",index=False)"
   ]
  },
  {
   "cell_type": "code",
   "execution_count": 17,
   "metadata": {},
   "outputs": [
    {
     "data": {
      "text/html": [
       "<div>\n",
       "<style scoped>\n",
       "    .dataframe tbody tr th:only-of-type {\n",
       "        vertical-align: middle;\n",
       "    }\n",
       "\n",
       "    .dataframe tbody tr th {\n",
       "        vertical-align: top;\n",
       "    }\n",
       "\n",
       "    .dataframe thead th {\n",
       "        text-align: right;\n",
       "    }\n",
       "</style>\n",
       "<table border=\"1\" class=\"dataframe\">\n",
       "  <thead>\n",
       "    <tr style=\"text-align: right;\">\n",
       "      <th></th>\n",
       "      <th>Uniprot</th>\n",
       "      <th>Gene</th>\n",
       "      <th>SaPS</th>\n",
       "      <th>PdPS</th>\n",
       "      <th>num_Preys</th>\n",
       "      <th>mean_pv</th>\n",
       "      <th>zscore</th>\n",
       "      <th>article</th>\n",
       "    </tr>\n",
       "  </thead>\n",
       "  <tbody>\n",
       "    <tr>\n",
       "      <th>202</th>\n",
       "      <td>P49450</td>\n",
       "      <td>CENPA</td>\n",
       "      <td>0.445705</td>\n",
       "      <td>0.645103</td>\n",
       "      <td>2636</td>\n",
       "      <td>1.820000e-124</td>\n",
       "      <td>37.808632</td>\n",
       "      <td>32609799</td>\n",
       "    </tr>\n",
       "  </tbody>\n",
       "</table>\n",
       "</div>"
      ],
      "text/plain": [
       "    Uniprot   Gene      SaPS      PdPS  num_Preys        mean_pv     zscore  \\\n",
       "202  P49450  CENPA  0.445705  0.645103       2636  1.820000e-124  37.808632   \n",
       "\n",
       "      article  \n",
       "202  32609799  "
      ]
     },
     "execution_count": 17,
     "metadata": {},
     "output_type": "execute_result"
    }
   ],
   "source": [
    "all_bait_compare_summary_df = pd.read_csv(\"./pv_zscore_filtered.csv\").sort_values(by=['num_Preys'],ascending=False)\n",
    "all_bait_compare_summary_df.head(1)"
   ]
  },
  {
   "cell_type": "code",
   "execution_count": 18,
   "metadata": {},
   "outputs": [],
   "source": [
    "known_ps_dict = dict(zip(known_ps_protein,['Known_PS']*len(known_ps_protein)))"
   ]
  },
  {
   "cell_type": "code",
   "execution_count": 19,
   "metadata": {},
   "outputs": [],
   "source": [
    "all_bait_compare_summary_df['PreviousResearch'] = all_bait_compare_summary_df['Uniprot'].map(known_ps_dict)"
   ]
  },
  {
   "cell_type": "code",
   "execution_count": 20,
   "metadata": {},
   "outputs": [
    {
     "data": {
      "text/plain": [
       "203"
      ]
     },
     "execution_count": 20,
     "metadata": {},
     "output_type": "execute_result"
    }
   ],
   "source": [
    "len(all_bait_compare_summary_df)"
   ]
  },
  {
   "cell_type": "code",
   "execution_count": 21,
   "metadata": {
    "collapsed": true
   },
   "outputs": [
    {
     "data": {
      "text/plain": [
       "62"
      ]
     },
     "execution_count": 21,
     "metadata": {},
     "output_type": "execute_result"
    }
   ],
   "source": [
    "all_ar = []\n",
    "for i in all_bait_compare_summary_df['article'].tolist():\n",
    "    all_ar += i.split(', ')\n",
    "len(np.unique(all_ar))"
   ]
  },
  {
   "cell_type": "code",
   "execution_count": 22,
   "metadata": {},
   "outputs": [
    {
     "data": {
      "text/plain": [
       "149"
      ]
     },
     "execution_count": 22,
     "metadata": {},
     "output_type": "execute_result"
    }
   ],
   "source": [
    "all_bait_compare_summary_df = all_bait_compare_summary_df[all_bait_compare_summary_df['num_Preys']>=50]\n",
    "len(all_bait_compare_summary_df)"
   ]
  },
  {
   "cell_type": "code",
   "execution_count": 23,
   "metadata": {},
   "outputs": [
    {
     "data": {
      "text/html": [
       "<div>\n",
       "<style scoped>\n",
       "    .dataframe tbody tr th:only-of-type {\n",
       "        vertical-align: middle;\n",
       "    }\n",
       "\n",
       "    .dataframe tbody tr th {\n",
       "        vertical-align: top;\n",
       "    }\n",
       "\n",
       "    .dataframe thead th {\n",
       "        text-align: right;\n",
       "    }\n",
       "</style>\n",
       "<table border=\"1\" class=\"dataframe\">\n",
       "  <thead>\n",
       "    <tr style=\"text-align: right;\">\n",
       "      <th></th>\n",
       "      <th>Uniprot</th>\n",
       "      <th>Gene</th>\n",
       "      <th>SaPS</th>\n",
       "      <th>PdPS</th>\n",
       "      <th>num_Preys</th>\n",
       "      <th>mean_pv</th>\n",
       "      <th>zscore</th>\n",
       "      <th>article</th>\n",
       "      <th>PreviousResearch</th>\n",
       "    </tr>\n",
       "  </thead>\n",
       "  <tbody>\n",
       "    <tr>\n",
       "      <th>202</th>\n",
       "      <td>P49450</td>\n",
       "      <td>CENPA</td>\n",
       "      <td>0.445705</td>\n",
       "      <td>0.645103</td>\n",
       "      <td>2636</td>\n",
       "      <td>1.820000e-124</td>\n",
       "      <td>37.808632</td>\n",
       "      <td>32609799</td>\n",
       "      <td>NaN</td>\n",
       "    </tr>\n",
       "    <tr>\n",
       "      <th>189</th>\n",
       "      <td>Q01130</td>\n",
       "      <td>SC35</td>\n",
       "      <td>0.906741</td>\n",
       "      <td>0.957755</td>\n",
       "      <td>2497</td>\n",
       "      <td>4.680000e-162</td>\n",
       "      <td>43.563056</td>\n",
       "      <td>32609799</td>\n",
       "      <td>Known_PS</td>\n",
       "    </tr>\n",
       "    <tr>\n",
       "      <th>199</th>\n",
       "      <td>Q13283</td>\n",
       "      <td>G3BP1</td>\n",
       "      <td>0.929826</td>\n",
       "      <td>0.575079</td>\n",
       "      <td>2353</td>\n",
       "      <td>1.020000e-97</td>\n",
       "      <td>34.470688</td>\n",
       "      <td>29395067, 29373831, 33217318, 37119817</td>\n",
       "      <td>Known_PS</td>\n",
       "    </tr>\n",
       "    <tr>\n",
       "      <th>192</th>\n",
       "      <td>P22001</td>\n",
       "      <td>Kv1.3</td>\n",
       "      <td>0.135757</td>\n",
       "      <td>0.101213</td>\n",
       "      <td>1769</td>\n",
       "      <td>1.000000e+00</td>\n",
       "      <td>-14.125915</td>\n",
       "      <td>38936775</td>\n",
       "      <td>NaN</td>\n",
       "    </tr>\n",
       "    <tr>\n",
       "      <th>197</th>\n",
       "      <td>P00533</td>\n",
       "      <td>EGFR</td>\n",
       "      <td>0.752162</td>\n",
       "      <td>0.866251</td>\n",
       "      <td>1761</td>\n",
       "      <td>4.258136e-02</td>\n",
       "      <td>2.297141</td>\n",
       "      <td>35705039</td>\n",
       "      <td>NaN</td>\n",
       "    </tr>\n",
       "    <tr>\n",
       "      <th>...</th>\n",
       "      <td>...</td>\n",
       "      <td>...</td>\n",
       "      <td>...</td>\n",
       "      <td>...</td>\n",
       "      <td>...</td>\n",
       "      <td>...</td>\n",
       "      <td>...</td>\n",
       "      <td>...</td>\n",
       "      <td>...</td>\n",
       "    </tr>\n",
       "    <tr>\n",
       "      <th>135</th>\n",
       "      <td>Q9Y3A3</td>\n",
       "      <td>MOB4</td>\n",
       "      <td>0.059673</td>\n",
       "      <td>0.097963</td>\n",
       "      <td>53</td>\n",
       "      <td>1.374380e-04</td>\n",
       "      <td>6.264484</td>\n",
       "      <td>37536630</td>\n",
       "      <td>NaN</td>\n",
       "    </tr>\n",
       "    <tr>\n",
       "      <th>107</th>\n",
       "      <td>Q9Y4Z0</td>\n",
       "      <td>LSM4</td>\n",
       "      <td>0.093078</td>\n",
       "      <td>0.261316</td>\n",
       "      <td>52</td>\n",
       "      <td>7.750000e-11</td>\n",
       "      <td>11.908304</td>\n",
       "      <td>29395067</td>\n",
       "      <td>Known_PS</td>\n",
       "    </tr>\n",
       "    <tr>\n",
       "      <th>9</th>\n",
       "      <td>Q9NZB2</td>\n",
       "      <td>FAM120A</td>\n",
       "      <td>0.850118</td>\n",
       "      <td>0.858693</td>\n",
       "      <td>51</td>\n",
       "      <td>4.770000e-06</td>\n",
       "      <td>7.649928</td>\n",
       "      <td>29395067</td>\n",
       "      <td>NaN</td>\n",
       "    </tr>\n",
       "    <tr>\n",
       "      <th>106</th>\n",
       "      <td>Q9Y4F3</td>\n",
       "      <td>MARF1</td>\n",
       "      <td>0.109177</td>\n",
       "      <td>0.290736</td>\n",
       "      <td>51</td>\n",
       "      <td>2.020000e-07</td>\n",
       "      <td>8.075749</td>\n",
       "      <td>29395067</td>\n",
       "      <td>NaN</td>\n",
       "    </tr>\n",
       "    <tr>\n",
       "      <th>27</th>\n",
       "      <td>P26196</td>\n",
       "      <td>DDX6</td>\n",
       "      <td>0.757803</td>\n",
       "      <td>0.942180</td>\n",
       "      <td>50</td>\n",
       "      <td>3.330000e-05</td>\n",
       "      <td>6.521018</td>\n",
       "      <td>29395067</td>\n",
       "      <td>Known_PS</td>\n",
       "    </tr>\n",
       "  </tbody>\n",
       "</table>\n",
       "<p>149 rows × 9 columns</p>\n",
       "</div>"
      ],
      "text/plain": [
       "    Uniprot     Gene      SaPS      PdPS  num_Preys        mean_pv     zscore  \\\n",
       "202  P49450    CENPA  0.445705  0.645103       2636  1.820000e-124  37.808632   \n",
       "189  Q01130     SC35  0.906741  0.957755       2497  4.680000e-162  43.563056   \n",
       "199  Q13283    G3BP1  0.929826  0.575079       2353   1.020000e-97  34.470688   \n",
       "192  P22001    Kv1.3  0.135757  0.101213       1769   1.000000e+00 -14.125915   \n",
       "197  P00533     EGFR  0.752162  0.866251       1761   4.258136e-02   2.297141   \n",
       "..      ...      ...       ...       ...        ...            ...        ...   \n",
       "135  Q9Y3A3     MOB4  0.059673  0.097963         53   1.374380e-04   6.264484   \n",
       "107  Q9Y4Z0     LSM4  0.093078  0.261316         52   7.750000e-11  11.908304   \n",
       "9    Q9NZB2  FAM120A  0.850118  0.858693         51   4.770000e-06   7.649928   \n",
       "106  Q9Y4F3    MARF1  0.109177  0.290736         51   2.020000e-07   8.075749   \n",
       "27   P26196     DDX6  0.757803  0.942180         50   3.330000e-05   6.521018   \n",
       "\n",
       "                                    article PreviousResearch  \n",
       "202                                32609799              NaN  \n",
       "189                                32609799         Known_PS  \n",
       "199  29395067, 29373831, 33217318, 37119817         Known_PS  \n",
       "192                                38936775              NaN  \n",
       "197                                35705039              NaN  \n",
       "..                                      ...              ...  \n",
       "135                                37536630              NaN  \n",
       "107                                29395067         Known_PS  \n",
       "9                                  29395067              NaN  \n",
       "106                                29395067              NaN  \n",
       "27                                 29395067         Known_PS  \n",
       "\n",
       "[149 rows x 9 columns]"
      ]
     },
     "execution_count": 23,
     "metadata": {},
     "output_type": "execute_result"
    }
   ],
   "source": [
    "all_bait_compare_summary_df"
   ]
  },
  {
   "cell_type": "code",
   "execution_count": 24,
   "metadata": {},
   "outputs": [
    {
     "data": {
      "text/html": [
       "<div>\n",
       "<style scoped>\n",
       "    .dataframe tbody tr th:only-of-type {\n",
       "        vertical-align: middle;\n",
       "    }\n",
       "\n",
       "    .dataframe tbody tr th {\n",
       "        vertical-align: top;\n",
       "    }\n",
       "\n",
       "    .dataframe thead th {\n",
       "        text-align: right;\n",
       "    }\n",
       "</style>\n",
       "<table border=\"1\" class=\"dataframe\">\n",
       "  <thead>\n",
       "    <tr style=\"text-align: right;\">\n",
       "      <th></th>\n",
       "      <th>Uniprot</th>\n",
       "      <th>Gene</th>\n",
       "      <th>SaPS</th>\n",
       "      <th>PdPS</th>\n",
       "      <th>num_Preys</th>\n",
       "      <th>mean_pv</th>\n",
       "      <th>zscore</th>\n",
       "      <th>article</th>\n",
       "      <th>PreviousResearch</th>\n",
       "    </tr>\n",
       "  </thead>\n",
       "  <tbody>\n",
       "    <tr>\n",
       "      <th>192</th>\n",
       "      <td>P22001</td>\n",
       "      <td>Kv1.3</td>\n",
       "      <td>0.135757</td>\n",
       "      <td>0.101213</td>\n",
       "      <td>1769</td>\n",
       "      <td>1.000000</td>\n",
       "      <td>-14.125915</td>\n",
       "      <td>38936775</td>\n",
       "      <td>NaN</td>\n",
       "    </tr>\n",
       "    <tr>\n",
       "      <th>198</th>\n",
       "      <td>Q6TCH7</td>\n",
       "      <td>PAQR3</td>\n",
       "      <td>0.085218</td>\n",
       "      <td>0.067076</td>\n",
       "      <td>988</td>\n",
       "      <td>0.948637</td>\n",
       "      <td>-3.963986</td>\n",
       "      <td>30466064</td>\n",
       "      <td>NaN</td>\n",
       "    </tr>\n",
       "    <tr>\n",
       "      <th>161</th>\n",
       "      <td>P28328</td>\n",
       "      <td>PEX2</td>\n",
       "      <td>0.096385</td>\n",
       "      <td>0.061623</td>\n",
       "      <td>230</td>\n",
       "      <td>0.455296</td>\n",
       "      <td>-0.916685</td>\n",
       "      <td>35523862</td>\n",
       "      <td>NaN</td>\n",
       "    </tr>\n",
       "    <tr>\n",
       "      <th>159</th>\n",
       "      <td>Q9NX09</td>\n",
       "      <td>DDIT4</td>\n",
       "      <td>0.118733</td>\n",
       "      <td>0.059997</td>\n",
       "      <td>104</td>\n",
       "      <td>0.501532</td>\n",
       "      <td>0.520415</td>\n",
       "      <td>35563580</td>\n",
       "      <td>NaN</td>\n",
       "    </tr>\n",
       "    <tr>\n",
       "      <th>179</th>\n",
       "      <td>Q15262</td>\n",
       "      <td>PTPRK</td>\n",
       "      <td>0.113755</td>\n",
       "      <td>0.224419</td>\n",
       "      <td>72</td>\n",
       "      <td>0.390954</td>\n",
       "      <td>0.182922</td>\n",
       "      <td>30924770</td>\n",
       "      <td>NaN</td>\n",
       "    </tr>\n",
       "    <tr>\n",
       "      <th>81</th>\n",
       "      <td>Q9BPZ3</td>\n",
       "      <td>PAIP2</td>\n",
       "      <td>0.212680</td>\n",
       "      <td>0.540822</td>\n",
       "      <td>59</td>\n",
       "      <td>0.090310</td>\n",
       "      <td>2.108847</td>\n",
       "      <td>29395067</td>\n",
       "      <td>NaN</td>\n",
       "    </tr>\n",
       "  </tbody>\n",
       "</table>\n",
       "</div>"
      ],
      "text/plain": [
       "    Uniprot   Gene      SaPS      PdPS  num_Preys   mean_pv     zscore  \\\n",
       "192  P22001  Kv1.3  0.135757  0.101213       1769  1.000000 -14.125915   \n",
       "198  Q6TCH7  PAQR3  0.085218  0.067076        988  0.948637  -3.963986   \n",
       "161  P28328   PEX2  0.096385  0.061623        230  0.455296  -0.916685   \n",
       "159  Q9NX09  DDIT4  0.118733  0.059997        104  0.501532   0.520415   \n",
       "179  Q15262  PTPRK  0.113755  0.224419         72  0.390954   0.182922   \n",
       "81   Q9BPZ3  PAIP2  0.212680  0.540822         59  0.090310   2.108847   \n",
       "\n",
       "      article PreviousResearch  \n",
       "192  38936775              NaN  \n",
       "198  30466064              NaN  \n",
       "161  35523862              NaN  \n",
       "159  35563580              NaN  \n",
       "179  30924770              NaN  \n",
       "81   29395067              NaN  "
      ]
     },
     "execution_count": 24,
     "metadata": {},
     "output_type": "execute_result"
    }
   ],
   "source": [
    "all_bait_compare_summary_df[all_bait_compare_summary_df['mean_pv']>0.05]"
   ]
  },
  {
   "cell_type": "code",
   "execution_count": 25,
   "metadata": {},
   "outputs": [],
   "source": [
    "all_ar = []\n",
    "for i in all_bait_compare_summary_df['article'].tolist():\n",
    "    all_ar += i.split(', ')"
   ]
  },
  {
   "cell_type": "code",
   "execution_count": 26,
   "metadata": {},
   "outputs": [
    {
     "data": {
      "text/plain": [
       "55"
      ]
     },
     "execution_count": 26,
     "metadata": {},
     "output_type": "execute_result"
    }
   ],
   "source": [
    "len(np.unique(all_ar))"
   ]
  },
  {
   "cell_type": "code",
   "execution_count": 29,
   "metadata": {},
   "outputs": [],
   "source": [
    "all_bait_compare_summary_df['class_PS'] = ['High-PS' if all_bait_compare_summary_df.loc[i,'SaPS'] > 0.5 or all_bait_compare_summary_df.loc[i,'PdPS'] > 0.5 or all_bait_compare_summary_df.loc[i,'PreviousResearch'] == 'Known_PS' else 'Low-PS' for i in all_bait_compare_summary_df.index]"
   ]
  },
  {
   "cell_type": "code",
   "execution_count": 30,
   "metadata": {},
   "outputs": [
    {
     "data": {
      "text/html": [
       "<div>\n",
       "<style scoped>\n",
       "    .dataframe tbody tr th:only-of-type {\n",
       "        vertical-align: middle;\n",
       "    }\n",
       "\n",
       "    .dataframe tbody tr th {\n",
       "        vertical-align: top;\n",
       "    }\n",
       "\n",
       "    .dataframe thead th {\n",
       "        text-align: right;\n",
       "    }\n",
       "</style>\n",
       "<table border=\"1\" class=\"dataframe\">\n",
       "  <thead>\n",
       "    <tr style=\"text-align: right;\">\n",
       "      <th></th>\n",
       "      <th>Uniprot</th>\n",
       "      <th>Gene</th>\n",
       "      <th>SaPS</th>\n",
       "      <th>PdPS</th>\n",
       "      <th>num_Preys</th>\n",
       "      <th>mean_pv</th>\n",
       "      <th>zscore</th>\n",
       "      <th>article</th>\n",
       "      <th>PreviousResearch</th>\n",
       "      <th>class_PS</th>\n",
       "    </tr>\n",
       "  </thead>\n",
       "  <tbody>\n",
       "    <tr>\n",
       "      <th>202</th>\n",
       "      <td>P49450</td>\n",
       "      <td>CENPA</td>\n",
       "      <td>0.445705</td>\n",
       "      <td>0.645103</td>\n",
       "      <td>2636</td>\n",
       "      <td>1.820000e-124</td>\n",
       "      <td>37.808632</td>\n",
       "      <td>32609799</td>\n",
       "      <td>NaN</td>\n",
       "      <td>High-PS</td>\n",
       "    </tr>\n",
       "    <tr>\n",
       "      <th>189</th>\n",
       "      <td>Q01130</td>\n",
       "      <td>SC35</td>\n",
       "      <td>0.906741</td>\n",
       "      <td>0.957755</td>\n",
       "      <td>2497</td>\n",
       "      <td>4.680000e-162</td>\n",
       "      <td>43.563056</td>\n",
       "      <td>32609799</td>\n",
       "      <td>Known_PS</td>\n",
       "      <td>High-PS</td>\n",
       "    </tr>\n",
       "    <tr>\n",
       "      <th>199</th>\n",
       "      <td>Q13283</td>\n",
       "      <td>G3BP1</td>\n",
       "      <td>0.929826</td>\n",
       "      <td>0.575079</td>\n",
       "      <td>2353</td>\n",
       "      <td>1.020000e-97</td>\n",
       "      <td>34.470688</td>\n",
       "      <td>29395067, 29373831, 33217318, 37119817</td>\n",
       "      <td>Known_PS</td>\n",
       "      <td>High-PS</td>\n",
       "    </tr>\n",
       "    <tr>\n",
       "      <th>192</th>\n",
       "      <td>P22001</td>\n",
       "      <td>Kv1.3</td>\n",
       "      <td>0.135757</td>\n",
       "      <td>0.101213</td>\n",
       "      <td>1769</td>\n",
       "      <td>1.000000e+00</td>\n",
       "      <td>-14.125915</td>\n",
       "      <td>38936775</td>\n",
       "      <td>NaN</td>\n",
       "      <td>Low-PS</td>\n",
       "    </tr>\n",
       "    <tr>\n",
       "      <th>197</th>\n",
       "      <td>P00533</td>\n",
       "      <td>EGFR</td>\n",
       "      <td>0.752162</td>\n",
       "      <td>0.866251</td>\n",
       "      <td>1761</td>\n",
       "      <td>4.258136e-02</td>\n",
       "      <td>2.297141</td>\n",
       "      <td>35705039</td>\n",
       "      <td>NaN</td>\n",
       "      <td>High-PS</td>\n",
       "    </tr>\n",
       "    <tr>\n",
       "      <th>...</th>\n",
       "      <td>...</td>\n",
       "      <td>...</td>\n",
       "      <td>...</td>\n",
       "      <td>...</td>\n",
       "      <td>...</td>\n",
       "      <td>...</td>\n",
       "      <td>...</td>\n",
       "      <td>...</td>\n",
       "      <td>...</td>\n",
       "      <td>...</td>\n",
       "    </tr>\n",
       "    <tr>\n",
       "      <th>135</th>\n",
       "      <td>Q9Y3A3</td>\n",
       "      <td>MOB4</td>\n",
       "      <td>0.059673</td>\n",
       "      <td>0.097963</td>\n",
       "      <td>53</td>\n",
       "      <td>1.374380e-04</td>\n",
       "      <td>6.264484</td>\n",
       "      <td>37536630</td>\n",
       "      <td>NaN</td>\n",
       "      <td>Low-PS</td>\n",
       "    </tr>\n",
       "    <tr>\n",
       "      <th>107</th>\n",
       "      <td>Q9Y4Z0</td>\n",
       "      <td>LSM4</td>\n",
       "      <td>0.093078</td>\n",
       "      <td>0.261316</td>\n",
       "      <td>52</td>\n",
       "      <td>7.750000e-11</td>\n",
       "      <td>11.908304</td>\n",
       "      <td>29395067</td>\n",
       "      <td>Known_PS</td>\n",
       "      <td>High-PS</td>\n",
       "    </tr>\n",
       "    <tr>\n",
       "      <th>9</th>\n",
       "      <td>Q9NZB2</td>\n",
       "      <td>FAM120A</td>\n",
       "      <td>0.850118</td>\n",
       "      <td>0.858693</td>\n",
       "      <td>51</td>\n",
       "      <td>4.770000e-06</td>\n",
       "      <td>7.649928</td>\n",
       "      <td>29395067</td>\n",
       "      <td>NaN</td>\n",
       "      <td>High-PS</td>\n",
       "    </tr>\n",
       "    <tr>\n",
       "      <th>106</th>\n",
       "      <td>Q9Y4F3</td>\n",
       "      <td>MARF1</td>\n",
       "      <td>0.109177</td>\n",
       "      <td>0.290736</td>\n",
       "      <td>51</td>\n",
       "      <td>2.020000e-07</td>\n",
       "      <td>8.075749</td>\n",
       "      <td>29395067</td>\n",
       "      <td>NaN</td>\n",
       "      <td>Low-PS</td>\n",
       "    </tr>\n",
       "    <tr>\n",
       "      <th>27</th>\n",
       "      <td>P26196</td>\n",
       "      <td>DDX6</td>\n",
       "      <td>0.757803</td>\n",
       "      <td>0.942180</td>\n",
       "      <td>50</td>\n",
       "      <td>3.330000e-05</td>\n",
       "      <td>6.521018</td>\n",
       "      <td>29395067</td>\n",
       "      <td>Known_PS</td>\n",
       "      <td>High-PS</td>\n",
       "    </tr>\n",
       "  </tbody>\n",
       "</table>\n",
       "<p>149 rows × 10 columns</p>\n",
       "</div>"
      ],
      "text/plain": [
       "    Uniprot     Gene      SaPS      PdPS  num_Preys        mean_pv     zscore  \\\n",
       "202  P49450    CENPA  0.445705  0.645103       2636  1.820000e-124  37.808632   \n",
       "189  Q01130     SC35  0.906741  0.957755       2497  4.680000e-162  43.563056   \n",
       "199  Q13283    G3BP1  0.929826  0.575079       2353   1.020000e-97  34.470688   \n",
       "192  P22001    Kv1.3  0.135757  0.101213       1769   1.000000e+00 -14.125915   \n",
       "197  P00533     EGFR  0.752162  0.866251       1761   4.258136e-02   2.297141   \n",
       "..      ...      ...       ...       ...        ...            ...        ...   \n",
       "135  Q9Y3A3     MOB4  0.059673  0.097963         53   1.374380e-04   6.264484   \n",
       "107  Q9Y4Z0     LSM4  0.093078  0.261316         52   7.750000e-11  11.908304   \n",
       "9    Q9NZB2  FAM120A  0.850118  0.858693         51   4.770000e-06   7.649928   \n",
       "106  Q9Y4F3    MARF1  0.109177  0.290736         51   2.020000e-07   8.075749   \n",
       "27   P26196     DDX6  0.757803  0.942180         50   3.330000e-05   6.521018   \n",
       "\n",
       "                                    article PreviousResearch class_PS  \n",
       "202                                32609799              NaN  High-PS  \n",
       "189                                32609799         Known_PS  High-PS  \n",
       "199  29395067, 29373831, 33217318, 37119817         Known_PS  High-PS  \n",
       "192                                38936775              NaN   Low-PS  \n",
       "197                                35705039              NaN  High-PS  \n",
       "..                                      ...              ...      ...  \n",
       "135                                37536630              NaN   Low-PS  \n",
       "107                                29395067         Known_PS  High-PS  \n",
       "9                                  29395067              NaN  High-PS  \n",
       "106                                29395067              NaN   Low-PS  \n",
       "27                                 29395067         Known_PS  High-PS  \n",
       "\n",
       "[149 rows x 10 columns]"
      ]
     },
     "execution_count": 30,
     "metadata": {},
     "output_type": "execute_result"
    }
   ],
   "source": [
    "all_bait_compare_summary_df"
   ]
  },
  {
   "cell_type": "code",
   "execution_count": 18,
   "metadata": {},
   "outputs": [],
   "source": [
    "all_bait_compare_summary_df['-log10(pv)'] = -np.log10(all_bait_compare_summary_df['mean_pv'].tolist())"
   ]
  },
  {
   "cell_type": "code",
   "execution_count": 33,
   "metadata": {},
   "outputs": [],
   "source": [
    "import scipy.stats as stats"
   ]
  },
  {
   "cell_type": "code",
   "execution_count": 28,
   "metadata": {},
   "outputs": [],
   "source": [
    "import seaborn as sns\n",
    "import matplotlib.pyplot as plt"
   ]
  },
  {
   "cell_type": "code",
   "execution_count": 34,
   "metadata": {},
   "outputs": [
    {
     "data": {
      "text/plain": [
       "104"
      ]
     },
     "execution_count": 34,
     "metadata": {},
     "output_type": "execute_result"
    }
   ],
   "source": [
    "len(all_bait_compare_summary_df[all_bait_compare_summary_df['class_PS']=='High-PS'])"
   ]
  },
  {
   "cell_type": "code",
   "execution_count": 35,
   "metadata": {},
   "outputs": [
    {
     "data": {
      "text/plain": [
       "45"
      ]
     },
     "execution_count": 35,
     "metadata": {},
     "output_type": "execute_result"
    }
   ],
   "source": [
    "len(all_bait_compare_summary_df[all_bait_compare_summary_df['class_PS']=='Low-PS'])"
   ]
  },
  {
   "cell_type": "code",
   "execution_count": null,
   "metadata": {},
   "outputs": [],
   "source": [
    "#all_bait_compare_summary_df.to_csv(\"./pv_zscore_filtered.csv\",index=None)"
   ]
  },
  {
   "cell_type": "code",
   "execution_count": 15,
   "metadata": {},
   "outputs": [],
   "source": [
    "all_bait_compare_summary_df = pd.read_csv(\"./pv_zscore_filtered.csv\")"
   ]
  },
  {
   "cell_type": "code",
   "execution_count": 17,
   "metadata": {},
   "outputs": [
    {
     "data": {
      "text/html": [
       "<div>\n",
       "<style scoped>\n",
       "    .dataframe tbody tr th:only-of-type {\n",
       "        vertical-align: middle;\n",
       "    }\n",
       "\n",
       "    .dataframe tbody tr th {\n",
       "        vertical-align: top;\n",
       "    }\n",
       "\n",
       "    .dataframe thead th {\n",
       "        text-align: right;\n",
       "    }\n",
       "</style>\n",
       "<table border=\"1\" class=\"dataframe\">\n",
       "  <thead>\n",
       "    <tr style=\"text-align: right;\">\n",
       "      <th></th>\n",
       "      <th>Uniprot</th>\n",
       "      <th>Gene</th>\n",
       "      <th>SaPS</th>\n",
       "      <th>PdPS</th>\n",
       "      <th>num_Preys</th>\n",
       "      <th>mean_pv</th>\n",
       "      <th>zscore</th>\n",
       "      <th>article</th>\n",
       "      <th>PreviousResearch</th>\n",
       "      <th>class_PS</th>\n",
       "      <th>#VALUE!</th>\n",
       "    </tr>\n",
       "  </thead>\n",
       "  <tbody>\n",
       "    <tr>\n",
       "      <th>0</th>\n",
       "      <td>Q01130</td>\n",
       "      <td>SC35</td>\n",
       "      <td>0.906741</td>\n",
       "      <td>0.957755</td>\n",
       "      <td>2497</td>\n",
       "      <td>4.680000e-162</td>\n",
       "      <td>43.563056</td>\n",
       "      <td>32609799</td>\n",
       "      <td>Known_PS</td>\n",
       "      <td>High-PS</td>\n",
       "      <td>161.329754</td>\n",
       "    </tr>\n",
       "    <tr>\n",
       "      <th>1</th>\n",
       "      <td>P49450</td>\n",
       "      <td>CENPA</td>\n",
       "      <td>0.445705</td>\n",
       "      <td>0.645103</td>\n",
       "      <td>2636</td>\n",
       "      <td>1.820000e-124</td>\n",
       "      <td>37.808632</td>\n",
       "      <td>32609799</td>\n",
       "      <td>NaN</td>\n",
       "      <td>High-PS</td>\n",
       "      <td>123.739929</td>\n",
       "    </tr>\n",
       "    <tr>\n",
       "      <th>2</th>\n",
       "      <td>Q15287</td>\n",
       "      <td>RNPS1</td>\n",
       "      <td>0.874299</td>\n",
       "      <td>0.890033</td>\n",
       "      <td>759</td>\n",
       "      <td>7.590000e-105</td>\n",
       "      <td>35.449129</td>\n",
       "      <td>35640609</td>\n",
       "      <td>NaN</td>\n",
       "      <td>High-PS</td>\n",
       "      <td>104.119758</td>\n",
       "    </tr>\n",
       "    <tr>\n",
       "      <th>3</th>\n",
       "      <td>Q13283</td>\n",
       "      <td>G3BP1</td>\n",
       "      <td>0.929826</td>\n",
       "      <td>0.575079</td>\n",
       "      <td>2353</td>\n",
       "      <td>1.020000e-97</td>\n",
       "      <td>34.470688</td>\n",
       "      <td>29395067, 29373831, 33217318, 37119817</td>\n",
       "      <td>Known_PS</td>\n",
       "      <td>High-PS</td>\n",
       "      <td>96.991400</td>\n",
       "    </tr>\n",
       "    <tr>\n",
       "      <th>4</th>\n",
       "      <td>Q13501</td>\n",
       "      <td>SQSTM1</td>\n",
       "      <td>0.744216</td>\n",
       "      <td>0.938113</td>\n",
       "      <td>1391</td>\n",
       "      <td>1.870000e-72</td>\n",
       "      <td>26.874620</td>\n",
       "      <td>38014048</td>\n",
       "      <td>Known_PS</td>\n",
       "      <td>High-PS</td>\n",
       "      <td>71.728158</td>\n",
       "    </tr>\n",
       "    <tr>\n",
       "      <th>...</th>\n",
       "      <td>...</td>\n",
       "      <td>...</td>\n",
       "      <td>...</td>\n",
       "      <td>...</td>\n",
       "      <td>...</td>\n",
       "      <td>...</td>\n",
       "      <td>...</td>\n",
       "      <td>...</td>\n",
       "      <td>...</td>\n",
       "      <td>...</td>\n",
       "      <td>...</td>\n",
       "    </tr>\n",
       "    <tr>\n",
       "      <th>144</th>\n",
       "      <td>Q15262</td>\n",
       "      <td>PTPRK</td>\n",
       "      <td>0.113755</td>\n",
       "      <td>0.224419</td>\n",
       "      <td>72</td>\n",
       "      <td>3.909538e-01</td>\n",
       "      <td>0.182922</td>\n",
       "      <td>30924770</td>\n",
       "      <td>NaN</td>\n",
       "      <td>Low-PS</td>\n",
       "      <td>0.407875</td>\n",
       "    </tr>\n",
       "    <tr>\n",
       "      <th>145</th>\n",
       "      <td>P28328</td>\n",
       "      <td>PEX2</td>\n",
       "      <td>0.096385</td>\n",
       "      <td>0.061623</td>\n",
       "      <td>230</td>\n",
       "      <td>4.552958e-01</td>\n",
       "      <td>-0.916685</td>\n",
       "      <td>35523862</td>\n",
       "      <td>NaN</td>\n",
       "      <td>Low-PS</td>\n",
       "      <td>0.341706</td>\n",
       "    </tr>\n",
       "    <tr>\n",
       "      <th>146</th>\n",
       "      <td>Q9NX09</td>\n",
       "      <td>DDIT4</td>\n",
       "      <td>0.118733</td>\n",
       "      <td>0.059997</td>\n",
       "      <td>104</td>\n",
       "      <td>5.015319e-01</td>\n",
       "      <td>0.520415</td>\n",
       "      <td>35563580</td>\n",
       "      <td>NaN</td>\n",
       "      <td>Low-PS</td>\n",
       "      <td>0.299701</td>\n",
       "    </tr>\n",
       "    <tr>\n",
       "      <th>147</th>\n",
       "      <td>Q6TCH7</td>\n",
       "      <td>PAQR3</td>\n",
       "      <td>0.085218</td>\n",
       "      <td>0.067076</td>\n",
       "      <td>988</td>\n",
       "      <td>9.486375e-01</td>\n",
       "      <td>-3.963986</td>\n",
       "      <td>30466064</td>\n",
       "      <td>NaN</td>\n",
       "      <td>Low-PS</td>\n",
       "      <td>0.022900</td>\n",
       "    </tr>\n",
       "    <tr>\n",
       "      <th>148</th>\n",
       "      <td>P22001</td>\n",
       "      <td>Kv1.3</td>\n",
       "      <td>0.135757</td>\n",
       "      <td>0.101213</td>\n",
       "      <td>1769</td>\n",
       "      <td>1.000000e+00</td>\n",
       "      <td>-14.125915</td>\n",
       "      <td>38936775</td>\n",
       "      <td>NaN</td>\n",
       "      <td>Low-PS</td>\n",
       "      <td>0.000000</td>\n",
       "    </tr>\n",
       "  </tbody>\n",
       "</table>\n",
       "<p>149 rows × 11 columns</p>\n",
       "</div>"
      ],
      "text/plain": [
       "    Uniprot    Gene      SaPS      PdPS  num_Preys        mean_pv     zscore  \\\n",
       "0    Q01130    SC35  0.906741  0.957755       2497  4.680000e-162  43.563056   \n",
       "1    P49450   CENPA  0.445705  0.645103       2636  1.820000e-124  37.808632   \n",
       "2    Q15287   RNPS1  0.874299  0.890033        759  7.590000e-105  35.449129   \n",
       "3    Q13283   G3BP1  0.929826  0.575079       2353   1.020000e-97  34.470688   \n",
       "4    Q13501  SQSTM1  0.744216  0.938113       1391   1.870000e-72  26.874620   \n",
       "..      ...     ...       ...       ...        ...            ...        ...   \n",
       "144  Q15262   PTPRK  0.113755  0.224419         72   3.909538e-01   0.182922   \n",
       "145  P28328    PEX2  0.096385  0.061623        230   4.552958e-01  -0.916685   \n",
       "146  Q9NX09   DDIT4  0.118733  0.059997        104   5.015319e-01   0.520415   \n",
       "147  Q6TCH7   PAQR3  0.085218  0.067076        988   9.486375e-01  -3.963986   \n",
       "148  P22001   Kv1.3  0.135757  0.101213       1769   1.000000e+00 -14.125915   \n",
       "\n",
       "                                    article PreviousResearch class_PS  \\\n",
       "0                                  32609799         Known_PS  High-PS   \n",
       "1                                  32609799              NaN  High-PS   \n",
       "2                                  35640609              NaN  High-PS   \n",
       "3    29395067, 29373831, 33217318, 37119817         Known_PS  High-PS   \n",
       "4                                  38014048         Known_PS  High-PS   \n",
       "..                                      ...              ...      ...   \n",
       "144                                30924770              NaN   Low-PS   \n",
       "145                                35523862              NaN   Low-PS   \n",
       "146                                35563580              NaN   Low-PS   \n",
       "147                                30466064              NaN   Low-PS   \n",
       "148                                38936775              NaN   Low-PS   \n",
       "\n",
       "        #VALUE!  \n",
       "0    161.329754  \n",
       "1    123.739929  \n",
       "2    104.119758  \n",
       "3     96.991400  \n",
       "4     71.728158  \n",
       "..          ...  \n",
       "144    0.407875  \n",
       "145    0.341706  \n",
       "146    0.299701  \n",
       "147    0.022900  \n",
       "148    0.000000  \n",
       "\n",
       "[149 rows x 11 columns]"
      ]
     },
     "execution_count": 17,
     "metadata": {},
     "output_type": "execute_result"
    }
   ],
   "source": [
    "all_bait_compare_summary_df"
   ]
  },
  {
   "cell_type": "code",
   "execution_count": null,
   "metadata": {},
   "outputs": [
    {
     "data": {
      "image/jpeg": "[encoded data removed]",
      "text/plain": [
       "<Figure size 300x600 with 1 Axes>"
      ]
     },
     "metadata": {},
     "output_type": "display_data"
    }
   ],
   "source": [
    "fig = plt.subplots(figsize=(1,2),dpi=300) \n",
    "sns.set_style('white')\n",
    "\n",
    "sns.boxplot(all_bait_compare_summary_df[all_bait_compare_summary_df['class_PS']=='High-PS'],x='class_PS',y='-log10(pv)',color='forestgreen',showfliers=False)\n",
    "sns.scatterplot(all_bait_compare_summary_df[all_bait_compare_summary_df['class_PS']=='High-PS'],x='class_PS',y='-log10(pv)',color='forestgreen',s=8)\n",
    "\n",
    "\n",
    "plt.axhline(y=-np.log10(0.05), color='black', linestyle='dashed',linewidth=0.5)\n",
    "sns.despine()\n",
    "\n",
    "plt.ylim([-20,164])\n"
   ]
  },
  {
   "cell_type": "markdown",
   "metadata": {},
   "source": [
    "## GSEA of cosine similarity ~ GO function"
   ]
  },
  {
   "cell_type": "code",
   "execution_count": 61,
   "metadata": {},
   "outputs": [],
   "source": [
    "import gseapy as gp"
   ]
  },
  {
   "cell_type": "code",
   "execution_count": 119,
   "metadata": {},
   "outputs": [],
   "source": [
    "plot_proteins = ['Q01130','P49450','Q15287','Q13283','Q13501']"
   ]
  },
  {
   "cell_type": "code",
   "execution_count": 120,
   "metadata": {},
   "outputs": [],
   "source": [
    "all_show_go = pd.DataFrame()"
   ]
  },
  {
   "cell_type": "code",
   "execution_count": 121,
   "metadata": {},
   "outputs": [],
   "source": [
    "all_go_results = {}"
   ]
  },
  {
   "cell_type": "code",
   "execution_count": 203,
   "metadata": {},
   "outputs": [
    {
     "name": "stderr",
     "output_type": "stream",
     "text": [
      "2024-11-03 19:11:36,927 [WARNING] Duplicated values found in preranked stats: 0.20% of genes\n",
      "The order of those genes will be arbitrary, which may produce unexpected results.\n",
      "2024-11-03 19:11:36,928 [INFO] Parsing data files for GSEA.............................\n",
      "2024-11-03 19:11:36,928 [INFO] Enrichr library gene sets already downloaded in: C:\\Users\\wqswx\\.cache/gseapy, use local file\n",
      "2024-11-03 19:11:36,972 [INFO] Enrichr library gene sets already downloaded in: C:\\Users\\wqswx\\.cache/gseapy, use local file\n",
      "2024-11-03 19:11:36,983 [INFO] Enrichr library gene sets already downloaded in: C:\\Users\\wqswx\\.cache/gseapy, use local file\n",
      "2024-11-03 19:11:37,038 [INFO] 4799 gene_sets have been filtered out when max_size=1000 and min_size=5\n",
      "2024-11-03 19:11:37,038 [INFO] 2229 gene_sets used for further statistical testing.....\n",
      "2024-11-03 19:11:37,039 [INFO] Start to run GSEA...Might take a while..................\n",
      "2024-11-03 19:11:46,267 [INFO] Congratulations. GSEApy runs successfully................\n",
      "\n",
      "2024-11-03 19:11:47,773 [WARNING] Duplicated values found in preranked stats: 0.27% of genes\n",
      "The order of those genes will be arbitrary, which may produce unexpected results.\n",
      "2024-11-03 19:11:47,773 [INFO] Parsing data files for GSEA.............................\n",
      "2024-11-03 19:11:47,774 [INFO] Enrichr library gene sets already downloaded in: C:\\Users\\wqswx\\.cache/gseapy, use local file\n",
      "2024-11-03 19:11:47,818 [INFO] Enrichr library gene sets already downloaded in: C:\\Users\\wqswx\\.cache/gseapy, use local file\n",
      "2024-11-03 19:11:47,827 [INFO] Enrichr library gene sets already downloaded in: C:\\Users\\wqswx\\.cache/gseapy, use local file\n",
      "2024-11-03 19:11:47,883 [INFO] 4702 gene_sets have been filtered out when max_size=1000 and min_size=5\n",
      "2024-11-03 19:11:47,883 [INFO] 2326 gene_sets used for further statistical testing.....\n",
      "2024-11-03 19:11:47,884 [INFO] Start to run GSEA...Might take a while..................\n",
      "2024-11-03 19:11:58,914 [INFO] Congratulations. GSEApy runs successfully................\n",
      "\n",
      "2024-11-03 19:12:00,100 [INFO] Parsing data files for GSEA.............................\n",
      "2024-11-03 19:12:00,101 [INFO] Enrichr library gene sets already downloaded in: C:\\Users\\wqswx\\.cache/gseapy, use local file\n",
      "2024-11-03 19:12:00,146 [INFO] Enrichr library gene sets already downloaded in: C:\\Users\\wqswx\\.cache/gseapy, use local file\n",
      "2024-11-03 19:12:00,155 [INFO] Enrichr library gene sets already downloaded in: C:\\Users\\wqswx\\.cache/gseapy, use local file\n",
      "2024-11-03 19:12:00,208 [INFO] 6326 gene_sets have been filtered out when max_size=1000 and min_size=5\n",
      "2024-11-03 19:12:00,209 [INFO] 0702 gene_sets used for further statistical testing.....\n",
      "2024-11-03 19:12:00,209 [INFO] Start to run GSEA...Might take a while..................\n",
      "2024-11-03 19:12:00,996 [INFO] Congratulations. GSEApy runs successfully................\n",
      "\n",
      "2024-11-03 19:12:01,975 [WARNING] Input gene rankings contains NA values(gene name and ranking value), drop them all!\n",
      "2024-11-03 19:12:01,979 [INFO] Parsing data files for GSEA.............................\n",
      "2024-11-03 19:12:01,980 [INFO] Enrichr library gene sets already downloaded in: C:\\Users\\wqswx\\.cache/gseapy, use local file\n",
      "2024-11-03 19:12:02,019 [INFO] Enrichr library gene sets already downloaded in: C:\\Users\\wqswx\\.cache/gseapy, use local file\n",
      "2024-11-03 19:12:02,027 [INFO] Enrichr library gene sets already downloaded in: C:\\Users\\wqswx\\.cache/gseapy, use local file\n",
      "2024-11-03 19:12:02,086 [INFO] 4981 gene_sets have been filtered out when max_size=1000 and min_size=5\n",
      "2024-11-03 19:12:02,087 [INFO] 2047 gene_sets used for further statistical testing.....\n",
      "2024-11-03 19:12:02,087 [INFO] Start to run GSEA...Might take a while..................\n",
      "2024-11-03 19:12:10,286 [INFO] Congratulations. GSEApy runs successfully................\n",
      "\n",
      "2024-11-03 19:12:11,275 [WARNING] Duplicated values found in preranked stats: 0.07% of genes\n",
      "The order of those genes will be arbitrary, which may produce unexpected results.\n",
      "2024-11-03 19:12:11,276 [INFO] Parsing data files for GSEA.............................\n",
      "2024-11-03 19:12:11,277 [INFO] Enrichr library gene sets already downloaded in: C:\\Users\\wqswx\\.cache/gseapy, use local file\n",
      "2024-11-03 19:12:11,321 [INFO] Enrichr library gene sets already downloaded in: C:\\Users\\wqswx\\.cache/gseapy, use local file\n",
      "2024-11-03 19:12:11,328 [INFO] Enrichr library gene sets already downloaded in: C:\\Users\\wqswx\\.cache/gseapy, use local file\n",
      "2024-11-03 19:12:11,378 [INFO] 5577 gene_sets have been filtered out when max_size=1000 and min_size=5\n",
      "2024-11-03 19:12:11,379 [INFO] 1451 gene_sets used for further statistical testing.....\n",
      "2024-11-03 19:12:11,380 [INFO] Start to run GSEA...Might take a while..................\n",
      "2024-11-03 19:12:13,980 [INFO] Congratulations. GSEApy runs successfully................\n",
      "\n"
     ]
    }
   ],
   "source": [
    "for p in plot_proteins:\n",
    "    data = pd.read_csv(f\"./promixity_combined/{p}.csv\")\n",
    "\n",
    "    rnk = data.loc[:,['Prey Gene','cos.sim']].sort_values(by=['cos.sim'],ascending=False).drop_duplicates(subset=['Prey Gene'])\n",
    "    rnk.columns=[0,1]\n",
    "    rnk = rnk.set_index([0])\n",
    "    \n",
    "    pre_res = gp.prerank(rnk=rnk, # or rnk = rnk,\n",
    "                     gene_sets=['GO_Biological_Process_2023','GO_Cellular_Component_2023', 'GO_Molecular_Function_2023'],\n",
    "                     min_size=5,\n",
    "                     max_size=1000,\n",
    "                     permutation_num=1000, # reduce number to speed up testing\n",
    "                     outdir=None, # don't write to disk\n",
    "                     seed=6,\n",
    "                     verbose=True, # see what's going on behind the scenes\n",
    "                    )\n",
    "    enrich_term = pre_res.res2d\n",
    "\n",
    "    terms = enrich_term[(enrich_term['NES']>0)].sort_values(by=['FDR q-val'],ascending=True).iloc[:10,:]['Term'].tolist()\n",
    "    single_plt = pre_res.plot(terms=terms[:10],\n",
    "                   #legend_kws={'loc': (1.2, 0)}, # set the legend loc\n",
    "                   show_ranking=True, # whether to show the second yaxis\n",
    "                   figsize=(3,4),\n",
    "                   ofname=f\"./FigS3C_{p}.png\"\n",
    "                  )\n",
    "\n",
    "    top_term = enrich_term[(enrich_term['NES']>0)].sort_values(by=['FDR q-val'],ascending=True).iloc[:10,:]\n",
    "    top_term.loc[top_term.index,'protein'] = p\n",
    "\n",
    "    all_show_go = pd.concat([all_show_go,top_term])\n",
    "\n",
    "    tmp_dict = {}\n",
    "    for t in top_term['Term'].tolist():\n",
    "        tmp_dict[t] = pre_res.results[t]\n",
    "    \n",
    "    all_go_results[p] = tmp_dict\n"
   ]
  },
  {
   "cell_type": "code",
   "execution_count": null,
   "metadata": {},
   "outputs": [],
   "source": [
    "#all_show_go.to_csv(\"GSEA_fig3.csv\",index=None)"
   ]
  },
  {
   "cell_type": "code",
   "execution_count": 125,
   "metadata": {},
   "outputs": [
    {
     "data": {
      "text/plain": [
       "['GO_Molecular_Function_2023__RNA Binding (GO:0003723)',\n",
       " 'GO_Biological_Process_2023__Chromatin Remodeling (GO:0006338)',\n",
       " \"GO_Molecular_Function_2023__mRNA 3'-UTR Binding (GO:0003730)\",\n",
       " 'GO_Biological_Process_2023__RNA Splicing (GO:0008380)',\n",
       " 'GO_Biological_Process_2023__Cytoplasmic Translation (GO:0002181)',\n",
       " 'GO_Biological_Process_2023__Gene Expression (GO:0010467)',\n",
       " 'GO_Biological_Process_2023__Chromatin Organization (GO:0006325)',\n",
       " 'GO_Molecular_Function_2023__snRNA Binding (GO:0017069)',\n",
       " 'GO_Biological_Process_2023__Negative Regulation Of mRNA Catabolic Process (GO:1902373)',\n",
       " 'GO_Cellular_Component_2023__Cytosolic Large Ribosomal Subunit (GO:0022625)']"
      ]
     },
     "execution_count": 125,
     "metadata": {},
     "output_type": "execute_result"
    }
   ],
   "source": [
    "all_show_go[all_show_go['protein']=='Q01130']['Term'].tolist()"
   ]
  },
  {
   "cell_type": "code",
   "execution_count": 123,
   "metadata": {},
   "outputs": [
    {
     "data": {
      "text/plain": [
       "['GO_Molecular_Function_2023__RNA Binding (GO:0003723)',\n",
       " 'GO_Biological_Process_2023__protein-RNA Complex Assembly (GO:0022618)',\n",
       " 'GO_Biological_Process_2023__Translation (GO:0006412)',\n",
       " 'GO_Cellular_Component_2023__Small-Subunit Processome (GO:0032040)',\n",
       " 'GO_Cellular_Component_2023__U2-type Catalytic Step 2 Spliceosome (GO:0071007)',\n",
       " 'GO_Biological_Process_2023__Maturation Of SSU-rRNA (GO:0030490)',\n",
       " 'GO_Biological_Process_2023__RNA Stabilization (GO:0043489)',\n",
       " 'GO_Biological_Process_2023__RNA Processing (GO:0006396)',\n",
       " 'GO_Biological_Process_2023__rRNA Processing (GO:0006364)',\n",
       " 'GO_Biological_Process_2023__Chromatin Remodeling (GO:0006338)']"
      ]
     },
     "execution_count": 123,
     "metadata": {},
     "output_type": "execute_result"
    }
   ],
   "source": [
    "all_show_go[all_show_go['protein']=='P49450']['Term'].tolist()"
   ]
  },
  {
   "cell_type": "code",
   "execution_count": 124,
   "metadata": {},
   "outputs": [
    {
     "data": {
      "text/plain": [
       "['GO_Molecular_Function_2023__RNA Binding (GO:0003723)',\n",
       " 'GO_Biological_Process_2023__Regulation Of mRNA Splicing, Via Spliceosome (GO:0048024)',\n",
       " 'GO_Cellular_Component_2023__Nucleolus (GO:0005730)',\n",
       " 'GO_Cellular_Component_2023__Nuclear Lumen (GO:0031981)',\n",
       " 'GO_Molecular_Function_2023__snRNA Binding (GO:0017069)',\n",
       " 'GO_Biological_Process_2023__Ribosomal Large Subunit Biogenesis (GO:0042273)',\n",
       " 'GO_Molecular_Function_2023__mRNA Binding (GO:0003729)',\n",
       " 'GO_Biological_Process_2023__Ribosome Biogenesis (GO:0042254)',\n",
       " 'GO_Biological_Process_2023__mRNA Splicing, Via Spliceosome (GO:0000398)',\n",
       " 'GO_Cellular_Component_2023__U2 snRNP (GO:0005686)']"
      ]
     },
     "execution_count": 124,
     "metadata": {},
     "output_type": "execute_result"
    }
   ],
   "source": [
    "all_show_go[all_show_go['protein']=='Q15287']['Term'].tolist()"
   ]
  },
  {
   "cell_type": "code",
   "execution_count": 126,
   "metadata": {},
   "outputs": [
    {
     "data": {
      "text/plain": [
       "['GO_Biological_Process_2023__Regulation Of mRNA Splicing, Via Spliceosome (GO:0048024)',\n",
       " 'GO_Biological_Process_2023__Regulation Of Cytoplasmic Translation (GO:2000765)',\n",
       " 'GO_Cellular_Component_2023__Cytoplasmic Stress Granule (GO:0010494)',\n",
       " 'GO_Molecular_Function_2023__miRNA Binding (GO:0035198)',\n",
       " 'GO_Molecular_Function_2023__Single-Stranded RNA Binding (GO:0003727)',\n",
       " 'GO_Cellular_Component_2023__Nucleolus (GO:0005730)',\n",
       " 'GO_Molecular_Function_2023__pre-mRNA Binding (GO:0036002)',\n",
       " 'GO_Molecular_Function_2023__Regulatory RNA Binding (GO:0061980)',\n",
       " 'GO_Biological_Process_2023__RNA Metabolic Process (GO:0016070)',\n",
       " 'GO_Biological_Process_2023__Ribonucleoprotein Complex Biogenesis (GO:0022613)']"
      ]
     },
     "execution_count": 126,
     "metadata": {},
     "output_type": "execute_result"
    }
   ],
   "source": [
    "all_show_go[all_show_go['protein']=='Q13283']['Term'].tolist()"
   ]
  },
  {
   "cell_type": "code",
   "execution_count": 127,
   "metadata": {},
   "outputs": [
    {
     "data": {
      "text/plain": [
       "['GO_Cellular_Component_2023__U2 snRNP (GO:0005686)',\n",
       " 'GO_Biological_Process_2023__U2-type Prespliceosome Assembly (GO:1903241)',\n",
       " 'GO_Molecular_Function_2023__RNA Binding (GO:0003723)',\n",
       " 'GO_Cellular_Component_2023__Spliceosomal snRNP Complex (GO:0097525)',\n",
       " 'GO_Biological_Process_2023__RNA Processing (GO:0006396)',\n",
       " 'GO_Biological_Process_2023__Chromatin Organization (GO:0006325)',\n",
       " 'GO_Biological_Process_2023__Chromatin Remodeling (GO:0006338)',\n",
       " 'GO_Cellular_Component_2023__U12-type Spliceosomal Complex (GO:0005689)',\n",
       " 'GO_Biological_Process_2023__Histone Modification (GO:0016570)',\n",
       " 'GO_Biological_Process_2023__Positive Regulation Of DNA-templated Transcription (GO:0045893)']"
      ]
     },
     "execution_count": 127,
     "metadata": {},
     "output_type": "execute_result"
    }
   ],
   "source": [
    "all_show_go[all_show_go['protein']=='Q13501']['Term'].tolist()"
   ]
  },
  {
   "cell_type": "code",
   "execution_count": 128,
   "metadata": {},
   "outputs": [],
   "source": [
    "plot_term = {'Q01130':'GO_Biological_Process_2023__RNA Splicing (GO:0008380)',\n",
    "             'P49450':'GO_Biological_Process_2023__Chromatin Remodeling (GO:0006338)',\n",
    "             'Q15287':'GO_Biological_Process_2023__Ribosomal Large Subunit Biogenesis (GO:0042273)',\n",
    "             'Q13283':'GO_Biological_Process_2023__Regulation Of Cytoplasmic Translation (GO:2000765)',\n",
    "             'Q13501':'GO_Biological_Process_2023__U2-type Prespliceosome Assembly (GO:1903241)'\n",
    "             }\n",
    "\n",
    "color_term = {'Q01130':'slateblue',\n",
    "             'P49450':'firebrick',\n",
    "             'Q15287':'darkgreen',\n",
    "             'Q13283':'peru',\n",
    "             'Q13501':'royalblue'\n",
    "             }"
   ]
  },
  {
   "cell_type": "code",
   "execution_count": 161,
   "metadata": {},
   "outputs": [
    {
     "data": {
      "text/plain": [
       "dict_keys(['name', 'es', 'nes', 'pval', 'fdr', 'fwerp', 'tag %', 'gene %', 'lead_genes', 'matched_genes', 'hits', 'RES'])"
      ]
     },
     "execution_count": 161,
     "metadata": {},
     "output_type": "execute_result"
    }
   ],
   "source": [
    "all_go_results['Q01130']['GO_Biological_Process_2023__RNA Splicing (GO:0008380)'].keys()"
   ]
  },
  {
   "cell_type": "code",
   "execution_count": 163,
   "metadata": {},
   "outputs": [
    {
     "name": "stdout",
     "output_type": "stream",
     "text": [
      "2.768670735202467\n",
      "0.0\n",
      "2.8223935566717406\n",
      "0.0\n",
      "2.4321183966416533\n",
      "0.0013344285066583272\n",
      "2.715604890355974\n",
      "0.0\n",
      "2.944224122882879\n",
      "0.0\n"
     ]
    }
   ],
   "source": [
    "for p in plot_term.keys():\n",
    "    print(all_go_results[p][plot_term[p]]['nes'])\n",
    "    print(all_go_results[p][plot_term[p]]['fdr'])"
   ]
  },
  {
   "cell_type": "code",
   "execution_count": null,
   "metadata": {},
   "outputs": [
    {
     "data": {
      "image/jpeg": "[encoded data removed]",
      "text/plain": [
       "<Figure size 900x450 with 1 Axes>"
      ]
     },
     "metadata": {},
     "output_type": "display_data"
    }
   ],
   "source": [
    "fig,ax = plt.subplots(figsize=(3,1.5),dpi=300) \n",
    "sns.set_style('white')\n",
    "\n",
    "for p in plot_term.keys():\n",
    "    sns.lineplot(x=np.linspace(start=0,stop=1,num=len(all_go_results[p][plot_term[p]]['RES'])), y=all_go_results[p][plot_term[p]]['RES'],color=color_term[p],linewidth=1.5)\n",
    "\n",
    "\n",
    "ax.spines['bottom'].set_linewidth(1)\n",
    "ax.spines['left'].set_linewidth(1)\n",
    "ax.spines['top'].set_linewidth(1)\n",
    "ax.spines['right'].set_linewidth(1)\n",
    "\n",
    "\n"
   ]
  },
  {
   "cell_type": "code",
   "execution_count": null,
   "metadata": {},
   "outputs": [
    {
     "name": "stdout",
     "output_type": "stream",
     "text": [
      "64 2497\n",
      "66 2636\n",
      "18 759\n",
      "12 2350\n",
      "12 1391\n"
     ]
    },
    {
     "data": {
      "image/jpeg": "[encoded data removed]",
      "text/plain": [
       "<Figure size 900x450 with 5 Axes>"
      ]
     },
     "metadata": {},
     "output_type": "display_data"
    }
   ],
   "source": [
    "fig,axs = plt.subplots(figsize=(3,1.5),dpi=300,ncols = 1, nrows = 5) \n",
    "sns.set_style('white')\n",
    "\n",
    "for i in range(5):\n",
    "    p = list(plot_term.keys())[i]\n",
    "    hits = all_go_results[p][plot_term[p]]['hits']\n",
    "    length = len(all_go_results[p][plot_term[p]]['RES'])\n",
    "    print(len(hits),length)\n",
    "    for h in hits:\n",
    "        axs[i].axvline(x=h/length, color=color_term[p],linewidth=0.8)\n",
    "    axs[i].spines['bottom'].set_linewidth(0)\n",
    "    axs[i].spines['left'].set_linewidth(1)\n",
    "    axs[i].spines['top'].set_linewidth(0.8)\n",
    "    axs[i].spines['right'].set_linewidth(1)\n",
    "    axs[i].set_yticks([])\n",
    "    axs[i].set_xticks([])\n",
    "\n",
    "    if i ==4:\n",
    "        axs[i].spines['bottom'].set_linewidth(0.8)\n"
   ]
  },
  {
   "cell_type": "markdown",
   "metadata": {},
   "source": [
    "## Spearmanr between -log10(pvalue) and LLPS score"
   ]
  },
  {
   "cell_type": "code",
   "execution_count": null,
   "metadata": {},
   "outputs": [],
   "source": [
    "## Spearmanr between "
   ]
  },
  {
   "cell_type": "code",
   "execution_count": 193,
   "metadata": {},
   "outputs": [
    {
     "data": {
      "text/plain": [
       "SignificanceResult(statistic=0.2782117524141834, pvalue=0.0005914839246766989)"
      ]
     },
     "execution_count": 193,
     "metadata": {},
     "output_type": "execute_result"
    }
   ],
   "source": [
    "stats.spearmanr(all_bait_compare_summary_df['-log10(pv)'].tolist(),all_bait_compare_summary_df['SaPS'].tolist())"
   ]
  },
  {
   "cell_type": "code",
   "execution_count": null,
   "metadata": {},
   "outputs": [
    {
     "name": "stderr",
     "output_type": "stream",
     "text": [
      "d:\\conda\\Lib\\site-packages\\seaborn\\distributions.py:1176: UserWarning: The following kwargs were not used by contour: 'size'\n",
      "  cset = contour_func(\n"
     ]
    },
    {
     "data": {
      "image/jpeg": "[encoded data removed]",
      "text/plain": [
       "<Figure size 450x450 with 1 Axes>"
      ]
     },
     "metadata": {},
     "output_type": "display_data"
    }
   ],
   "source": [
    "fig = plt.subplots(figsize=(1.5,1.5),dpi=300) \n",
    "sns.set_style('white')\n",
    "\n",
    "sns.kdeplot(data = all_bait_compare_summary_df,x='SaPS',y='-log10(pv)',color='seagreen',size=0.8)\n",
    "\n",
    "\n",
    "\n",
    "sns.despine()\n",
    "\n",
    "plt.ylim([0,110])"
   ]
  },
  {
   "cell_type": "code",
   "execution_count": 195,
   "metadata": {},
   "outputs": [
    {
     "data": {
      "text/plain": [
       "SignificanceResult(statistic=0.27538933011922273, pvalue=0.0006757905016461017)"
      ]
     },
     "execution_count": 195,
     "metadata": {},
     "output_type": "execute_result"
    }
   ],
   "source": [
    "stats.spearmanr(all_bait_compare_summary_df['-log10(pv)'].tolist(),all_bait_compare_summary_df['PdPS'].tolist())"
   ]
  },
  {
   "cell_type": "code",
   "execution_count": null,
   "metadata": {},
   "outputs": [
    {
     "name": "stderr",
     "output_type": "stream",
     "text": [
      "d:\\conda\\Lib\\site-packages\\seaborn\\distributions.py:1176: UserWarning: The following kwargs were not used by contour: 'size'\n",
      "  cset = contour_func(\n"
     ]
    },
    {
     "data": {
      "image/jpeg": "[encoded data removed]",
      "text/plain": [
       "<Figure size 450x450 with 1 Axes>"
      ]
     },
     "metadata": {},
     "output_type": "display_data"
    }
   ],
   "source": [
    "fig = plt.subplots(figsize=(1.5,1.5),dpi=300) \n",
    "sns.set_style('white')\n",
    "\n",
    "sns.kdeplot(data = all_bait_compare_summary_df,x='PdPS',y='-log10(pv)',color='forestgreen',size=0.8)\n",
    "\n",
    "\n",
    "\n",
    "sns.despine()\n",
    "\n",
    "plt.ylim([0,110])"
   ]
  }
 ],
 "metadata": {
  "kernelspec": {
   "display_name": "base",
   "language": "python",
   "name": "python3"
  },
  "language_info": {
   "codemirror_mode": {
    "name": "ipython",
    "version": 3
   },
   "file_extension": ".py",
   "mimetype": "text/x-python",
   "name": "python",
   "nbconvert_exporter": "python",
   "pygments_lexer": "ipython3",
   "version": "3.11.5"
  }
 },
 "nbformat": 4,
 "nbformat_minor": 2
}
