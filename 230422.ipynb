{
 "cells": [
  {
   "cell_type": "code",
   "execution_count": 1,
   "id": "47cfca2e-ab2d-4159-9057-ff2bb90665bb",
   "metadata": {},
   "outputs": [],
   "source": [
    "import pandas as pd\n",
    "import numpy as np\n",
    "import scipy as sp\n",
    "from tqdm import tqdm"
   ]
  },
  {
   "cell_type": "code",
   "execution_count": 2,
   "id": "73bdb18a-b721-4052-a66c-7f0bdb715028",
   "metadata": {},
   "outputs": [],
   "source": [
    "phasep_df = pd.read_pickle('./data/Label/human.condensate-formation.proteins-v1.pkl')\n",
    "lt = set(phasep_df[phasep_df['source']=='literature']['uniprot_entry'])\n",
    "dp = set(phasep_df[phasep_df['source']=='deepphase']['uniprot_entry'])\n",
    "dp = dp - lt\n",
    "pr = set(phasep_df[phasep_df['source']=='phasepred']['uniprot_entry'])\n",
    "pr = pr - dp - lt"
   ]
  },
  {
   "cell_type": "code",
   "execution_count": 3,
   "id": "e6871cd1-a208-4d38-a0e9-7f29437b4f7d",
   "metadata": {},
   "outputs": [],
   "source": [
    "edges = pd.read_pickle('./saves/INTEGRATE_unweight_ProSE80d_mcc/edge_cosine/model_0.pkl')\n",
    "edges = edges[['A', 'B', 'cosim']].copy()"
   ]
  },
  {
   "cell_type": "code",
   "execution_count": 4,
   "id": "a0c45688-361c-4f56-b5b0-26229f72e304",
   "metadata": {},
   "outputs": [
    {
     "data": {
      "text/html": [
       "<div>\n",
       "<style scoped>\n",
       "    .dataframe tbody tr th:only-of-type {\n",
       "        vertical-align: middle;\n",
       "    }\n",
       "\n",
       "    .dataframe tbody tr th {\n",
       "        vertical-align: top;\n",
       "    }\n",
       "\n",
       "    .dataframe thead th {\n",
       "        text-align: right;\n",
       "    }\n",
       "</style>\n",
       "<table border=\"1\" class=\"dataframe\">\n",
       "  <thead>\n",
       "    <tr style=\"text-align: right;\">\n",
       "      <th></th>\n",
       "      <th>A</th>\n",
       "      <th>B</th>\n",
       "      <th>cosim</th>\n",
       "    </tr>\n",
       "  </thead>\n",
       "  <tbody>\n",
       "    <tr>\n",
       "      <th>0</th>\n",
       "      <td>Q9H2S6</td>\n",
       "      <td>Q9NPE6</td>\n",
       "      <td>0.914216</td>\n",
       "    </tr>\n",
       "    <tr>\n",
       "      <th>1</th>\n",
       "      <td>Q9H2S6</td>\n",
       "      <td>Q9BXK5</td>\n",
       "      <td>0.909164</td>\n",
       "    </tr>\n",
       "    <tr>\n",
       "      <th>2</th>\n",
       "      <td>Q9H2S6</td>\n",
       "      <td>O60238</td>\n",
       "      <td>0.193015</td>\n",
       "    </tr>\n",
       "    <tr>\n",
       "      <th>3</th>\n",
       "      <td>Q9H2S6</td>\n",
       "      <td>P20138</td>\n",
       "      <td>0.620930</td>\n",
       "    </tr>\n",
       "    <tr>\n",
       "      <th>4</th>\n",
       "      <td>Q9H2S6</td>\n",
       "      <td>Q9UM44</td>\n",
       "      <td>0.010836</td>\n",
       "    </tr>\n",
       "  </tbody>\n",
       "</table>\n",
       "</div>"
      ],
      "text/plain": [
       "        A       B     cosim\n",
       "0  Q9H2S6  Q9NPE6  0.914216\n",
       "1  Q9H2S6  Q9BXK5  0.909164\n",
       "2  Q9H2S6  O60238  0.193015\n",
       "3  Q9H2S6  P20138  0.620930\n",
       "4  Q9H2S6  Q9UM44  0.010836"
      ]
     },
     "execution_count": 4,
     "metadata": {},
     "output_type": "execute_result"
    }
   ],
   "source": [
    "edges.head()"
   ]
  },
  {
   "cell_type": "code",
   "execution_count": 5,
   "id": "ccd21cce-88da-4749-974d-7513585f6539",
   "metadata": {},
   "outputs": [],
   "source": [
    "import networkx as nx\n",
    "def dataframe2graph(interactome_df, mcc=True):\n",
    "    G = nx.Graph()\n",
    "    G.add_edges_from(interactome_df.to_numpy())\n",
    "    if mcc:\n",
    "        c = max(nx.connected_components(G), key=len)\n",
    "        G_mcc = G.subgraph(c)\n",
    "        return G_mcc\n",
    "    else:\n",
    "        return G"
   ]
  },
  {
   "cell_type": "code",
   "execution_count": 6,
   "id": "5a3b2456-5ed8-4fb3-a48d-cce4c13db76b",
   "metadata": {},
   "outputs": [],
   "source": [
    "def get_adjmat(e, pset, fill_negEdges_val=-1):\n",
    "    e.loc[(e['A'].isin(pset))&(e['B'].isin(pset)), 'type'] = 1\n",
    "    e['type'] = e['type'].fillna(0).astype(int)\n",
    "    nodes = np.sort(pd.concat([e['A'], e['B']]).drop_duplicates())\n",
    "    graph = dataframe2graph(e[['A', 'B']])\n",
    "    \n",
    "    adj_mat = nx.adjacency_matrix(graph, nodelist=nodes).toarray()\n",
    "    adj_mat_df = pd.DataFrame(adj_mat)\n",
    "    adj_mat_df.columns, adj_mat_df.index = nodes, nodes\n",
    "    \n",
    "    for _, i in tqdm(e.iterrows()):\n",
    "        a, b, ty = i['A'], i['B'], i['type']\n",
    "        if ty==1:\n",
    "            continue\n",
    "        elif ty==0:\n",
    "            adj_mat_df[a][b] = fill_negEdges_val\n",
    "            adj_mat_df[b][a] = fill_negEdges_val\n",
    "    \n",
    "    return adj_mat_df"
   ]
  },
  {
   "cell_type": "code",
   "execution_count": 7,
   "id": "3daa7530-81b5-434f-930b-02dd24532ca4",
   "metadata": {},
   "outputs": [
    {
     "name": "stderr",
     "output_type": "stream",
     "text": [
      "241464it [04:09, 966.70it/s] \n"
     ]
    }
   ],
   "source": [
    "df1 = get_adjmat(edges, lt)"
   ]
  },
  {
   "cell_type": "code",
   "execution_count": 12,
   "id": "e1988f79-6be0-4042-8801-ecf44867a9a9",
   "metadata": {},
   "outputs": [],
   "source": [
    "adjmat_csr1 = sp.sparse.csr_matrix(df1.to_numpy())"
   ]
  },
  {
   "cell_type": "code",
   "execution_count": 16,
   "id": "10dc35c2-1b61-497c-9d5a-a017fd261257",
   "metadata": {},
   "outputs": [
    {
     "name": "stderr",
     "output_type": "stream",
     "text": [
      "241464it [03:20, 1203.69it/s]\n"
     ]
    }
   ],
   "source": [
    "df2 = get_adjmat(edges, set(phasep_df['uniprot_entry']))"
   ]
  },
  {
   "cell_type": "code",
   "execution_count": 18,
   "id": "d36d9a01-f700-4cc0-b5bc-58966b00a7c7",
   "metadata": {},
   "outputs": [],
   "source": [
    "adjmat_csr2 = sp.sparse.csr_matrix(df2.to_numpy())"
   ]
  },
  {
   "cell_type": "code",
   "execution_count": null,
   "id": "650f6a34-4126-4350-b7fd-f9e530fc4772",
   "metadata": {},
   "outputs": [],
   "source": []
  },
  {
   "cell_type": "code",
   "execution_count": 22,
   "id": "db749f8d-66fc-451a-8809-6bbd71c2fd98",
   "metadata": {},
   "outputs": [],
   "source": [
    "prose_df = pd.read_pickle('./data/NodeFeat/SeqEmb/seqemb_80d.pkl')"
   ]
  },
  {
   "cell_type": "code",
   "execution_count": 29,
   "id": "24e6eee9-7bb8-415b-a20a-2d783a7a6acf",
   "metadata": {},
   "outputs": [],
   "source": [
    "genes = set(pd.concat([edges['A'], edges['B']]).drop_duplicates())"
   ]
  },
  {
   "cell_type": "code",
   "execution_count": 36,
   "id": "d3a42dcc-4524-4aa9-a20f-b0c331119734",
   "metadata": {},
   "outputs": [],
   "source": [
    "prose_array = prose_df[prose_df['entry'].isin(genes)].sort_values(by='entry').set_index('entry').to_numpy()"
   ]
  },
  {
   "cell_type": "code",
   "execution_count": 47,
   "id": "0303b441-2c1b-4e33-a69d-f027e4d0c713",
   "metadata": {},
   "outputs": [],
   "source": [
    "prose_array_mat = np.asmatrix(prose_array)"
   ]
  },
  {
   "cell_type": "code",
   "execution_count": null,
   "id": "8cf66a74-800d-4a79-a542-064e803318cf",
   "metadata": {},
   "outputs": [],
   "source": []
  },
  {
   "cell_type": "code",
   "execution_count": 55,
   "id": "7156c596-7b52-407e-beab-7a4a98b709ec",
   "metadata": {},
   "outputs": [],
   "source": [
    "# help(np.savez)"
   ]
  },
  {
   "cell_type": "code",
   "execution_count": 60,
   "id": "29e0e34b-35a1-41e6-bb42-a98fb82f76bc",
   "metadata": {},
   "outputs": [],
   "source": [
    "# save pickles\n",
    "sp.sparse.save_npz('../230422_adjmat_lt.npz', adjmat_csr1)\n",
    "sp.sparse.save_npz('../230422_adjmat_lt_pr_dp.npz', adjmat_csr2)\n",
    "np.savez('../230422_nodefeat.npz', a=prose_array_mat)"
   ]
  },
  {
   "cell_type": "code",
   "execution_count": 62,
   "id": "2f8e8a28-5a9f-447e-9db6-0e2980fd0f70",
   "metadata": {},
   "outputs": [
    {
     "data": {
      "text/plain": [
       "<15939x15939 sparse matrix of type '<class 'numpy.int64'>'\n",
       "\twith 482928 stored elements in Compressed Sparse Row format>"
      ]
     },
     "execution_count": 62,
     "metadata": {},
     "output_type": "execute_result"
    }
   ],
   "source": [
    "sp.sparse.load_npz('../230422_adjmat_lt.npz')"
   ]
  },
  {
   "cell_type": "code",
   "execution_count": 65,
   "id": "10c3632a-2656-4489-989e-59354ff2801d",
   "metadata": {},
   "outputs": [
    {
     "data": {
      "text/plain": [
       "array([[-0.94118451,  1.60268738,  0.19945823, ...,  0.19491316,\n",
       "        -0.43772279, -0.08016426],\n",
       "       [-0.29100994, -2.06819021,  0.29064222, ..., -0.22262475,\n",
       "        -0.29430415,  0.20296665],\n",
       "       [-0.55109096, -0.29558413, -0.11974005, ..., -0.00221224,\n",
       "         0.10755734, -0.07246632],\n",
       "       ...,\n",
       "       [-0.61434225, -0.21582841, -0.33786499, ...,  0.07044926,\n",
       "        -0.0911999 , -0.02410985],\n",
       "       [ 1.02569928,  1.77695801,  2.14784547, ...,  0.24515249,\n",
       "        -0.07967637,  0.02876148],\n",
       "       [ 0.14874894,  0.56108616,  1.09394704, ...,  0.09033816,\n",
       "         0.10259608,  0.11066866]])"
      ]
     },
     "execution_count": 65,
     "metadata": {},
     "output_type": "execute_result"
    }
   ],
   "source": [
    "np.load('../230422_nodefeat.npz')['a']"
   ]
  }
 ],
 "metadata": {
  "kernelspec": {
   "display_name": "Python 3",
   "language": "python",
   "name": "python3"
  },
  "language_info": {
   "codemirror_mode": {
    "name": "ipython",
    "version": 3
   },
   "file_extension": ".py",
   "mimetype": "text/x-python",
   "name": "python",
   "nbconvert_exporter": "python",
   "pygments_lexer": "ipython3",
   "version": "3.7.16"
  }
 },
 "nbformat": 4,
 "nbformat_minor": 5
}
