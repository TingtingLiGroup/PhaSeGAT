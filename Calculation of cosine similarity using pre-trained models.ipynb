{
 "cells": [
  {
   "cell_type": "code",
   "execution_count": 1,
   "id": "0e9b1063-9aa8-47e2-922c-8e29e58e782d",
   "metadata": {},
   "outputs": [],
   "source": [
    "import os\n",
    "import sys\n",
    "from pprint import pprint\n",
    "sys.path.append('.')\n",
    "\n",
    "import pandas as pd\n",
    "import numpy as np\n",
    "from tqdm import tqdm\n",
    "import optuna\n",
    "from sklearn import metrics\n",
    "from sklearn.model_selection import train_test_split\n",
    "import torch\n",
    "import torch.nn as nn\n",
    "import torch.optim as optim\n",
    "\n",
    "from models.gat.gat_pytorch import GAT\n",
    "from models.gat import params as gat_params\n",
    "from utils.utils import *\n",
    "from runners import tools"
   ]
  },
  {
   "cell_type": "code",
   "execution_count": null,
   "id": "cebd3f52",
   "metadata": {},
   "outputs": [],
   "source": [
    "from sklearn.metrics.pairwise import cosine_distances, cosine_similarity"
   ]
  },
  {
   "cell_type": "code",
   "execution_count": 2,
   "id": "b4a735dd-e1a3-41c8-a2fd-66c58eab9c39",
   "metadata": {},
   "outputs": [],
   "source": [
    "os.chdir('/home/lyz/co-phase-separation/PSGAT/')\n",
    "DATA_ROOT = './data'"
   ]
  },
  {
   "cell_type": "code",
   "execution_count": null,
   "id": "8c20b8ae",
   "metadata": {},
   "outputs": [],
   "source": [
    "SAVE_ROOT = './saves/INTEGRATE_ProSE80d_pos1neg1/'"
   ]
  },
  {
   "cell_type": "code",
   "execution_count": null,
   "id": "64a11a2d",
   "metadata": {},
   "outputs": [],
   "source": [
    "for i in range(10):\n",
    "    ppi_path = os.path.join(\n",
    "        DATA_ROOT,           \n",
    "        f'PPIN/INTEGRATE.csv'\n",
    "    )\n",
    "    edges = pd.read_csv(ppi_path)\n",
    "    genes = pd.read_pickle(SAVE_ROOT+\"genes.pkl\")\n",
    "    emedding = torch.load( os.path.join(SAVE_ROOT, f'embeddings/model_{i}.pt'))\n",
    "    \n",
    "    featuremap_cosine = pd.DataFrame(cosine_similarity(emedding))\n",
    "    featuremap_cosine.columns, featuremap_cosine.index = genes, genes\n",
    "\n",
    "    \n",
    "    cosim_list = list()\n",
    "    for _, x in edges.iterrows():\n",
    "        cosim = featuremap_cosine[x['A']][x['B']]\n",
    "        cosim_list.append(cosim)\n",
    "    edges['cosim'] = cosim_list\n",
    "    edges.loc[edges['cosim'] < 0, 'cosim'] = 0\n",
    "    edges.loc[edges['cosim'] > 1, 'cosim'] = 1\n",
    "    \n",
    "    featuremap_cosine.to_pickle(os.path.join(SAVE_ROOT, f'pairwise_cosine/model_{i}.pkl'))\n",
    "    edges.to_pickle(os.path.join(SAVE_ROOT, f'edge_cosine/model_{i}.pkl'))\n",
    "\n"
   ]
  }
 ],
 "metadata": {
  "kernelspec": {
   "display_name": "Python 3",
   "language": "python",
   "name": "python3"
  },
  "language_info": {
   "codemirror_mode": {
    "name": "ipython",
    "version": 3
   },
   "file_extension": ".py",
   "mimetype": "text/x-python",
   "name": "python",
   "nbconvert_exporter": "python",
   "pygments_lexer": "ipython3",
   "version": "3.7.16"
  },
  "toc": {
   "base_numbering": 1,
   "nav_menu": {},
   "number_sections": true,
   "sideBar": true,
   "skip_h1_title": false,
   "title_cell": "Table of Contents",
   "title_sidebar": "Contents",
   "toc_cell": false,
   "toc_position": {},
   "toc_section_display": true,
   "toc_window_display": false
  }
 },
 "nbformat": 4,
 "nbformat_minor": 5
}
