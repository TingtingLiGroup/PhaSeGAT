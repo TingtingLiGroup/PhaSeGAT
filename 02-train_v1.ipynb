{
 "cells": [
  {
   "cell_type": "code",
   "execution_count": 1,
   "id": "0e9b1063-9aa8-47e2-922c-8e29e58e782d",
   "metadata": {},
   "outputs": [],
   "source": [
    "import os\n",
    "import sys\n",
    "from pprint import pprint\n",
    "sys.path.append('.')\n",
    "\n",
    "import pandas as pd\n",
    "import numpy as np\n",
    "from tqdm import tqdm\n",
    "import optuna\n",
    "from sklearn import metrics\n",
    "from sklearn.model_selection import train_test_split\n",
    "import torch\n",
    "import torch.nn as nn\n",
    "import torch.optim as optim\n",
    "\n",
    "from models.gat.gat_pytorch import GAT\n",
    "from models.gat import params as gat_params\n",
    "from utils.utils import *\n",
    "from runners import tools"
   ]
  },
  {
   "cell_type": "code",
   "execution_count": 2,
   "id": "b4a735dd-e1a3-41c8-a2fd-66c58eab9c39",
   "metadata": {},
   "outputs": [],
   "source": [
    "os.chdir('/home/lyz/co-phase-separation/PSGAT/')\n",
    "DATA_ROOT = './data'"
   ]
  },
  {
   "cell_type": "code",
   "execution_count": 3,
   "id": "453705f1-c139-4beb-9e6e-1369ab0773c3",
   "metadata": {},
   "outputs": [],
   "source": [
    "def dim_reduction_cor(X, y, k=20):\n",
    "    cors = np.zeros((X.shape[1]))\n",
    "    \n",
    "    # calculate the correlation with y for each feature\n",
    "    for i in range(X.shape[1]):\n",
    "        cor = np.corrcoef(X[:, i], y)[0, 1]\n",
    "        if not np.isnan(cor):\n",
    "            cors[i] = cor\n",
    "    \n",
    "    features = np.zeros_like(cors).astype(bool)\n",
    "    features[np.argsort(-cors)[:k]] = True\n",
    "    \n",
    "    return features, cors"
   ]
  },
  {
   "cell_type": "code",
   "execution_count": 4,
   "id": "80a6111a-24ea-4199-bb57-467c4ac35481",
   "metadata": {},
   "outputs": [],
   "source": [
    "def data(\n",
    "    ppi, # ['integrate', 'biogrid-all', 'biogrid-htp']\n",
    "    seqemb=False, # ProSE sequence embedding\n",
    "    expr=False, # Gene expression\n",
    "    subloc=False, # Sublocalization\n",
    "    gomf=False, # GO molecular function\n",
    "    comp=False, # GO cellular component\n",
    "    weights=False,\n",
    "    weights_thr=200, # edge weight threshold\n",
    "    max_feat_dim=150, # k in feature selection\n",
    "    seed=0 # random state\n",
    "):\n",
    "    # edges and edge_weights\n",
    "    ppi_path = os.path.join(\n",
    "        DATA_ROOT,           \n",
    "        f'PPIN/{ppi.upper()}.csv'\n",
    "    )\n",
    "    edges = pd.read_csv(ppi_path)\n",
    "    edge_weights = None\n",
    "    \n",
    "    if (ppi in ['string']) and (weights==True):      \n",
    "        key = 'combined_score'\n",
    "        edges = edges[edges.loc[:, key] > weights_thr].reset_index()\n",
    "        edge_weights = edges['combined_score'] / 1000\n",
    "        print(f'Filtered {ppi} network with thresh:', weights_thr)\n",
    "    \n",
    "    edges = edges[['A', 'B']].copy()\n",
    "    edges = edges.dropna()\n",
    "    edges, index = edges.values, edges.index.values\n",
    "    ppi_genes = np.union1d(edges[:, 0], edges[:, 1])\n",
    "    if edge_weights is not None:\n",
    "        edge_weights = edge_weights.iloc[index].values\n",
    "    \n",
    "    # labels\n",
    "    label_path = os.path.join(\n",
    "        DATA_ROOT,\n",
    "        f'Label/labels.csv'\n",
    "    )\n",
    "    labels = pd.read_csv(label_path).set_index('Gene')\n",
    "\n",
    "    ## filter labels not in the PPI network\n",
    "    print('Number of labels before filtering:', len(labels))\n",
    "    labels = labels.loc[np.intersect1d(labels.index, ppi_genes)].copy()\n",
    "    print('Number of labels after filtering:', len(labels))\n",
    "    \n",
    "    \"\"\"正负样本比例：1:1\"\"\"\n",
    "    ratio = 1\n",
    "    pos_samples = labels[labels['label']==1]\n",
    "    neg_samples = labels[labels['label']==0].sample(n=pos_samples.shape[0] * ratio, random_state=0)\n",
    "    labels = pd.concat([pos_samples, neg_samples]).sort_index()\n",
    "    \n",
    "    ## train and test split\n",
    "    train_ds, test_ds = train_test_split(\n",
    "        labels,\n",
    "        test_size=.2,\n",
    "        random_state=seed,\n",
    "        stratify=labels\n",
    "    )\n",
    "    \n",
    "    genes = np.union1d(labels.index, ppi_genes)\n",
    "    print('Total number of genes:', len(genes))\n",
    "    \n",
    "    # node attributes\n",
    "    X = np.zeros((len(genes), 0))\n",
    "    X = pd.DataFrame(X, index=genes)\n",
    "    \n",
    "    ## ProSE sequence embedding\n",
    "    if seqemb:\n",
    "        seqemb_path = os.path.join(\n",
    "            DATA_ROOT,           \n",
    "            f'NodeFeat/SeqEmb/seqemb_80d.pkl'\n",
    "        )\n",
    "        seqemb_feat = pd.read_pickle(seqemb_path).set_index('entry')\n",
    "        columns = [f'seqemb_{i}' for i in range(seqemb_feat.shape[1])]\n",
    "        seqemb_feat.columns = columns\n",
    "        X = X.join(seqemb_feat, how='left')\n",
    "        print('Sequence Embedding dataset shape:', seqemb_feat.shape)\n",
    "    \n",
    "    ## Gene expression\n",
    "    \n",
    "    X = X.fillna(0)\n",
    "    \n",
    "    N = len(X)\n",
    "    mapping = dict(zip(genes, range(N)))\n",
    "    \n",
    "    # preprocessing\n",
    "    ## remove self-loops\n",
    "    mask = edges[:, 0] != edges[:, 1]\n",
    "    edges = edges[mask]\n",
    "    if edge_weights is not None:\n",
    "        edge_weights = edge_weights[mask]\n",
    "    \n",
    "    ## remove duplicated connections\n",
    "    df = pd.DataFrame(edges, columns=['A', 'B'])\n",
    "    df[0] = np.sort(df[['A', 'B']].values).sum(axis=1)\n",
    "    df = df.drop_duplicates(subset=0)\n",
    "    edges, index = df.iloc[:, :2].values, df.index.values\n",
    "    if edge_weights is not None:\n",
    "        edge_weights = edge_weights[index]\n",
    "        edge_weights = torch.tensor(edge_weights, dtype=torch.float32)\n",
    "    \n",
    "    edge_index = np.vectorize(mapping.__getitem__)(edges)\n",
    "    \n",
    "    ## node attribute matrix X\n",
    "    degrees = np.zeros((N, 1))\n",
    "    nodes, counts = np.unique(edge_index, return_counts=True)\n",
    "    degrees[nodes, 0] = counts\n",
    "    \n",
    "    if X is None or not X.shape[1]:\n",
    "        X = np.random.random((N, 50))\n",
    "\n",
    "    if X.shape[1] < 50:\n",
    "        X = np.concatenate([X, np.random.random((N, 50))], axis=1)\n",
    "        \n",
    "    # X = np.concatenate([X, degrees.reshape((-1, 1))], 1) # concat degree vector\n",
    "    X = X.to_numpy()\n",
    "    X = (X - X.mean(0, keepdims=True)) / (X.std(0, keepdims=True) + 1e-8) # normalization\n",
    "    \n",
    "    ## train and val split\n",
    "    train, val = train_test_split(\n",
    "        train_ds,\n",
    "        test_size=.05,\n",
    "        random_state=seed,\n",
    "        stratify=train_ds\n",
    "    )\n",
    "    \n",
    "    train_idx = [mapping[t] for t in train.index]\n",
    "    val_idx = [mapping[v] for v in val.index]\n",
    "    test_idx = [mapping[v] for v in test_ds.index]\n",
    "    \n",
    "    # feature selection\n",
    "    red_idx = np.concatenate([train_idx, test_idx, val_idx], axis=0)\n",
    "    red_y = np.concatenate([train.label, test_ds.label, val.label], axis=0)\n",
    "    feats, cors = dim_reduction_cor(\n",
    "        X[red_idx], \n",
    "        red_y.astype(np.float32), \n",
    "        k=max_feat_dim\n",
    "    )\n",
    "    X = X[:, feats]\n",
    "    \n",
    "    # Torch\n",
    "    edge_index = torch.from_numpy(edge_index.T)\n",
    "    edge_index = edge_index.to(torch.long).contiguous()\n",
    "    \n",
    "    X = torch.from_numpy(X).to(torch.float32)\n",
    "    train_y = torch.tensor(train.label.astype(int), dtype=torch.float32)\n",
    "    val_y = torch.tensor(val.label.astype(int), dtype=torch.float32)\n",
    "    test_y = torch.tensor(test_ds.label.astype(int), dtype=torch.float32)\n",
    "    \n",
    "    print(f'\\nNumber of edges in graph: {len(edges)}')\n",
    "    print(f'Number of nodes in graph: {len(X)}')\n",
    "    print(f'Shape of node features: {X.shape[0], X.shape[1]}\\n')\n",
    "    print('Using Edge Weights' if edge_weights is not None else 'Not using edge weights')\n",
    "    \n",
    "    return (edge_index, edge_weights), X, (train_idx, train_y), (val_idx, val_y), \\\n",
    "            (test_idx, test_y), genes"
   ]
  },
  {
   "cell_type": "code",
   "execution_count": 5,
   "id": "7024c98c-f2f8-475b-ba66-6d4ff27d2c38",
   "metadata": {},
   "outputs": [],
   "source": [
    "# (edge_index, edge_weights), X, (train_idx, train_y), (val_idx, val_y), (test_idx, test_y), genes = data(ppi='biogrid-all', seqemb=True, weights_thr=250, weights=False)"
   ]
  },
  {
   "cell_type": "code",
   "execution_count": null,
   "id": "40e896a2",
   "metadata": {},
   "outputs": [],
   "source": []
  },
  {
   "cell_type": "code",
   "execution_count": 6,
   "id": "2eb3f048-d03f-4aca-9647-e94e444807f0",
   "metadata": {},
   "outputs": [],
   "source": [
    "gat_0 = {\n",
    "    'lr': 0.005,\n",
    "    'weight_decay': 5e-4,\n",
    "    'h_feats': [8, 1],\n",
    "    'heads': [8, 1],\n",
    "    'dropout': 0.6,\n",
    "    'negative_slope': 0.2}"
   ]
  },
  {
   "cell_type": "code",
   "execution_count": 7,
   "id": "4b9bab4c-98b1-4c49-983b-bf3d4101f02e",
   "metadata": {},
   "outputs": [],
   "source": [
    "DEVICE = torch.device('cuda' if torch.cuda.is_available() else 'cpu')"
   ]
  },
  {
   "cell_type": "code",
   "execution_count": 8,
   "id": "431a655e-2b7f-441d-bafe-ffb4f7289802",
   "metadata": {},
   "outputs": [],
   "source": [
    "# Loss class\n",
    "class Loss():\n",
    "    def __init__(self, y, idx):\n",
    "        self.y = y\n",
    "        idx = np.array(idx)\n",
    "\n",
    "        self.y_pos = y[y == 1]\n",
    "        self.y_neg = y[y == 0]\n",
    "\n",
    "        self.pos = idx[y.cpu() == 1]\n",
    "        self.neg = idx[y.cpu() == 0]\n",
    "\n",
    "    def __call__(self, out):\n",
    "        loss_p = F.binary_cross_entropy_with_logits(\n",
    "            out[self.pos].squeeze(), self.y_pos)\n",
    "        loss_n = F.binary_cross_entropy_with_logits(\n",
    "            out[self.neg].squeeze(), self.y_neg)\n",
    "        loss = loss_p + loss_n\n",
    "        return loss\n",
    "\n",
    "# AUC calculation\n",
    "def evalAUC(model, X, A, y, mask, logits=None):\n",
    "    assert(model is not None or logits is not None)\n",
    "    if model is not None:\n",
    "        model.eval()\n",
    "        with torch.no_grad():\n",
    "            logits = model(X, A)\n",
    "            logits = logits[mask]\n",
    "    probs = torch.sigmoid(logits)\n",
    "    probs = probs.cpu().numpy()\n",
    "    y = y.cpu().numpy()\n",
    "    auc = metrics.roc_auc_score(y, probs)\n",
    "    fpr, tpr, _ = metrics.roc_curve(y, probs)\n",
    "    return auc, fpr, tpr\n",
    "\n",
    "# Model training\n",
    "def train(\n",
    "    params,\n",
    "    X, A,\n",
    "    edge_weights,\n",
    "    train_y, train_idx,\n",
    "    val_y, val_idx,\n",
    "    savepath=''\n",
    "):\n",
    "    epochs = 1000\n",
    "    \n",
    "    model = GAT(in_feats=X.shape[1], **params)\n",
    "    model.to(DEVICE)\n",
    "    X = X.to(DEVICE)\n",
    "    A = A.to(DEVICE)\n",
    "    train_y = train_y.to(DEVICE)\n",
    "    val_y = val_y.to(DEVICE)\n",
    "    if edge_weights is not None:\n",
    "        edge_weights = edge_weights.to(DEVICE)\n",
    "    \n",
    "    optimizer = optim.Adam(\n",
    "        model.parameters(),\n",
    "        lr=params['lr'],\n",
    "        weight_decay=params['weight_decay']\n",
    "    )\n",
    "    loss_fnc = tools.Loss(train_y, train_idx)\n",
    "    val_loss_fnc = tools.Loss(val_y, val_idx)\n",
    "    \n",
    "    iterable = tqdm(range(epochs))\n",
    "    for i in iterable:\n",
    "        model.train()\n",
    "        logits = model(X, A, edge_weights=edge_weights)\n",
    "        \n",
    "        optimizer.zero_grad()\n",
    "        loss = loss_fnc(logits)\n",
    "        loss.backward()\n",
    "        optimizer.step()\n",
    "        \n",
    "        logits = logits.detach()\n",
    "        val_loss = val_loss_fnc(logits)\n",
    "        train_auc, _, _ = evalAUC(None, 0, 0, train_y, 0, logits[train_idx])\n",
    "        val_auc, _, _ = evalAUC(None, 0, 0, val_y, 0, logits[val_idx])\n",
    "        \n",
    "        tqdm.set_description(\n",
    "            iterable,\n",
    "            desc='Loss: %.4f; Val Loss %.4f; Train AUC %.4f. Validation AUC: %.4f' % (loss, val_loss, train_auc, val_auc)\n",
    "        )\n",
    "    \n",
    "    score, fpr, tpr = evalAUC(model, X, A, val_y, val_idx)\n",
    "    auc_dict = {\n",
    "        'auc': score,\n",
    "        'fpr': fpr,\n",
    "        'tpr': tpr\n",
    "    }\n",
    "    print(f'Val AUC: {score}')\n",
    "    \n",
    "    return model, auc_dict\n",
    "\n",
    "# Model testing\n",
    "def test(model, X, A, test_ds=None):\n",
    "    model.to(DEVICE).eval()\n",
    "    X = X.to(DEVICE)\n",
    "    A = A.to(DEVICE)\n",
    "    \n",
    "    with torch.no_grad():\n",
    "        logits = model(X, A)\n",
    "    probs = torch.sigmoid(logits)\n",
    "    probs = probs.cpu().numpy()\n",
    "    \n",
    "    if test_ds is not None:\n",
    "        test_idx, test_y = test_ds\n",
    "        test_y = test_y.cpu().numpy()\n",
    "        auc = metrics.roc_auc_score(test_y, probs[test_idx])\n",
    "        fpr, tpr, _ = metrics.roc_curve(test_y, probs[test_idx])\n",
    "        auc_dict = {\n",
    "            'auc': auc,\n",
    "            'fpr': fpr,\n",
    "            'tpr': tpr\n",
    "        }\n",
    "        return probs, auc_dict\n",
    "    return probs"
   ]
  },
  {
   "cell_type": "code",
   "execution_count": 9,
   "id": "6e041324-6435-4e73-b28e-dd12dc9c59f0",
   "metadata": {},
   "outputs": [],
   "source": [
    "N = 10\n",
    "models, preds, val_aucs, test_aucs = (dict() for i in range(4))"
   ]
  },
  {
   "cell_type": "code",
   "execution_count": 10,
   "id": "fb56ad0f-3fa7-4d88-a87a-9a78db81558c",
   "metadata": {
    "scrolled": true
   },
   "outputs": [
    {
     "name": "stdout",
     "output_type": "stream",
     "text": [
      "Number of labels before filtering: 20398\n",
      "Number of labels after filtering: 15939\n",
      "Total number of genes: 15939\n",
      "Sequence Embedding dataset shape: (20398, 80)\n",
      "\n",
      "Number of edges in graph: 241464\n",
      "Number of nodes in graph: 15939\n",
      "Shape of node features: (15939, 80)\n",
      "\n",
      "Not using edge weights\n"
     ]
    },
    {
     "name": "stderr",
     "output_type": "stream",
     "text": [
      "Loss: 0.8917; Val Loss 1.5704; Train AUC 0.8697. Validation AUC: 0.6779: 100%|██████████| 1000/1000 [00:26<00:00, 37.52it/s]\n"
     ]
    },
    {
     "name": "stdout",
     "output_type": "stream",
     "text": [
      "Val AUC: 0.8303571428571428\n",
      "Number of labels before filtering: 20398\n",
      "Number of labels after filtering: 15939\n",
      "Total number of genes: 15939\n",
      "Sequence Embedding dataset shape: (20398, 80)\n"
     ]
    },
    {
     "name": "stderr",
     "output_type": "stream",
     "text": [
      "Loss: 1.4208; Val Loss 1.5226; Train AUC 0.6159. Validation AUC: 0.5064:   0%|          | 4/1000 [00:00<00:26, 37.12it/s]"
     ]
    },
    {
     "name": "stdout",
     "output_type": "stream",
     "text": [
      "\n",
      "Number of edges in graph: 241464\n",
      "Number of nodes in graph: 15939\n",
      "Shape of node features: (15939, 80)\n",
      "\n",
      "Not using edge weights\n"
     ]
    },
    {
     "name": "stderr",
     "output_type": "stream",
     "text": [
      "Loss: 0.9337; Val Loss 0.9991; Train AUC 0.8579. Validation AUC: 0.8157: 100%|██████████| 1000/1000 [00:25<00:00, 38.49it/s]\n"
     ]
    },
    {
     "name": "stdout",
     "output_type": "stream",
     "text": [
      "Val AUC: 0.8660714285714285\n",
      "Number of labels before filtering: 20398\n",
      "Number of labels after filtering: 15939\n",
      "Total number of genes: 15939\n",
      "Sequence Embedding dataset shape: (20398, 80)\n"
     ]
    },
    {
     "name": "stderr",
     "output_type": "stream",
     "text": [
      "Loss: 1.5558; Val Loss 1.4904; Train AUC 0.5945. Validation AUC: 0.5268:   0%|          | 4/1000 [00:00<00:27, 35.67it/s]"
     ]
    },
    {
     "name": "stdout",
     "output_type": "stream",
     "text": [
      "\n",
      "Number of edges in graph: 241464\n",
      "Number of nodes in graph: 15939\n",
      "Shape of node features: (15939, 80)\n",
      "\n",
      "Not using edge weights\n"
     ]
    },
    {
     "name": "stderr",
     "output_type": "stream",
     "text": [
      "Loss: 0.9138; Val Loss 1.1333; Train AUC 0.8708. Validation AUC: 0.7615: 100%|██████████| 1000/1000 [00:25<00:00, 38.89it/s]\n"
     ]
    },
    {
     "name": "stdout",
     "output_type": "stream",
     "text": [
      "Val AUC: 0.7397959183673468\n",
      "Number of labels before filtering: 20398\n",
      "Number of labels after filtering: 15939\n",
      "Total number of genes: 15939\n",
      "Sequence Embedding dataset shape: (20398, 80)\n"
     ]
    },
    {
     "name": "stderr",
     "output_type": "stream",
     "text": [
      "Loss: 1.5312; Val Loss 1.4657; Train AUC 0.5463. Validation AUC: 0.5816:   0%|          | 4/1000 [00:00<00:29, 33.24it/s]"
     ]
    },
    {
     "name": "stdout",
     "output_type": "stream",
     "text": [
      "\n",
      "Number of edges in graph: 241464\n",
      "Number of nodes in graph: 15939\n",
      "Shape of node features: (15939, 80)\n",
      "\n",
      "Not using edge weights\n"
     ]
    },
    {
     "name": "stderr",
     "output_type": "stream",
     "text": [
      "Loss: 0.9184; Val Loss 1.1346; Train AUC 0.8680. Validation AUC: 0.7755: 100%|██████████| 1000/1000 [00:27<00:00, 36.88it/s]\n"
     ]
    },
    {
     "name": "stdout",
     "output_type": "stream",
     "text": [
      "Val AUC: 0.8290816326530612\n",
      "Number of labels before filtering: 20398\n",
      "Number of labels after filtering: 15939\n",
      "Total number of genes: 15939\n",
      "Sequence Embedding dataset shape: (20398, 80)\n"
     ]
    },
    {
     "name": "stderr",
     "output_type": "stream",
     "text": [
      "Loss: 1.3816; Val Loss 1.2185; Train AUC 0.6350. Validation AUC: 0.7392:   0%|          | 4/1000 [00:00<00:27, 36.50it/s]"
     ]
    },
    {
     "name": "stdout",
     "output_type": "stream",
     "text": [
      "\n",
      "Number of edges in graph: 241464\n",
      "Number of nodes in graph: 15939\n",
      "Shape of node features: (15939, 80)\n",
      "\n",
      "Not using edge weights\n"
     ]
    },
    {
     "name": "stderr",
     "output_type": "stream",
     "text": [
      "Loss: 0.8945; Val Loss 1.6566; Train AUC 0.8750. Validation AUC: 0.7755: 100%|██████████| 1000/1000 [00:26<00:00, 37.16it/s]\n"
     ]
    },
    {
     "name": "stdout",
     "output_type": "stream",
     "text": [
      "Val AUC: 0.7920918367346939\n",
      "Number of labels before filtering: 20398\n",
      "Number of labels after filtering: 15939\n",
      "Total number of genes: 15939\n",
      "Sequence Embedding dataset shape: (20398, 80)\n"
     ]
    },
    {
     "name": "stderr",
     "output_type": "stream",
     "text": [
      "Loss: 1.5745; Val Loss 1.8866; Train AUC 0.5656. Validation AUC: 0.5191:   0%|          | 4/1000 [00:00<00:32, 31.04it/s]"
     ]
    },
    {
     "name": "stdout",
     "output_type": "stream",
     "text": [
      "\n",
      "Number of edges in graph: 241464\n",
      "Number of nodes in graph: 15939\n",
      "Shape of node features: (15939, 80)\n",
      "\n",
      "Not using edge weights\n"
     ]
    },
    {
     "name": "stderr",
     "output_type": "stream",
     "text": [
      "Loss: 0.9296; Val Loss 1.8334; Train AUC 0.8723. Validation AUC: 0.6352: 100%|██████████| 1000/1000 [00:27<00:00, 36.21it/s]\n"
     ]
    },
    {
     "name": "stdout",
     "output_type": "stream",
     "text": [
      "Val AUC: 0.7385204081632654\n",
      "Number of labels before filtering: 20398\n",
      "Number of labels after filtering: 15939\n",
      "Total number of genes: 15939\n",
      "Sequence Embedding dataset shape: (20398, 80)\n"
     ]
    },
    {
     "name": "stderr",
     "output_type": "stream",
     "text": [
      "Loss: 1.5470; Val Loss 1.4941; Train AUC 0.5500. Validation AUC: 0.5497:   0%|          | 4/1000 [00:00<00:27, 36.59it/s]"
     ]
    },
    {
     "name": "stdout",
     "output_type": "stream",
     "text": [
      "\n",
      "Number of edges in graph: 241464\n",
      "Number of nodes in graph: 15939\n",
      "Shape of node features: (15939, 80)\n",
      "\n",
      "Not using edge weights\n"
     ]
    },
    {
     "name": "stderr",
     "output_type": "stream",
     "text": [
      "Loss: 0.8784; Val Loss 1.7418; Train AUC 0.8864. Validation AUC: 0.7589: 100%|██████████| 1000/1000 [00:25<00:00, 39.04it/s]\n"
     ]
    },
    {
     "name": "stdout",
     "output_type": "stream",
     "text": [
      "Val AUC: 0.7551020408163266\n",
      "Number of labels before filtering: 20398\n",
      "Number of labels after filtering: 15939\n",
      "Total number of genes: 15939\n",
      "Sequence Embedding dataset shape: (20398, 80)\n"
     ]
    },
    {
     "name": "stderr",
     "output_type": "stream",
     "text": [
      "Loss: 1.5359; Val Loss 1.3786; Train AUC 0.5688. Validation AUC: 0.6556:   0%|          | 4/1000 [00:00<00:26, 37.76it/s]"
     ]
    },
    {
     "name": "stdout",
     "output_type": "stream",
     "text": [
      "\n",
      "Number of edges in graph: 241464\n",
      "Number of nodes in graph: 15939\n",
      "Shape of node features: (15939, 80)\n",
      "\n",
      "Not using edge weights\n"
     ]
    },
    {
     "name": "stderr",
     "output_type": "stream",
     "text": [
      "Loss: 0.9284; Val Loss 1.7365; Train AUC 0.8734. Validation AUC: 0.7494: 100%|██████████| 1000/1000 [00:25<00:00, 38.79it/s]\n"
     ]
    },
    {
     "name": "stdout",
     "output_type": "stream",
     "text": [
      "Val AUC: 0.8048469387755102\n",
      "Number of labels before filtering: 20398\n",
      "Number of labels after filtering: 15939\n",
      "Total number of genes: 15939\n",
      "Sequence Embedding dataset shape: (20398, 80)\n"
     ]
    },
    {
     "name": "stderr",
     "output_type": "stream",
     "text": [
      "Loss: 1.5859; Val Loss 1.3429; Train AUC 0.5084. Validation AUC: 0.6333:   0%|          | 4/1000 [00:00<00:26, 37.69it/s]"
     ]
    },
    {
     "name": "stdout",
     "output_type": "stream",
     "text": [
      "\n",
      "Number of edges in graph: 241464\n",
      "Number of nodes in graph: 15939\n",
      "Shape of node features: (15939, 80)\n",
      "\n",
      "Not using edge weights\n"
     ]
    },
    {
     "name": "stderr",
     "output_type": "stream",
     "text": [
      "Loss: 0.9667; Val Loss 1.1934; Train AUC 0.8389. Validation AUC: 0.8074: 100%|██████████| 1000/1000 [00:25<00:00, 39.19it/s]\n"
     ]
    },
    {
     "name": "stdout",
     "output_type": "stream",
     "text": [
      "Val AUC: 0.8596938775510204\n",
      "Number of labels before filtering: 20398\n",
      "Number of labels after filtering: 15939\n",
      "Total number of genes: 15939\n",
      "Sequence Embedding dataset shape: (20398, 80)\n"
     ]
    },
    {
     "name": "stderr",
     "output_type": "stream",
     "text": [
      "Loss: 1.3648; Val Loss 1.4780; Train AUC 0.6545. Validation AUC: 0.5599:   0%|          | 4/1000 [00:00<00:27, 36.73it/s]"
     ]
    },
    {
     "name": "stdout",
     "output_type": "stream",
     "text": [
      "\n",
      "Number of edges in graph: 241464\n",
      "Number of nodes in graph: 15939\n",
      "Shape of node features: (15939, 80)\n",
      "\n",
      "Not using edge weights\n"
     ]
    },
    {
     "name": "stderr",
     "output_type": "stream",
     "text": [
      "Loss: 0.8742; Val Loss 1.8566; Train AUC 0.8722. Validation AUC: 0.6244: 100%|██████████| 1000/1000 [00:25<00:00, 38.70it/s]\n"
     ]
    },
    {
     "name": "stdout",
     "output_type": "stream",
     "text": [
      "Val AUC: 0.7257653061224489\n"
     ]
    }
   ],
   "source": [
    "for i in range(N):\n",
    "    (edge_index, edge_weights), X, (train_idx, train_y), (val_idx, val_y), (test_idx, test_y), genes = \\\n",
    "                                                    data(ppi='integrate', \n",
    "                                                         seqemb=True, \n",
    "                                                         weights_thr=0, \n",
    "                                                         weights=False, \n",
    "                                                         seed=i)\n",
    "    model, val_auc = train(gat_0, X, edge_index, edge_weights, train_y, train_idx, val_y, val_idx)\n",
    "    pred, test_auc = test(model, X, edge_index, (test_idx, test_y))\n",
    "    # break\n",
    "    models[i] = model\n",
    "    preds[i] = pred\n",
    "    val_aucs[i] = val_auc\n",
    "    test_aucs[i] = test_auc"
   ]
  },
  {
   "cell_type": "code",
   "execution_count": 11,
   "id": "d7338760",
   "metadata": {},
   "outputs": [
    {
     "data": {
      "text/plain": [
       "{0: {'auc': 0.8068940531028415,\n",
       "  'fpr': array([0.        , 0.        , 0.        , 0.00719424, 0.00719424,\n",
       "         0.01438849, 0.01438849, 0.02158273, 0.02158273, 0.02877698,\n",
       "         0.02877698, 0.03597122, 0.03597122, 0.04316547, 0.04316547,\n",
       "         0.05035971, 0.05035971, 0.07194245, 0.07194245, 0.07913669,\n",
       "         0.07913669, 0.10071942, 0.10071942, 0.10791367, 0.10791367,\n",
       "         0.11510791, 0.11510791, 0.12230216, 0.12230216, 0.15107914,\n",
       "         0.15107914, 0.15827338, 0.15827338, 0.17266187, 0.17266187,\n",
       "         0.17985612, 0.17985612, 0.18705036, 0.18705036, 0.1942446 ,\n",
       "         0.1942446 , 0.20143885, 0.20143885, 0.23021583, 0.23021583,\n",
       "         0.23741007, 0.23741007, 0.25179856, 0.25179856, 0.25899281,\n",
       "         0.25899281, 0.26618705, 0.26618705, 0.28057554, 0.28057554,\n",
       "         0.29496403, 0.29496403, 0.30215827, 0.30215827, 0.31654676,\n",
       "         0.31654676, 0.32374101, 0.32374101, 0.33093525, 0.33093525,\n",
       "         0.34532374, 0.34532374, 0.35251799, 0.35251799, 0.37410072,\n",
       "         0.37410072, 0.38848921, 0.38848921, 0.41007194, 0.41007194,\n",
       "         0.41726619, 0.41726619, 0.44604317, 0.44604317, 0.47482014,\n",
       "         0.47482014, 0.52517986, 0.52517986, 0.54676259, 0.54676259,\n",
       "         0.58273381, 0.58273381, 0.60431655, 0.60431655, 0.61151079,\n",
       "         0.61151079, 0.61870504, 0.61870504, 0.62589928, 0.62589928,\n",
       "         0.65467626, 0.65467626, 0.6618705 , 0.6618705 , 0.68345324,\n",
       "         0.68345324, 0.69064748, 0.69064748, 0.73381295, 0.73381295,\n",
       "         0.84172662, 0.84172662, 0.91366906, 0.91366906, 1.        ]),\n",
       "  'tpr': array([0.        , 0.00719424, 0.14388489, 0.14388489, 0.15107914,\n",
       "         0.15107914, 0.23741007, 0.23741007, 0.25179856, 0.25179856,\n",
       "         0.28776978, 0.28776978, 0.30935252, 0.30935252, 0.39568345,\n",
       "         0.39568345, 0.4028777 , 0.4028777 , 0.41726619, 0.41726619,\n",
       "         0.45323741, 0.45323741, 0.46043165, 0.46043165, 0.47482014,\n",
       "         0.47482014, 0.51079137, 0.51079137, 0.52517986, 0.52517986,\n",
       "         0.57553957, 0.57553957, 0.58992806, 0.58992806, 0.60431655,\n",
       "         0.60431655, 0.61870504, 0.61870504, 0.62589928, 0.62589928,\n",
       "         0.63309353, 0.63309353, 0.65467626, 0.65467626, 0.68345324,\n",
       "         0.68345324, 0.69064748, 0.69064748, 0.70503597, 0.70503597,\n",
       "         0.71223022, 0.71223022, 0.73381295, 0.73381295, 0.74100719,\n",
       "         0.74100719, 0.74820144, 0.74820144, 0.75539568, 0.75539568,\n",
       "         0.76258993, 0.76258993, 0.77697842, 0.77697842, 0.79136691,\n",
       "         0.79136691, 0.8057554 , 0.8057554 , 0.81294964, 0.81294964,\n",
       "         0.82014388, 0.82014388, 0.83453237, 0.83453237, 0.84172662,\n",
       "         0.84172662, 0.86330935, 0.86330935, 0.8705036 , 0.8705036 ,\n",
       "         0.87769784, 0.87769784, 0.89208633, 0.89208633, 0.89928058,\n",
       "         0.89928058, 0.91366906, 0.91366906, 0.92086331, 0.92086331,\n",
       "         0.92805755, 0.92805755, 0.9352518 , 0.9352518 , 0.94244604,\n",
       "         0.94244604, 0.95683453, 0.95683453, 0.96402878, 0.96402878,\n",
       "         0.97122302, 0.97122302, 0.97841727, 0.97841727, 0.98561151,\n",
       "         0.98561151, 0.99280576, 0.99280576, 1.        , 1.        ])},\n",
       " 1: {'auc': 0.8303918016665804,\n",
       "  'fpr': array([0.        , 0.        , 0.        , 0.00719424, 0.00719424,\n",
       "         0.01438849, 0.01438849, 0.02158273, 0.02158273, 0.02877698,\n",
       "         0.02877698, 0.03597122, 0.03597122, 0.04316547, 0.04316547,\n",
       "         0.05035971, 0.05035971, 0.05755396, 0.05755396, 0.0647482 ,\n",
       "         0.0647482 , 0.07194245, 0.07194245, 0.07913669, 0.07913669,\n",
       "         0.09352518, 0.09352518, 0.10071942, 0.10071942, 0.10791367,\n",
       "         0.10791367, 0.13669065, 0.13669065, 0.14388489, 0.14388489,\n",
       "         0.15827338, 0.15827338, 0.16546763, 0.16546763, 0.17266187,\n",
       "         0.17266187, 0.18705036, 0.18705036, 0.1942446 , 0.1942446 ,\n",
       "         0.20863309, 0.20863309, 0.22302158, 0.22302158, 0.23021583,\n",
       "         0.23021583, 0.23741007, 0.23741007, 0.24460432, 0.24460432,\n",
       "         0.25899281, 0.25899281, 0.28057554, 0.28057554, 0.30935252,\n",
       "         0.30935252, 0.31654676, 0.31654676, 0.33093525, 0.33093525,\n",
       "         0.36690647, 0.36690647, 0.37410072, 0.37410072, 0.38129496,\n",
       "         0.38129496, 0.41007194, 0.41007194, 0.45323741, 0.45323741,\n",
       "         0.46043165, 0.46043165, 0.47482014, 0.47482014, 0.49640288,\n",
       "         0.49640288, 0.51079137, 0.51079137, 0.53956835, 0.53956835,\n",
       "         0.54676259, 0.54676259, 0.55395683, 0.55395683, 0.58273381,\n",
       "         0.58273381, 0.58992806, 0.58992806, 0.60431655, 0.60431655,\n",
       "         0.62589928, 0.62589928, 0.67625899, 0.67625899, 0.68345324,\n",
       "         0.68345324, 0.71223022, 0.71223022, 0.71942446, 0.71942446,\n",
       "         0.95683453, 0.95683453, 1.        ]),\n",
       "  'tpr': array([0.        , 0.00719424, 0.08633094, 0.08633094, 0.13669065,\n",
       "         0.13669065, 0.15107914, 0.15107914, 0.20863309, 0.20863309,\n",
       "         0.28057554, 0.28057554, 0.34532374, 0.34532374, 0.35971223,\n",
       "         0.35971223, 0.36690647, 0.36690647, 0.41726619, 0.41726619,\n",
       "         0.43884892, 0.43884892, 0.46043165, 0.46043165, 0.49640288,\n",
       "         0.49640288, 0.5323741 , 0.5323741 , 0.53956835, 0.53956835,\n",
       "         0.56115108, 0.56115108, 0.56834532, 0.56834532, 0.58273381,\n",
       "         0.58273381, 0.63309353, 0.63309353, 0.64028777, 0.64028777,\n",
       "         0.68345324, 0.68345324, 0.69064748, 0.69064748, 0.71223022,\n",
       "         0.71223022, 0.71942446, 0.71942446, 0.74100719, 0.74100719,\n",
       "         0.74820144, 0.74820144, 0.76978417, 0.76978417, 0.78417266,\n",
       "         0.78417266, 0.79856115, 0.79856115, 0.81294964, 0.81294964,\n",
       "         0.82014388, 0.82014388, 0.82733813, 0.82733813, 0.83453237,\n",
       "         0.83453237, 0.84172662, 0.84172662, 0.84892086, 0.84892086,\n",
       "         0.85611511, 0.85611511, 0.86330935, 0.86330935, 0.88489209,\n",
       "         0.88489209, 0.89208633, 0.89208633, 0.89928058, 0.89928058,\n",
       "         0.90647482, 0.90647482, 0.91366906, 0.91366906, 0.92086331,\n",
       "         0.92086331, 0.92805755, 0.92805755, 0.9352518 , 0.9352518 ,\n",
       "         0.94244604, 0.94244604, 0.94964029, 0.94964029, 0.95683453,\n",
       "         0.95683453, 0.96402878, 0.96402878, 0.97122302, 0.97122302,\n",
       "         0.97841727, 0.97841727, 0.98561151, 0.98561151, 0.99280576,\n",
       "         0.99280576, 1.        , 1.        ])},\n",
       " 2: {'auc': 0.7677138864448011,\n",
       "  'fpr': array([0.        , 0.        , 0.        , 0.00719424, 0.00719424,\n",
       "         0.01438849, 0.01438849, 0.02158273, 0.02158273, 0.02877698,\n",
       "         0.02877698, 0.03597122, 0.03597122, 0.04316547, 0.04316547,\n",
       "         0.05035971, 0.05035971, 0.05755396, 0.05755396, 0.0647482 ,\n",
       "         0.0647482 , 0.07913669, 0.07913669, 0.08633094, 0.08633094,\n",
       "         0.10071942, 0.10071942, 0.11510791, 0.11510791, 0.14388489,\n",
       "         0.14388489, 0.15107914, 0.15107914, 0.17985612, 0.17985612,\n",
       "         0.1942446 , 0.1942446 , 0.21582734, 0.21582734, 0.22302158,\n",
       "         0.22302158, 0.23741007, 0.23741007, 0.24460432, 0.24460432,\n",
       "         0.25179856, 0.25179856, 0.25899281, 0.25899281, 0.26618705,\n",
       "         0.26618705, 0.28776978, 0.28776978, 0.32374101, 0.32374101,\n",
       "         0.3381295 , 0.3381295 , 0.34532374, 0.34532374, 0.35971223,\n",
       "         0.35971223, 0.37410072, 0.37410072, 0.38129496, 0.38129496,\n",
       "         0.43165468, 0.43165468, 0.44604317, 0.44604317, 0.45323741,\n",
       "         0.45323741, 0.48920863, 0.48920863, 0.50359712, 0.50359712,\n",
       "         0.53956835, 0.53956835, 0.54676259, 0.54676259, 0.56115108,\n",
       "         0.56115108, 0.56834532, 0.56834532, 0.58992806, 0.58992806,\n",
       "         0.61151079, 0.61151079, 0.62589928, 0.62589928, 0.64028777,\n",
       "         0.64028777, 0.70503597, 0.70503597, 0.71942446, 0.71942446,\n",
       "         0.72661871, 0.72661871, 0.73381295, 0.73381295, 0.76978417,\n",
       "         0.76978417, 0.79856115, 0.79856115, 0.81294964, 0.81294964,\n",
       "         0.87769784, 0.87769784, 0.88489209, 0.88489209, 0.94244604,\n",
       "         0.94244604, 1.        ]),\n",
       "  'tpr': array([0.        , 0.00719424, 0.07913669, 0.07913669, 0.10791367,\n",
       "         0.10791367, 0.15827338, 0.15827338, 0.23741007, 0.23741007,\n",
       "         0.25179856, 0.25179856, 0.26618705, 0.26618705, 0.28057554,\n",
       "         0.28057554, 0.32374101, 0.32374101, 0.33093525, 0.33093525,\n",
       "         0.35251799, 0.35251799, 0.43884892, 0.43884892, 0.4676259 ,\n",
       "         0.4676259 , 0.48201439, 0.48201439, 0.49640288, 0.49640288,\n",
       "         0.50359712, 0.50359712, 0.5323741 , 0.5323741 , 0.54676259,\n",
       "         0.54676259, 0.55395683, 0.55395683, 0.56834532, 0.56834532,\n",
       "         0.58273381, 0.58273381, 0.58992806, 0.58992806, 0.60431655,\n",
       "         0.60431655, 0.65467626, 0.65467626, 0.66906475, 0.66906475,\n",
       "         0.69064748, 0.69064748, 0.71223022, 0.71223022, 0.74100719,\n",
       "         0.74100719, 0.74820144, 0.74820144, 0.75539568, 0.75539568,\n",
       "         0.76258993, 0.76258993, 0.77697842, 0.77697842, 0.78417266,\n",
       "         0.78417266, 0.79856115, 0.79856115, 0.8057554 , 0.8057554 ,\n",
       "         0.81294964, 0.81294964, 0.82014388, 0.82014388, 0.82733813,\n",
       "         0.82733813, 0.84172662, 0.84172662, 0.85611511, 0.85611511,\n",
       "         0.86330935, 0.86330935, 0.8705036 , 0.8705036 , 0.87769784,\n",
       "         0.87769784, 0.88489209, 0.88489209, 0.91366906, 0.91366906,\n",
       "         0.92086331, 0.92086331, 0.92805755, 0.92805755, 0.9352518 ,\n",
       "         0.9352518 , 0.94244604, 0.94244604, 0.95683453, 0.95683453,\n",
       "         0.96402878, 0.96402878, 0.97122302, 0.97122302, 0.97841727,\n",
       "         0.97841727, 0.98561151, 0.98561151, 0.99280576, 0.99280576,\n",
       "         1.        , 1.        ])},\n",
       " 3: {'auc': 0.766730500491693,\n",
       "  'fpr': array([0.        , 0.        , 0.        , 0.01438849, 0.01438849,\n",
       "         0.02158273, 0.02158273, 0.02877698, 0.02877698, 0.03597122,\n",
       "         0.03597122, 0.04316547, 0.04316547, 0.05035971, 0.05035971,\n",
       "         0.05755396, 0.05755396, 0.0647482 , 0.0647482 , 0.07194245,\n",
       "         0.07194245, 0.09352518, 0.09352518, 0.10791367, 0.10791367,\n",
       "         0.11510791, 0.11510791, 0.1294964 , 0.1294964 , 0.14388489,\n",
       "         0.14388489, 0.15107914, 0.15107914, 0.15827338, 0.15827338,\n",
       "         0.16546763, 0.16546763, 0.17985612, 0.17985612, 0.1942446 ,\n",
       "         0.1942446 , 0.22302158, 0.22302158, 0.23021583, 0.23021583,\n",
       "         0.23741007, 0.23741007, 0.25179856, 0.25179856, 0.26618705,\n",
       "         0.26618705, 0.30215827, 0.30215827, 0.31654676, 0.31654676,\n",
       "         0.32374101, 0.32374101, 0.33093525, 0.33093525, 0.3381295 ,\n",
       "         0.3381295 , 0.34532374, 0.34532374, 0.36690647, 0.36690647,\n",
       "         0.38129496, 0.38129496, 0.38848921, 0.38848921, 0.4028777 ,\n",
       "         0.4028777 , 0.42446043, 0.42446043, 0.46043165, 0.46043165,\n",
       "         0.4676259 , 0.4676259 , 0.49640288, 0.49640288, 0.50359712,\n",
       "         0.50359712, 0.51079137, 0.51079137, 0.57553957, 0.57553957,\n",
       "         0.58273381, 0.58273381, 0.58992806, 0.58992806, 0.64748201,\n",
       "         0.64748201, 0.66906475, 0.66906475, 0.69064748, 0.69064748,\n",
       "         0.73381295, 0.73381295, 0.76258993, 0.76258993, 0.76978417,\n",
       "         0.76978417, 0.84172662, 0.84172662, 0.8705036 , 0.8705036 ,\n",
       "         0.97841727, 0.97841727, 1.        ]),\n",
       "  'tpr': array([0.        , 0.00719424, 0.02158273, 0.02158273, 0.03597122,\n",
       "         0.03597122, 0.04316547, 0.04316547, 0.09352518, 0.09352518,\n",
       "         0.15827338, 0.15827338, 0.1942446 , 0.1942446 , 0.20143885,\n",
       "         0.20143885, 0.22302158, 0.22302158, 0.25179856, 0.25179856,\n",
       "         0.29496403, 0.29496403, 0.35251799, 0.35251799, 0.36690647,\n",
       "         0.36690647, 0.39568345, 0.39568345, 0.41007194, 0.41007194,\n",
       "         0.46043165, 0.46043165, 0.47482014, 0.47482014, 0.51798561,\n",
       "         0.51798561, 0.52517986, 0.52517986, 0.56834532, 0.56834532,\n",
       "         0.57553957, 0.57553957, 0.58273381, 0.58273381, 0.61151079,\n",
       "         0.61151079, 0.61870504, 0.61870504, 0.68345324, 0.68345324,\n",
       "         0.69064748, 0.69064748, 0.69784173, 0.69784173, 0.70503597,\n",
       "         0.70503597, 0.75539568, 0.75539568, 0.77697842, 0.77697842,\n",
       "         0.79136691, 0.79136691, 0.8057554 , 0.8057554 , 0.82014388,\n",
       "         0.82014388, 0.82733813, 0.82733813, 0.83453237, 0.83453237,\n",
       "         0.84172662, 0.84172662, 0.85611511, 0.85611511, 0.86330935,\n",
       "         0.86330935, 0.8705036 , 0.8705036 , 0.87769784, 0.87769784,\n",
       "         0.88489209, 0.88489209, 0.89208633, 0.89208633, 0.89928058,\n",
       "         0.89928058, 0.90647482, 0.90647482, 0.91366906, 0.91366906,\n",
       "         0.9352518 , 0.9352518 , 0.94244604, 0.94244604, 0.94964029,\n",
       "         0.94964029, 0.95683453, 0.95683453, 0.96402878, 0.96402878,\n",
       "         0.97122302, 0.97122302, 0.97841727, 0.97841727, 0.98561151,\n",
       "         0.98561151, 1.        , 1.        ])},\n",
       " 4: {'auc': 0.7699912012835775,\n",
       "  'fpr': array([0.        , 0.00719424, 0.00719424, 0.01438849, 0.01438849,\n",
       "         0.02158273, 0.02158273, 0.02877698, 0.02877698, 0.04316547,\n",
       "         0.04316547, 0.05035971, 0.05035971, 0.0647482 , 0.0647482 ,\n",
       "         0.07194245, 0.07194245, 0.08633094, 0.08633094, 0.09352518,\n",
       "         0.09352518, 0.10071942, 0.10071942, 0.10791367, 0.10791367,\n",
       "         0.12230216, 0.12230216, 0.1294964 , 0.1294964 , 0.13669065,\n",
       "         0.13669065, 0.14388489, 0.14388489, 0.15107914, 0.15107914,\n",
       "         0.15827338, 0.15827338, 0.16546763, 0.16546763, 0.17266187,\n",
       "         0.17266187, 0.17985612, 0.17985612, 0.18705036, 0.18705036,\n",
       "         0.1942446 , 0.1942446 , 0.20143885, 0.20143885, 0.20863309,\n",
       "         0.20863309, 0.21582734, 0.21582734, 0.22302158, 0.22302158,\n",
       "         0.23021583, 0.23021583, 0.23741007, 0.23741007, 0.24460432,\n",
       "         0.24460432, 0.25179856, 0.25179856, 0.30935252, 0.30935252,\n",
       "         0.33093525, 0.33093525, 0.34532374, 0.34532374, 0.35251799,\n",
       "         0.35251799, 0.35971223, 0.35971223, 0.36690647, 0.36690647,\n",
       "         0.39568345, 0.39568345, 0.4028777 , 0.4028777 , 0.42446043,\n",
       "         0.42446043, 0.4676259 , 0.4676259 , 0.48920863, 0.48920863,\n",
       "         0.50359712, 0.50359712, 0.51079137, 0.51079137, 0.51798561,\n",
       "         0.51798561, 0.52517986, 0.52517986, 0.5323741 , 0.5323741 ,\n",
       "         0.53956835, 0.53956835, 0.54676259, 0.54676259, 0.57553957,\n",
       "         0.57553957, 0.61151079, 0.61151079, 0.64748201, 0.64748201,\n",
       "         0.65467626, 0.65467626, 0.6618705 , 0.6618705 , 0.71942446,\n",
       "         0.71942446, 0.76978417, 0.76978417, 0.77697842, 0.77697842,\n",
       "         0.78417266, 0.78417266, 0.84892086, 0.84892086, 1.        ]),\n",
       "  'tpr': array([0.        , 0.        , 0.01438849, 0.01438849, 0.07194245,\n",
       "         0.07194245, 0.10071942, 0.10071942, 0.12230216, 0.12230216,\n",
       "         0.13669065, 0.13669065, 0.15827338, 0.15827338, 0.22302158,\n",
       "         0.22302158, 0.25899281, 0.25899281, 0.31654676, 0.31654676,\n",
       "         0.35251799, 0.35251799, 0.37410072, 0.37410072, 0.38848921,\n",
       "         0.38848921, 0.41726619, 0.41726619, 0.43884892, 0.43884892,\n",
       "         0.45323741, 0.45323741, 0.48201439, 0.48201439, 0.51079137,\n",
       "         0.51079137, 0.55395683, 0.55395683, 0.56115108, 0.56115108,\n",
       "         0.56834532, 0.56834532, 0.57553957, 0.57553957, 0.5971223 ,\n",
       "         0.5971223 , 0.60431655, 0.60431655, 0.62589928, 0.62589928,\n",
       "         0.63309353, 0.63309353, 0.64028777, 0.64028777, 0.64748201,\n",
       "         0.64748201, 0.68345324, 0.68345324, 0.69064748, 0.69064748,\n",
       "         0.71223022, 0.71223022, 0.71942446, 0.71942446, 0.72661871,\n",
       "         0.72661871, 0.75539568, 0.75539568, 0.76258993, 0.76258993,\n",
       "         0.76978417, 0.76978417, 0.77697842, 0.77697842, 0.78417266,\n",
       "         0.78417266, 0.79856115, 0.79856115, 0.8057554 , 0.8057554 ,\n",
       "         0.81294964, 0.81294964, 0.82014388, 0.82014388, 0.82733813,\n",
       "         0.82733813, 0.85611511, 0.85611511, 0.86330935, 0.86330935,\n",
       "         0.8705036 , 0.8705036 , 0.87769784, 0.87769784, 0.88489209,\n",
       "         0.88489209, 0.89208633, 0.89208633, 0.89928058, 0.89928058,\n",
       "         0.90647482, 0.90647482, 0.92805755, 0.92805755, 0.9352518 ,\n",
       "         0.9352518 , 0.94244604, 0.94244604, 0.94964029, 0.94964029,\n",
       "         0.95683453, 0.95683453, 0.97841727, 0.97841727, 0.98561151,\n",
       "         0.98561151, 0.99280576, 0.99280576, 1.        , 1.        ])},\n",
       " 5: {'auc': 0.8317892448631022,\n",
       "  'fpr': array([0.        , 0.        , 0.        , 0.01438849, 0.01438849,\n",
       "         0.02158273, 0.02158273, 0.02877698, 0.02877698, 0.03597122,\n",
       "         0.03597122, 0.04316547, 0.04316547, 0.05035971, 0.05035971,\n",
       "         0.05755396, 0.05755396, 0.07194245, 0.07194245, 0.07913669,\n",
       "         0.07913669, 0.08633094, 0.08633094, 0.09352518, 0.09352518,\n",
       "         0.10791367, 0.10791367, 0.11510791, 0.11510791, 0.12230216,\n",
       "         0.12230216, 0.1294964 , 0.1294964 , 0.13669065, 0.13669065,\n",
       "         0.14388489, 0.14388489, 0.16546763, 0.16546763, 0.17266187,\n",
       "         0.17266187, 0.1942446 , 0.1942446 , 0.20143885, 0.20143885,\n",
       "         0.20863309, 0.20863309, 0.22302158, 0.22302158, 0.23741007,\n",
       "         0.23741007, 0.25179856, 0.25179856, 0.25899281, 0.25899281,\n",
       "         0.26618705, 0.26618705, 0.28776978, 0.28776978, 0.30215827,\n",
       "         0.30215827, 0.30935252, 0.30935252, 0.33093525, 0.33093525,\n",
       "         0.34532374, 0.34532374, 0.35251799, 0.35251799, 0.35971223,\n",
       "         0.35971223, 0.36690647, 0.36690647, 0.39568345, 0.39568345,\n",
       "         0.43884892, 0.43884892, 0.45323741, 0.45323741, 0.46043165,\n",
       "         0.46043165, 0.4676259 , 0.4676259 , 0.47482014, 0.47482014,\n",
       "         0.48201439, 0.48201439, 0.50359712, 0.50359712, 0.53956835,\n",
       "         0.53956835, 0.54676259, 0.54676259, 0.58992806, 0.58992806,\n",
       "         0.63309353, 0.63309353, 0.66906475, 0.66906475, 0.69064748,\n",
       "         0.69064748, 1.        ]),\n",
       "  'tpr': array([0.        , 0.00719424, 0.07194245, 0.07194245, 0.11510791,\n",
       "         0.11510791, 0.23741007, 0.23741007, 0.26618705, 0.26618705,\n",
       "         0.27338129, 0.27338129, 0.34532374, 0.34532374, 0.39568345,\n",
       "         0.39568345, 0.43884892, 0.43884892, 0.4676259 , 0.4676259 ,\n",
       "         0.48920863, 0.48920863, 0.49640288, 0.49640288, 0.51079137,\n",
       "         0.51079137, 0.5323741 , 0.5323741 , 0.55395683, 0.55395683,\n",
       "         0.56834532, 0.56834532, 0.57553957, 0.57553957, 0.60431655,\n",
       "         0.60431655, 0.61870504, 0.61870504, 0.64028777, 0.64028777,\n",
       "         0.64748201, 0.64748201, 0.6618705 , 0.6618705 , 0.68345324,\n",
       "         0.68345324, 0.69064748, 0.69064748, 0.69784173, 0.69784173,\n",
       "         0.71223022, 0.71223022, 0.73381295, 0.73381295, 0.75539568,\n",
       "         0.75539568, 0.76978417, 0.76978417, 0.77697842, 0.77697842,\n",
       "         0.78417266, 0.78417266, 0.79136691, 0.79136691, 0.79856115,\n",
       "         0.79856115, 0.82733813, 0.82733813, 0.84172662, 0.84172662,\n",
       "         0.84892086, 0.84892086, 0.85611511, 0.85611511, 0.8705036 ,\n",
       "         0.8705036 , 0.88489209, 0.88489209, 0.89208633, 0.89208633,\n",
       "         0.89928058, 0.89928058, 0.90647482, 0.90647482, 0.91366906,\n",
       "         0.91366906, 0.92805755, 0.92805755, 0.9352518 , 0.9352518 ,\n",
       "         0.94964029, 0.94964029, 0.97122302, 0.97122302, 0.97841727,\n",
       "         0.97841727, 0.98561151, 0.98561151, 0.99280576, 0.99280576,\n",
       "         1.        , 1.        ])},\n",
       " 6: {'auc': 0.8136742404637441,\n",
       "  'fpr': array([0.        , 0.00719424, 0.00719424, 0.01438849, 0.01438849,\n",
       "         0.02158273, 0.02158273, 0.02877698, 0.02877698, 0.03597122,\n",
       "         0.03597122, 0.04316547, 0.04316547, 0.05035971, 0.05035971,\n",
       "         0.05755396, 0.05755396, 0.0647482 , 0.0647482 , 0.07194245,\n",
       "         0.07194245, 0.09352518, 0.09352518, 0.10071942, 0.10071942,\n",
       "         0.10791367, 0.10791367, 0.12230216, 0.12230216, 0.13669065,\n",
       "         0.13669065, 0.14388489, 0.14388489, 0.15827338, 0.15827338,\n",
       "         0.16546763, 0.16546763, 0.18705036, 0.18705036, 0.20143885,\n",
       "         0.20143885, 0.21582734, 0.21582734, 0.22302158, 0.22302158,\n",
       "         0.23021583, 0.23021583, 0.24460432, 0.24460432, 0.25179856,\n",
       "         0.25179856, 0.28057554, 0.28057554, 0.28776978, 0.28776978,\n",
       "         0.30935252, 0.30935252, 0.31654676, 0.31654676, 0.3381295 ,\n",
       "         0.3381295 , 0.35251799, 0.35251799, 0.35971223, 0.35971223,\n",
       "         0.36690647, 0.36690647, 0.37410072, 0.37410072, 0.38848921,\n",
       "         0.38848921, 0.41726619, 0.41726619, 0.42446043, 0.42446043,\n",
       "         0.45323741, 0.45323741, 0.58273381, 0.58273381, 0.58992806,\n",
       "         0.58992806, 0.5971223 , 0.5971223 , 0.66906475, 0.66906475,\n",
       "         0.71223022, 0.71223022, 0.71942446, 0.71942446, 0.75539568,\n",
       "         0.75539568, 0.76978417, 0.76978417, 0.8057554 , 0.8057554 ,\n",
       "         0.91366906, 0.91366906, 1.        ]),\n",
       "  'tpr': array([0.        , 0.        , 0.10071942, 0.10071942, 0.16546763,\n",
       "         0.16546763, 0.17985612, 0.17985612, 0.1942446 , 0.1942446 ,\n",
       "         0.25899281, 0.25899281, 0.35251799, 0.35251799, 0.35971223,\n",
       "         0.35971223, 0.43165468, 0.43165468, 0.4676259 , 0.4676259 ,\n",
       "         0.48920863, 0.48920863, 0.50359712, 0.50359712, 0.51798561,\n",
       "         0.51798561, 0.52517986, 0.52517986, 0.54676259, 0.54676259,\n",
       "         0.56115108, 0.56115108, 0.56834532, 0.56834532, 0.57553957,\n",
       "         0.57553957, 0.58992806, 0.58992806, 0.60431655, 0.60431655,\n",
       "         0.62589928, 0.62589928, 0.63309353, 0.63309353, 0.64748201,\n",
       "         0.64748201, 0.67625899, 0.67625899, 0.70503597, 0.70503597,\n",
       "         0.71223022, 0.71223022, 0.74100719, 0.74100719, 0.79136691,\n",
       "         0.79136691, 0.81294964, 0.81294964, 0.83453237, 0.83453237,\n",
       "         0.84172662, 0.84172662, 0.84892086, 0.84892086, 0.85611511,\n",
       "         0.85611511, 0.86330935, 0.86330935, 0.8705036 , 0.8705036 ,\n",
       "         0.88489209, 0.88489209, 0.89208633, 0.89208633, 0.89928058,\n",
       "         0.89928058, 0.91366906, 0.91366906, 0.92086331, 0.92086331,\n",
       "         0.92805755, 0.92805755, 0.9352518 , 0.9352518 , 0.94244604,\n",
       "         0.94244604, 0.94964029, 0.94964029, 0.95683453, 0.95683453,\n",
       "         0.97841727, 0.97841727, 0.98561151, 0.98561151, 0.99280576,\n",
       "         0.99280576, 1.        , 1.        ])},\n",
       " 7: {'auc': 0.7690078153304694,\n",
       "  'fpr': array([0.        , 0.        , 0.        , 0.01438849, 0.01438849,\n",
       "         0.02158273, 0.02158273, 0.03597122, 0.03597122, 0.04316547,\n",
       "         0.04316547, 0.05035971, 0.05035971, 0.05755396, 0.05755396,\n",
       "         0.07913669, 0.07913669, 0.08633094, 0.08633094, 0.09352518,\n",
       "         0.09352518, 0.10071942, 0.10071942, 0.10791367, 0.10791367,\n",
       "         0.11510791, 0.11510791, 0.1294964 , 0.1294964 , 0.13669065,\n",
       "         0.13669065, 0.14388489, 0.14388489, 0.15107914, 0.15107914,\n",
       "         0.16546763, 0.16546763, 0.18705036, 0.18705036, 0.20143885,\n",
       "         0.20143885, 0.21582734, 0.21582734, 0.22302158, 0.22302158,\n",
       "         0.23741007, 0.23741007, 0.25179856, 0.25179856, 0.27338129,\n",
       "         0.27338129, 0.28057554, 0.28057554, 0.29496403, 0.29496403,\n",
       "         0.30215827, 0.30215827, 0.30935252, 0.30935252, 0.3381295 ,\n",
       "         0.3381295 , 0.35251799, 0.35251799, 0.38129496, 0.38129496,\n",
       "         0.4028777 , 0.4028777 , 0.43165468, 0.43165468, 0.46043165,\n",
       "         0.46043165, 0.47482014, 0.47482014, 0.48201439, 0.48201439,\n",
       "         0.51798561, 0.51798561, 0.5323741 , 0.5323741 , 0.56834532,\n",
       "         0.56834532, 0.57553957, 0.57553957, 0.62589928, 0.62589928,\n",
       "         0.63309353, 0.63309353, 0.64028777, 0.64028777, 0.68345324,\n",
       "         0.68345324, 0.70503597, 0.70503597, 0.75539568, 0.75539568,\n",
       "         0.76978417, 0.76978417, 0.81294964, 0.81294964, 0.84172662,\n",
       "         0.84172662, 0.89208633, 0.89208633, 0.95683453, 0.95683453,\n",
       "         1.        ]),\n",
       "  'tpr': array([0.        , 0.00719424, 0.04316547, 0.04316547, 0.10071942,\n",
       "         0.10071942, 0.10791367, 0.10791367, 0.17985612, 0.17985612,\n",
       "         0.18705036, 0.18705036, 0.23741007, 0.23741007, 0.27338129,\n",
       "         0.27338129, 0.28776978, 0.28776978, 0.35971223, 0.35971223,\n",
       "         0.4028777 , 0.4028777 , 0.41726619, 0.41726619, 0.42446043,\n",
       "         0.42446043, 0.43165468, 0.43165468, 0.43884892, 0.43884892,\n",
       "         0.44604317, 0.44604317, 0.46043165, 0.46043165, 0.48920863,\n",
       "         0.48920863, 0.49640288, 0.49640288, 0.52517986, 0.52517986,\n",
       "         0.5323741 , 0.5323741 , 0.54676259, 0.54676259, 0.5971223 ,\n",
       "         0.5971223 , 0.62589928, 0.62589928, 0.66906475, 0.66906475,\n",
       "         0.69064748, 0.69064748, 0.71223022, 0.71223022, 0.73381295,\n",
       "         0.73381295, 0.76258993, 0.76258993, 0.77697842, 0.77697842,\n",
       "         0.79136691, 0.79136691, 0.79856115, 0.79856115, 0.81294964,\n",
       "         0.81294964, 0.82014388, 0.82014388, 0.83453237, 0.83453237,\n",
       "         0.85611511, 0.85611511, 0.86330935, 0.86330935, 0.8705036 ,\n",
       "         0.8705036 , 0.87769784, 0.87769784, 0.89208633, 0.89208633,\n",
       "         0.90647482, 0.90647482, 0.91366906, 0.91366906, 0.92086331,\n",
       "         0.92086331, 0.92805755, 0.92805755, 0.9352518 , 0.9352518 ,\n",
       "         0.94244604, 0.94244604, 0.94964029, 0.94964029, 0.95683453,\n",
       "         0.95683453, 0.96402878, 0.96402878, 0.97841727, 0.97841727,\n",
       "         0.98561151, 0.98561151, 0.99280576, 0.99280576, 1.        ,\n",
       "         1.        ])},\n",
       " 8: {'auc': 0.7765643600227731,\n",
       "  'fpr': array([0.        , 0.        , 0.        , 0.00719424, 0.00719424,\n",
       "         0.01438849, 0.01438849, 0.02158273, 0.02158273, 0.02877698,\n",
       "         0.02877698, 0.03597122, 0.03597122, 0.04316547, 0.04316547,\n",
       "         0.05755396, 0.05755396, 0.07194245, 0.07194245, 0.10071942,\n",
       "         0.10071942, 0.10791367, 0.10791367, 0.11510791, 0.11510791,\n",
       "         0.1294964 , 0.1294964 , 0.13669065, 0.13669065, 0.15107914,\n",
       "         0.15107914, 0.15827338, 0.15827338, 0.17266187, 0.17266187,\n",
       "         0.18705036, 0.18705036, 0.20143885, 0.20143885, 0.21582734,\n",
       "         0.21582734, 0.22302158, 0.22302158, 0.23021583, 0.23021583,\n",
       "         0.24460432, 0.24460432, 0.25899281, 0.25899281, 0.26618705,\n",
       "         0.26618705, 0.27338129, 0.27338129, 0.30215827, 0.30215827,\n",
       "         0.30935252, 0.30935252, 0.31654676, 0.31654676, 0.33093525,\n",
       "         0.33093525, 0.35251799, 0.35251799, 0.36690647, 0.36690647,\n",
       "         0.38848921, 0.38848921, 0.41007194, 0.41007194, 0.42446043,\n",
       "         0.42446043, 0.45323741, 0.45323741, 0.46043165, 0.46043165,\n",
       "         0.47482014, 0.47482014, 0.49640288, 0.49640288, 0.54676259,\n",
       "         0.54676259, 0.62589928, 0.62589928, 0.63309353, 0.63309353,\n",
       "         0.64028777, 0.64028777, 0.65467626, 0.65467626, 0.6618705 ,\n",
       "         0.6618705 , 0.66906475, 0.66906475, 0.69064748, 0.69064748,\n",
       "         0.74820144, 0.74820144, 0.77697842, 0.77697842, 0.78417266,\n",
       "         0.78417266, 0.82733813, 0.82733813, 0.94244604, 0.94244604,\n",
       "         0.97841727, 0.97841727, 1.        ]),\n",
       "  'tpr': array([0.        , 0.00719424, 0.04316547, 0.04316547, 0.16546763,\n",
       "         0.16546763, 0.18705036, 0.18705036, 0.1942446 , 0.1942446 ,\n",
       "         0.24460432, 0.24460432, 0.27338129, 0.27338129, 0.30935252,\n",
       "         0.30935252, 0.31654676, 0.31654676, 0.38848921, 0.38848921,\n",
       "         0.39568345, 0.39568345, 0.44604317, 0.44604317, 0.46043165,\n",
       "         0.46043165, 0.48920863, 0.48920863, 0.51079137, 0.51079137,\n",
       "         0.52517986, 0.52517986, 0.54676259, 0.54676259, 0.55395683,\n",
       "         0.55395683, 0.58273381, 0.58273381, 0.5971223 , 0.5971223 ,\n",
       "         0.60431655, 0.60431655, 0.61870504, 0.61870504, 0.62589928,\n",
       "         0.62589928, 0.65467626, 0.65467626, 0.6618705 , 0.6618705 ,\n",
       "         0.66906475, 0.66906475, 0.67625899, 0.67625899, 0.68345324,\n",
       "         0.68345324, 0.69064748, 0.69064748, 0.70503597, 0.70503597,\n",
       "         0.73381295, 0.73381295, 0.75539568, 0.75539568, 0.76258993,\n",
       "         0.76258993, 0.78417266, 0.78417266, 0.79856115, 0.79856115,\n",
       "         0.8057554 , 0.8057554 , 0.85611511, 0.85611511, 0.87769784,\n",
       "         0.87769784, 0.88489209, 0.88489209, 0.89208633, 0.89208633,\n",
       "         0.89928058, 0.89928058, 0.90647482, 0.90647482, 0.91366906,\n",
       "         0.91366906, 0.92805755, 0.92805755, 0.9352518 , 0.9352518 ,\n",
       "         0.94244604, 0.94244604, 0.94964029, 0.94964029, 0.95683453,\n",
       "         0.95683453, 0.96402878, 0.96402878, 0.97122302, 0.97122302,\n",
       "         0.97841727, 0.97841727, 0.98561151, 0.98561151, 0.99280576,\n",
       "         0.99280576, 1.        , 1.        ])},\n",
       " 9: {'auc': 0.7971119507271881,\n",
       "  'fpr': array([0.        , 0.        , 0.        , 0.00719424, 0.00719424,\n",
       "         0.02877698, 0.02877698, 0.03597122, 0.03597122, 0.04316547,\n",
       "         0.04316547, 0.05035971, 0.05035971, 0.05755396, 0.05755396,\n",
       "         0.07194245, 0.07194245, 0.07913669, 0.07913669, 0.10071942,\n",
       "         0.10071942, 0.11510791, 0.11510791, 0.12230216, 0.12230216,\n",
       "         0.1294964 , 0.1294964 , 0.14388489, 0.14388489, 0.15107914,\n",
       "         0.15107914, 0.15827338, 0.15827338, 0.16546763, 0.16546763,\n",
       "         0.17266187, 0.17266187, 0.17985612, 0.17985612, 0.18705036,\n",
       "         0.18705036, 0.1942446 , 0.1942446 , 0.20863309, 0.20863309,\n",
       "         0.22302158, 0.22302158, 0.25899281, 0.25899281, 0.29496403,\n",
       "         0.29496403, 0.30935252, 0.30935252, 0.31654676, 0.31654676,\n",
       "         0.33093525, 0.33093525, 0.36690647, 0.36690647, 0.38129496,\n",
       "         0.38129496, 0.4028777 , 0.4028777 , 0.41007194, 0.41007194,\n",
       "         0.42446043, 0.42446043, 0.45323741, 0.45323741, 0.46043165,\n",
       "         0.46043165, 0.4676259 , 0.4676259 , 0.50359712, 0.50359712,\n",
       "         0.51798561, 0.51798561, 0.57553957, 0.57553957, 0.58273381,\n",
       "         0.58273381, 0.60431655, 0.60431655, 0.61151079, 0.61151079,\n",
       "         0.62589928, 0.62589928, 0.64028777, 0.64028777, 0.69784173,\n",
       "         0.69784173, 0.83453237, 0.83453237, 0.85611511, 0.85611511,\n",
       "         0.88489209, 0.88489209, 1.        ]),\n",
       "  'tpr': array([0.        , 0.00719424, 0.02877698, 0.02877698, 0.1942446 ,\n",
       "         0.1942446 , 0.20143885, 0.20143885, 0.29496403, 0.29496403,\n",
       "         0.31654676, 0.31654676, 0.34532374, 0.34532374, 0.35971223,\n",
       "         0.35971223, 0.41007194, 0.41007194, 0.41726619, 0.41726619,\n",
       "         0.47482014, 0.47482014, 0.48201439, 0.48201439, 0.48920863,\n",
       "         0.48920863, 0.50359712, 0.50359712, 0.51079137, 0.51079137,\n",
       "         0.53956835, 0.53956835, 0.57553957, 0.57553957, 0.58992806,\n",
       "         0.58992806, 0.5971223 , 0.5971223 , 0.61151079, 0.61151079,\n",
       "         0.62589928, 0.62589928, 0.65467626, 0.65467626, 0.66906475,\n",
       "         0.66906475, 0.67625899, 0.67625899, 0.68345324, 0.68345324,\n",
       "         0.71223022, 0.71223022, 0.71942446, 0.71942446, 0.72661871,\n",
       "         0.72661871, 0.75539568, 0.75539568, 0.79856115, 0.79856115,\n",
       "         0.8057554 , 0.8057554 , 0.82014388, 0.82014388, 0.82733813,\n",
       "         0.82733813, 0.84892086, 0.84892086, 0.85611511, 0.85611511,\n",
       "         0.86330935, 0.86330935, 0.88489209, 0.88489209, 0.89208633,\n",
       "         0.89208633, 0.90647482, 0.90647482, 0.92086331, 0.92086331,\n",
       "         0.9352518 , 0.9352518 , 0.94244604, 0.94244604, 0.94964029,\n",
       "         0.94964029, 0.96402878, 0.96402878, 0.97122302, 0.97122302,\n",
       "         0.97841727, 0.97841727, 0.98561151, 0.98561151, 0.99280576,\n",
       "         0.99280576, 1.        , 1.        ])}}"
      ]
     },
     "execution_count": 11,
     "metadata": {},
     "output_type": "execute_result"
    }
   ],
   "source": [
    "test_aucs"
   ]
  },
  {
   "cell_type": "code",
   "execution_count": 12,
   "id": "f7e00245",
   "metadata": {
    "scrolled": true
   },
   "outputs": [
    {
     "data": {
      "text/plain": [
       "0.7578969880060369"
      ]
     },
     "execution_count": 12,
     "metadata": {},
     "output_type": "execute_result"
    }
   ],
   "source": [
    "from sklearn.metrics import confusion_matrix, recall_score, precision_score, precision_recall_curve, auc\n",
    "\n",
    "# help(precision_recall_curve)\n",
    "\n",
    "model.to(DEVICE).eval()\n",
    "X = X.to(DEVICE)\n",
    "edge_index = edge_index.to(DEVICE)\n",
    "    \n",
    "with torch.no_grad():\n",
    "    logits = model(X, edge_index)\n",
    "probs = torch.sigmoid(logits)\n",
    "probs = probs.cpu().numpy()\n",
    "\n",
    "precision, recall, thresholds = precision_recall_curve(test_y, probs[test_idx], pos_label=1)\n",
    "\n",
    "# precision\n",
    "\n",
    "auc(recall, precision)\n",
    "\n",
    "# confusion_matrix(test_y, probs[test_idx].round(), labels=(1, 0))"
   ]
  },
  {
   "cell_type": "code",
   "execution_count": null,
   "id": "01419988",
   "metadata": {},
   "outputs": [],
   "source": []
  },
  {
   "cell_type": "code",
   "execution_count": 12,
   "id": "3c5843a0",
   "metadata": {},
   "outputs": [
    {
     "name": "stdout",
     "output_type": "stream",
     "text": [
      "Number of labels before filtering: 20398\n",
      "Number of labels after filtering: 15939\n"
     ]
    }
   ],
   "source": [
    "ppi = 'integrate'\n",
    "# edges and edge_weights\n",
    "ppi_path = os.path.join(\n",
    "    DATA_ROOT,           \n",
    "    f'PPIN/{ppi.upper()}.csv'\n",
    ")\n",
    "edges = pd.read_csv(ppi_path)\n",
    "edge_weights = None\n",
    "    \n",
    "if (ppi in ['string']) and (weights==True):      \n",
    "    key = 'combined_score'\n",
    "    edges = edges[edges.loc[:, key] > weights_thr].reset_index()\n",
    "    edge_weights = edges['combined_score'] / 1000\n",
    "    print(f'Filtered {ppi} network with thresh:', weights_thr)\n",
    "    \n",
    "edges = edges[['A', 'B']].copy()\n",
    "edges = edges.dropna()\n",
    "edges, index = edges.values, edges.index.values\n",
    "ppi_genes = np.union1d(edges[:, 0], edges[:, 1])\n",
    "if edge_weights is not None:\n",
    "    edge_weights = edge_weights.iloc[index].values\n",
    "    \n",
    "# labels\n",
    "label_path = os.path.join(\n",
    "    DATA_ROOT,\n",
    "    f'Label/labels.csv'\n",
    ")\n",
    "labels = pd.read_csv(label_path).set_index('Gene')\n",
    "\n",
    "## filter labels not in the PPI network\n",
    "print('Number of labels before filtering:', len(labels))\n",
    "labels = labels.loc[np.intersect1d(labels.index, ppi_genes)].copy()\n",
    "print('Number of labels after filtering:', len(labels))"
   ]
  },
  {
   "cell_type": "code",
   "execution_count": 14,
   "id": "4b76e262",
   "metadata": {},
   "outputs": [],
   "source": [
    "ratio = 1\n",
    "pos_samples = labels[labels['label']==1]\n",
    "neg_samples = labels[labels['label']==0].sample(n=pos_samples.shape[0] * ratio, random_state=0)\n",
    "labels = pd.concat([pos_samples, neg_samples]).sort_index()"
   ]
  },
  {
   "cell_type": "code",
   "execution_count": 16,
   "id": "e0738822",
   "metadata": {},
   "outputs": [
    {
     "data": {
      "text/plain": [
       "label\n",
       "0        694\n",
       "1        694\n",
       "dtype: int64"
      ]
     },
     "execution_count": 16,
     "metadata": {},
     "output_type": "execute_result"
    }
   ],
   "source": [
    "labels.value_counts()"
   ]
  },
  {
   "cell_type": "code",
   "execution_count": null,
   "id": "11a51d4a",
   "metadata": {},
   "outputs": [],
   "source": []
  },
  {
   "cell_type": "code",
   "execution_count": null,
   "id": "571d3fd9",
   "metadata": {},
   "outputs": [],
   "source": []
  },
  {
   "cell_type": "code",
   "execution_count": 57,
   "id": "7bb78da3",
   "metadata": {},
   "outputs": [],
   "source": [
    "## train and test split\n",
    "train_ds, test_ds = train_test_split(\n",
    "    labels,\n",
    "    test_size=.2,\n",
    "    random_state=1234,\n",
    "    stratify=labels\n",
    ")"
   ]
  },
  {
   "cell_type": "code",
   "execution_count": 71,
   "id": "1491f240",
   "metadata": {},
   "outputs": [],
   "source": [
    "pos_samples = train_ds[train_ds['label']==1]\n",
    "neg_samples = train_ds[train_ds['label']==0].sample(n=pos_samples.shape[0] * 3, random_state=0)\n",
    "train_ds = pd.concat([pos_samples, neg_samples]).sort_index()"
   ]
  },
  {
   "cell_type": "code",
   "execution_count": null,
   "id": "6283ce15",
   "metadata": {},
   "outputs": [],
   "source": []
  },
  {
   "cell_type": "code",
   "execution_count": null,
   "id": "c9b2df39",
   "metadata": {},
   "outputs": [],
   "source": []
  },
  {
   "cell_type": "code",
   "execution_count": null,
   "id": "bc4f3256",
   "metadata": {},
   "outputs": [],
   "source": []
  },
  {
   "cell_type": "code",
   "execution_count": 13,
   "id": "e2def254-6295-49c4-b349-54dd65cd2b25",
   "metadata": {},
   "outputs": [],
   "source": [
    "# average AUC for validation set\n",
    "avgValAUC = np.mean([v['auc'] for v in val_aucs.values()])\n",
    "# average AUC for test set\n",
    "avgTestAUC = np.mean([v['auc'] for v in test_aucs.values()])"
   ]
  },
  {
   "cell_type": "code",
   "execution_count": 14,
   "id": "6db819bf-9514-4d90-b2f2-c6eae8bd9cf2",
   "metadata": {},
   "outputs": [
    {
     "name": "stdout",
     "output_type": "stream",
     "text": [
      "Average AUC for val: 0.79, test: 0.79\n"
     ]
    }
   ],
   "source": [
    "print('Average AUC for val: {:.2f}, test: {:.2f}'.format(avgValAUC, avgTestAUC))"
   ]
  },
  {
   "cell_type": "code",
   "execution_count": null,
   "id": "a087b63f-b4b7-4f84-ab56-ab9cde4e4677",
   "metadata": {},
   "outputs": [],
   "source": []
  },
  {
   "cell_type": "code",
   "execution_count": 12,
   "id": "249ae4cf-7fbe-4e92-bf97-fd947ba65639",
   "metadata": {},
   "outputs": [
    {
     "name": "stderr",
     "output_type": "stream",
     "text": [
      "100%|██████████| 10/10 [00:00<00:00, 42.56it/s]\n"
     ]
    }
   ],
   "source": [
    "# mkdir\n",
    "SAVE_ROOT = './saves/INTEGRATE_ProSE80d/'\n",
    "if not os.path.exists(SAVE_ROOT):\n",
    "    os.mkdir(SAVE_ROOT)\n",
    "    os.mkdir(os.path.join(SAVE_ROOT, f'embeddings/'))\n",
    "    os.mkdir(os.path.join(SAVE_ROOT, f'pairwise_cosine/'))\n",
    "    os.mkdir(os.path.join(SAVE_ROOT, f'edge_cosine/'))\n",
    "    os.mkdir(os.path.join(SAVE_ROOT, f'models/'))\n",
    "    \n",
    "# save models\n",
    "for idx, model in tqdm(models.items()):\n",
    "    torch.save(model, os.path.join(SAVE_ROOT, f'models/model_{idx}.pt'))\n",
    "    torch.save(model.featuremap1.cpu(), os.path.join(SAVE_ROOT, f'embeddings/model_{idx}.pt'))\n",
    "\n",
    "# save results\n",
    "import pickle\n",
    "dict1 = {\n",
    "    'preds': preds,\n",
    "    'val_aucs': val_aucs,\n",
    "    'test_aucs': test_aucs,\n",
    "    'genes': genes\n",
    "}\n",
    "for key, val in dict1.items():\n",
    "    with open(os.path.join(SAVE_ROOT, f'{key}.pkl'), 'wb') as f:\n",
    "        pickle.dump(val, f)\n",
    "\n",
    "# with open('saved_dictionary.pkl', 'rb') as f:\n",
    "#     loaded_dict = pickle.load(f)"
   ]
  },
  {
   "cell_type": "code",
   "execution_count": null,
   "id": "20a740bd-2c84-43c5-b1a1-a182e93df3b9",
   "metadata": {},
   "outputs": [],
   "source": []
  },
  {
   "cell_type": "code",
   "execution_count": 13,
   "id": "27b421b4-682d-4ed5-9bc1-833e9bb59285",
   "metadata": {},
   "outputs": [],
   "source": [
    "from sklearn.metrics.pairwise import cosine_distances, cosine_similarity\n",
    "\n",
    "def save_models(ppi, model):\n",
    "    ppi_path = os.path.join(\n",
    "        DATA_ROOT,           \n",
    "        f'PPIN/{ppi.upper()}.csv'\n",
    "    )\n",
    "    edges = pd.read_csv(ppi_path)\n",
    "\n",
    "    featuremap = model.featuremap1.cpu()\n",
    "    featuremap_cosine = pd.DataFrame(cosine_similarity(featuremap))\n",
    "    featuremap_cosine.columns, featuremap_cosine.index = genes, genes\n",
    "\n",
    "    cosim_list = list()\n",
    "    for _, x in edges.iterrows():\n",
    "        cosim = featuremap_cosine[x['A']][x['B']]\n",
    "        cosim_list.append(cosim)\n",
    "    edges['cosim'] = cosim_list\n",
    "    edges.loc[edges['cosim'] < 0, 'cosim'] = 0\n",
    "    edges.loc[edges['cosim'] > 1, 'cosim'] = 1\n",
    "    \n",
    "    return featuremap_cosine, edges"
   ]
  },
  {
   "cell_type": "code",
   "execution_count": 14,
   "id": "93c8e066-2c4e-41cb-9dd5-7d8e8284e77c",
   "metadata": {},
   "outputs": [
    {
     "name": "stderr",
     "output_type": "stream",
     "text": [
      "100%|██████████| 10/10 [02:52<00:00, 17.23s/it]\n"
     ]
    }
   ],
   "source": [
    "# save node embeddings\n",
    "for idx, model in tqdm(models.items()):\n",
    "    featuremap_cosine, featuremap_edge = save_models('integrate', model)\n",
    "    featuremap_cosine.to_pickle(os.path.join(SAVE_ROOT, f'pairwise_cosine/model_{idx}.pkl'))\n",
    "    featuremap_edge.to_pickle(os.path.join(SAVE_ROOT, f'edge_cosine/model_{idx}.pkl'))"
   ]
  },
  {
   "cell_type": "code",
   "execution_count": null,
   "id": "0ef70d67-f830-41f9-8a09-c56a085d6643",
   "metadata": {},
   "outputs": [],
   "source": []
  }
 ],
 "metadata": {
  "kernelspec": {
   "display_name": "Python 3",
   "language": "python",
   "name": "python3"
  },
  "language_info": {
   "codemirror_mode": {
    "name": "ipython",
    "version": 3
   },
   "file_extension": ".py",
   "mimetype": "text/x-python",
   "name": "python",
   "nbconvert_exporter": "python",
   "pygments_lexer": "ipython3",
   "version": "3.7.16"
  },
  "toc": {
   "base_numbering": 1,
   "nav_menu": {},
   "number_sections": true,
   "sideBar": true,
   "skip_h1_title": false,
   "title_cell": "Table of Contents",
   "title_sidebar": "Contents",
   "toc_cell": false,
   "toc_position": {},
   "toc_section_display": true,
   "toc_window_display": false
  }
 },
 "nbformat": 4,
 "nbformat_minor": 5
}
